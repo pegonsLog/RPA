{
 "cells": [
  {
   "cell_type": "markdown",
   "id": "592f918a",
   "metadata": {},
   "source": [
    "# Estruturas de controle\n",
    "****\n",
    "\n",
    "As estruturas de controle são essenciais em programação para controlar o fluxo de execução do código. Duas das estruturas mais fundamentais são as estruturas condicionais e de repetição."
   ]
  },
  {
   "cell_type": "markdown",
   "id": "7eb794f2",
   "metadata": {},
   "source": [
    "### Estruturas Condicionais\n",
    "As estruturas condicionais permitem que um programa tome decisões com base em condições específicas. Em Python, a estrutura condicional básica é o if, que pode ser estendido com elif e else para lidar com múltiplas condições."
   ]
  },
  {
   "cell_type": "markdown",
   "id": "9ac8dd15",
   "metadata": {},
   "source": [
    "Exemplo 1: Verificação de Idade para Entrada em um Bar"
   ]
  },
  {
   "cell_type": "code",
   "execution_count": 1,
   "id": "e970def1",
   "metadata": {},
   "outputs": [
    {
     "name": "stdout",
     "output_type": "stream",
     "text": [
      "Pode entrar no bar\n"
     ]
    }
   ],
   "source": []
  },
  {
   "cell_type": "markdown",
   "id": "8c828ce2",
   "metadata": {},
   "source": [
    "Exemplo 2: Classificação de Números"
   ]
  },
  {
   "cell_type": "code",
   "execution_count": 4,
   "id": "dd9ad2db",
   "metadata": {},
   "outputs": [
    {
     "name": "stdout",
     "output_type": "stream",
     "text": [
      "0\n"
     ]
    }
   ],
   "source": []
  },
  {
   "cell_type": "markdown",
   "id": "acec2ede",
   "metadata": {},
   "source": [
    "### Estruturas de Repetição\n",
    "As estruturas de repetição permitem que um conjunto de instruções seja executado repetidamente enquanto uma condição é verdadeira. Em Python, temos os loops for e while."
   ]
  },
  {
   "cell_type": "markdown",
   "id": "2528a127",
   "metadata": {},
   "source": [
    "Exemplo 1: Impressão de Números Pares com Loop For"
   ]
  },
  {
   "cell_type": "code",
   "execution_count": 6,
   "id": "c5e4b5bb",
   "metadata": {},
   "outputs": [
    {
     "name": "stdout",
     "output_type": "stream",
     "text": [
      "0\n",
      "2\n",
      "4\n",
      "6\n",
      "8\n",
      "10\n",
      "12\n",
      "14\n",
      "16\n",
      "18\n"
     ]
    }
   ],
   "source": []
  },
  {
   "cell_type": "markdown",
   "id": "141dfc44",
   "metadata": {},
   "source": [
    "Exemplo 2: Impressão de tarefas em uma lista"
   ]
  },
  {
   "cell_type": "code",
   "execution_count": 7,
   "id": "6162ba68",
   "metadata": {},
   "outputs": [
    {
     "name": "stdout",
     "output_type": "stream",
     "text": [
      "Acordar as 6:00\n",
      "Estudar\n",
      "Fazer atividade física\n",
      "trabalhar\n"
     ]
    }
   ],
   "source": []
  },
  {
   "cell_type": "markdown",
   "id": "b32d481d",
   "metadata": {},
   "source": [
    "Exemplo 3: Impressão de tarefas em uma lista com indice"
   ]
  },
  {
   "cell_type": "code",
   "execution_count": 9,
   "id": "11a9160a",
   "metadata": {},
   "outputs": [
    {
     "name": "stdout",
     "output_type": "stream",
     "text": [
      "1 - Acordar as 6:00\n",
      "2 - Estudar\n",
      "3 - Fazer atividade física\n",
      "4 - trabalhar\n"
     ]
    }
   ],
   "source": []
  },
  {
   "cell_type": "markdown",
   "id": "c109d5ac",
   "metadata": {},
   "source": [
    "Exemplo 4: Impressão de dados em dicionário"
   ]
  },
  {
   "cell_type": "code",
   "execution_count": 10,
   "id": "ceb11fd4",
   "metadata": {},
   "outputs": [],
   "source": []
  },
  {
   "cell_type": "code",
   "execution_count": 11,
   "id": "adee4a74",
   "metadata": {},
   "outputs": [
    {
     "name": "stdout",
     "output_type": "stream",
     "text": [
      "nome Leandro\n",
      "profissao Professor\n",
      "Cidade BH\n"
     ]
    }
   ],
   "source": []
  },
  {
   "cell_type": "markdown",
   "id": "bc649db7",
   "metadata": {},
   "source": [
    "Exemplo 5: Impressão de dados em uma lista de dicionários"
   ]
  },
  {
   "cell_type": "code",
   "execution_count": 13,
   "id": "2a0239ba",
   "metadata": {},
   "outputs": [
    {
     "name": "stdout",
     "output_type": "stream",
     "text": [
      "[{'nome': 'Leandro', 'Cidade': 'BH'}, {'nome': 'Daniele', 'Cidade': 'BH'}, {'nome': 'Joao', 'Cidade': 'SP'}, {'nome': 'Alessandra', 'Cidade': 'PE'}]\n"
     ]
    }
   ],
   "source": []
  },
  {
   "cell_type": "code",
   "execution_count": 16,
   "id": "c7780d70",
   "metadata": {},
   "outputs": [
    {
     "name": "stdout",
     "output_type": "stream",
     "text": [
      "\n",
      "            Indice: 1\n",
      "            Nome: Leandro\n",
      "            cidade: BH\n",
      "\n",
      "\n",
      "            Indice: 2\n",
      "            Nome: Daniele\n",
      "            cidade: BH\n",
      "\n",
      "\n",
      "            Indice: 3\n",
      "            Nome: Joao\n",
      "            cidade: SP\n",
      "\n",
      "\n",
      "            Indice: 4\n",
      "            Nome: Alessandra\n",
      "            cidade: PE\n",
      "\n"
     ]
    }
   ],
   "source": []
  },
  {
   "cell_type": "markdown",
   "id": "e3130e7a",
   "metadata": {},
   "source": [
    "Exemplo 6: Soma dos Números de 1 a 10 com Loop While:"
   ]
  },
  {
   "cell_type": "code",
   "execution_count": 20,
   "id": "2a5851f7",
   "metadata": {},
   "outputs": [
    {
     "name": "stdout",
     "output_type": "stream",
     "text": [
      "55\n"
     ]
    }
   ],
   "source": []
  },
  {
   "cell_type": "markdown",
   "id": "fb682bc9",
   "metadata": {},
   "source": [
    "Exemplo 7: Busca em uma Lista com Loop For:"
   ]
  },
  {
   "cell_type": "code",
   "execution_count": 22,
   "metadata": {},
   "outputs": [
    {
     "name": "stdout",
     "output_type": "stream",
     "text": [
      "Não encontrado na lista\n"
     ]
    }
   ],
   "source": []
  },
  {
   "cell_type": "markdown",
   "id": "4db8b719",
   "metadata": {},
   "source": [
    "Exemplo 8: Compreensão de Listas (List Comprehension)\n",
    "\n",
    "A compreensão de listas é uma maneira concisa de criar listas em Python, geralmente usando loops for. Ela permite criar listas de forma mais eficiente e legível."
   ]
  },
  {
   "cell_type": "code",
   "execution_count": 23,
   "id": "3e956543",
   "metadata": {},
   "outputs": [
    {
     "name": "stdout",
     "output_type": "stream",
     "text": [
      "[]\n",
      "[0, 2, 4, 6, 8, 10, 12, 14, 16, 18, 20, 22, 24, 26, 28, 30, 32, 34, 36, 38, 40, 42, 44, 46, 48, 50, 52, 54, 56, 58, 60, 62, 64, 66, 68, 70, 72, 74, 76, 78, 80, 82, 84, 86, 88, 90, 92, 94, 96, 98]\n"
     ]
    }
   ],
   "source": []
  },
  {
   "cell_type": "markdown",
   "id": "4593d55c",
   "metadata": {},
   "source": [
    "### Controle de exceção try-except\n",
    "Ele é usado para lidar com exceções (erros) que podem ocorrer durante a execução do código. A estrutura try-except permite que você controle o fluxo do programa, capturando exceções específicas e tratando-as de maneira apropriada, evitando interrupções inesperadas na execução do código."
   ]
  },
  {
   "cell_type": "markdown",
   "id": "b0dd314d",
   "metadata": {},
   "source": [
    "Exemplo 1: Divisão por zero"
   ]
  },
  {
   "cell_type": "code",
   "execution_count": 31,
   "id": "7dcb1b13",
   "metadata": {},
   "outputs": [
    {
     "name": "stdout",
     "output_type": "stream",
     "text": [
      "é Impossível\n"
     ]
    }
   ],
   "source": []
  },
  {
   "cell_type": "markdown",
   "id": "7ec20769",
   "metadata": {},
   "source": [
    "Exemplo 2: Soma de tipos de dados diferentes"
   ]
  },
  {
   "cell_type": "code",
   "execution_count": 32,
   "id": "6f0a5153",
   "metadata": {},
   "outputs": [
    {
     "name": "stdout",
     "output_type": "stream",
     "text": [
      "unsupported operand type(s) for +: 'int' and 'str'\n"
     ]
    }
   ],
   "source": []
  }
 ],
 "metadata": {
  "kernelspec": {
   "display_name": "avaliacao",
   "language": "python",
   "name": "python3"
  },
  "language_info": {
   "codemirror_mode": {
    "name": "ipython",
    "version": 3
   },
   "file_extension": ".py",
   "mimetype": "text/x-python",
   "name": "python",
   "nbconvert_exporter": "python",
   "pygments_lexer": "ipython3",
   "version": "3.11.3"
  }
 },
 "nbformat": 4,
 "nbformat_minor": 5
}
