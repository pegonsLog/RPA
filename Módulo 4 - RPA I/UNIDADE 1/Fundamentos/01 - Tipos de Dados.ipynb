{
 "cells": [
  {
   "cell_type": "markdown",
   "id": "592f918a",
   "metadata": {},
   "source": [
    "# Fundamentos em Python\n",
    "****\n",
    "\n",
    "Essa aula tem objetivo de apresentar os principais fundamentos da linguagem python e suas aplicações no dia a dia. "
   ]
  },
  {
   "cell_type": "markdown",
   "id": "7eb794f2",
   "metadata": {},
   "source": [
    "### Aplicações \n",
    "- Desenvolvimento web: Python é muito utilizado no desenvolvimento de aplicações web, através de frameworks como Django e Flask.\n",
    "- Ciência de dados: Python é uma das linguagens mais utilizadas na área de ciência de dados, graças às bibliotecas Numpy, Pandas, Scikit-learn e outras, que permitem a análise e visualização de dados de forma eficiente e intuitiva.\n",
    "- Automação de tarefas: Python também é muito utilizado para automação de tarefas, desde scripts simples para renomear arquivos até sistemas de automação de processos empresariais.\n",
    "- Desenvolvimento de jogos: Python é uma linguagem bastante utilizada no desenvolvimento de jogos, principalmente através da biblioteca Pygame.\n"
   ]
  },
  {
   "cell_type": "markdown",
   "id": "316736c2",
   "metadata": {},
   "source": [
    "#### Conhecendo os Tipos de Dados \n",
    "Python é uma linguagem de programação dinamicamente tipada, o que significa que o tipo de dados é inferido a partir do valor atribuído a ele. Existem vários tipos de dados em Python, cada um com suas próprias características e métodos. Nesta resposta, vamos apresentar cada um desses tipos de dados e dar um exemplo prático de como utilizá-los.\n"
   ]
  },
  {
   "cell_type": "markdown",
   "id": "b97f5e31",
   "metadata": {},
   "source": [
    "##### String (str)\n",
    "\n",
    "O tipo de dados de string é uma sequência de caracteres que representa um texto. Ela é uma das principais estruturas de dados da linguagem, sendo amplamente utilizada em diversos contextos, como manipulação de arquivos, comunicação com banco de dados e processamento de texto.\n",
    "\n",
    "Para criar uma string em Python, basta envolver o texto entre aspas simples ou duplas. Por exemplo:"
   ]
  },
  {
   "cell_type": "code",
   "execution_count": 2,
   "id": "2b8f766c",
   "metadata": {},
   "outputs": [],
   "source": []
  },
  {
   "cell_type": "code",
   "execution_count": 4,
   "id": "ca106c8b",
   "metadata": {},
   "outputs": [
    {
     "name": "stdout",
     "output_type": "stream",
     "text": [
      "Esse é um texto em python.\n"
     ]
    }
   ],
   "source": []
  },
  {
   "cell_type": "markdown",
   "id": "395ee33b",
   "metadata": {},
   "source": [
    "Além disso, é possível usar aspas triplas para criar strings com múltiplas linhas. Por exemplo:"
   ]
  },
  {
   "cell_type": "code",
   "execution_count": 5,
   "id": "de17f207",
   "metadata": {},
   "outputs": [],
   "source": [
    "\n",
    "'''"
   ]
  },
  {
   "cell_type": "code",
   "execution_count": 6,
   "id": "78d7fc8e",
   "metadata": {},
   "outputs": [
    {
     "name": "stdout",
     "output_type": "stream",
     "text": [
      "\n",
      "Esse texto é a primeira linha,\n",
      "Qualquer outro texto \n",
      "\n"
     ]
    }
   ],
   "source": []
  },
  {
   "cell_type": "code",
   "execution_count": 7,
   "id": "53e4ed28",
   "metadata": {},
   "outputs": [],
   "source": [
    "\n",
    "'''"
   ]
  },
  {
   "cell_type": "markdown",
   "id": "4d7ac7e9",
   "metadata": {},
   "source": [
    "As strings em Python são imutáveis, o que significa que não é possível alterar um caractere específico de uma string. No entanto, é possível criar uma nova string a partir de uma existente, utilizando métodos de manipulação de strings, como o replace() e o split()."
   ]
  },
  {
   "cell_type": "code",
   "execution_count": 8,
   "id": "9aa47587",
   "metadata": {},
   "outputs": [
    {
     "name": "stdout",
     "output_type": "stream",
     "text": [
      "\n",
      "select * \n",
      "from tabela\n",
      "\n"
     ]
    }
   ],
   "source": []
  },
  {
   "cell_type": "code",
   "execution_count": 10,
   "id": "32096203",
   "metadata": {},
   "outputs": [
    {
     "name": "stdout",
     "output_type": "stream",
     "text": [
      "\n",
      "select * \n",
      "from tb_pessoa\n",
      "\n"
     ]
    }
   ],
   "source": []
  },
  {
   "cell_type": "markdown",
   "id": "14a12004",
   "metadata": {},
   "source": [
    "Algumas operações comuns que podem ser realizadas com strings incluem concatenação (união de duas ou mais strings), indexação (acesso a um caractere específico da string) e fatiamento (obtenção de uma sub-string a partir da string original)."
   ]
  },
  {
   "cell_type": "code",
   "execution_count": 13,
   "id": "3a0d9a8b",
   "metadata": {},
   "outputs": [
    {
     "data": {
      "text/plain": [
       "'Aula de tipos de dados - Aprendendo python'"
      ]
     },
     "execution_count": 13,
     "metadata": {},
     "output_type": "execute_result"
    }
   ],
   "source": []
  },
  {
   "cell_type": "code",
   "execution_count": null,
   "id": "3f0783fe",
   "metadata": {},
   "outputs": [],
   "source": []
  },
  {
   "cell_type": "markdown",
   "id": "d42504ab",
   "metadata": {},
   "source": [
    "##### Inteiro (int)\n",
    "O tipo de dados inteiro (int) representa números inteiros positivos ou negativos. Inteiros podem ser criados simplesmente digitando um número inteiro diretamente no código Python ou podem ser o resultado de operações matemáticas."
   ]
  },
  {
   "cell_type": "code",
   "execution_count": 17,
   "id": "500f2e1d",
   "metadata": {},
   "outputs": [
    {
     "name": "stdout",
     "output_type": "stream",
     "text": [
      "15\n"
     ]
    }
   ],
   "source": []
  },
  {
   "cell_type": "markdown",
   "id": "9ef630a8",
   "metadata": {},
   "source": [
    "##### Operações"
   ]
  },
  {
   "cell_type": "code",
   "execution_count": 19,
   "id": "5bdc037b",
   "metadata": {},
   "outputs": [
    {
     "name": "stdout",
     "output_type": "stream",
     "text": [
      "50\n"
     ]
    }
   ],
   "source": []
  },
  {
   "cell_type": "code",
   "execution_count": 21,
   "id": "8f7c25e7",
   "metadata": {},
   "outputs": [
    {
     "name": "stdout",
     "output_type": "stream",
     "text": [
      "\n",
      "    A soma de a e b = 15\n",
      "    A divisão de a e b = 2.0\n",
      "\n",
      "\n",
      "\n"
     ]
    }
   ],
   "source": []
  },
  {
   "cell_type": "markdown",
   "id": "1fa0b832",
   "metadata": {},
   "source": [
    "##### Ponto Flutuante ou Decimal (float)\n",
    "O tipo de dados float representa números com casas decimais. Assim como os inteiros, os floats podem ser criados diretamente no código ou como resultado de operações matemáticas."
   ]
  },
  {
   "cell_type": "code",
   "execution_count": 22,
   "id": "24e1bd52",
   "metadata": {},
   "outputs": [
    {
     "name": "stdout",
     "output_type": "stream",
     "text": [
      "4.55\n"
     ]
    }
   ],
   "source": []
  },
  {
   "cell_type": "markdown",
   "id": "8ae3f6fb",
   "metadata": {},
   "source": [
    "##### Conversão de Tipos de Dados\n",
    "É possível realizar conversão de tipos de dados de acordo com a necessidade do contexto."
   ]
  },
  {
   "cell_type": "code",
   "execution_count": 23,
   "id": "66a85d87",
   "metadata": {},
   "outputs": [
    {
     "name": "stdout",
     "output_type": "stream",
     "text": [
      "1.8\n"
     ]
    }
   ],
   "source": []
  },
  {
   "cell_type": "code",
   "execution_count": 25,
   "id": "f7829711",
   "metadata": {},
   "outputs": [
    {
     "name": "stdout",
     "output_type": "stream",
     "text": [
      "5\n"
     ]
    }
   ],
   "source": []
  },
  {
   "cell_type": "code",
   "execution_count": 26,
   "id": "7a2a85b0",
   "metadata": {},
   "outputs": [
    {
     "data": {
      "text/plain": [
       "5.0"
      ]
     },
     "execution_count": 26,
     "metadata": {},
     "output_type": "execute_result"
    }
   ],
   "source": []
  },
  {
   "cell_type": "code",
   "execution_count": 30,
   "id": "486bc0bd",
   "metadata": {},
   "outputs": [
    {
     "name": "stdout",
     "output_type": "stream",
     "text": [
      "4.8\n"
     ]
    }
   ],
   "source": []
  },
  {
   "cell_type": "code",
   "execution_count": 28,
   "id": "464b401c",
   "metadata": {},
   "outputs": [
    {
     "data": {
      "text/plain": [
       "str"
      ]
     },
     "execution_count": 28,
     "metadata": {},
     "output_type": "execute_result"
    }
   ],
   "source": []
  },
  {
   "cell_type": "code",
   "execution_count": 32,
   "id": "63b9ea42",
   "metadata": {},
   "outputs": [],
   "source": []
  },
  {
   "cell_type": "code",
   "execution_count": 33,
   "id": "710cdaa1",
   "metadata": {},
   "outputs": [
    {
     "data": {
      "text/plain": [
       "24.0"
      ]
     },
     "execution_count": 33,
     "metadata": {},
     "output_type": "execute_result"
    }
   ],
   "source": []
  },
  {
   "cell_type": "markdown",
   "id": "6dcc6cf2",
   "metadata": {},
   "source": [
    "##### Boolean (bool)\n",
    "O tipo de dados boolean é utilizado para representar valores lógicos verdadeiro (True) ou falso (False). Booleans são frequentemente utilizados em estruturas de controle, como if e while."
   ]
  },
  {
   "cell_type": "code",
   "execution_count": 35,
   "id": "e40096de",
   "metadata": {},
   "outputs": [
    {
     "name": "stdout",
     "output_type": "stream",
     "text": [
      "Não tem permissão.\n"
     ]
    }
   ],
   "source": [
    "\n"
   ]
  },
  {
   "cell_type": "markdown",
   "id": "48c244ad",
   "metadata": {},
   "source": [
    "Exemplo:"
   ]
  },
  {
   "cell_type": "code",
   "execution_count": 40,
   "id": "e3eb5ea8",
   "metadata": {},
   "outputs": [
    {
     "name": "stdout",
     "output_type": "stream",
     "text": [
      "Parabéns você acertou o número\n"
     ]
    }
   ],
   "source": []
  },
  {
   "cell_type": "code",
   "execution_count": null,
   "id": "a8ee8f68",
   "metadata": {},
   "outputs": [],
   "source": []
  }
 ],
 "metadata": {
  "kernelspec": {
   "display_name": "avaliacao",
   "language": "python",
   "name": "python3"
  },
  "language_info": {
   "codemirror_mode": {
    "name": "ipython",
    "version": 3
   },
   "file_extension": ".py",
   "mimetype": "text/x-python",
   "name": "python",
   "nbconvert_exporter": "python",
   "pygments_lexer": "ipython3",
   "version": "3.11.3"
  }
 },
 "nbformat": 4,
 "nbformat_minor": 5
}
