{
 "cells": [
  {
   "cell_type": "markdown",
   "metadata": {},
   "source": [
    "### Pesquisa de Preferências: Coleta e Armazenamento de Dados\n",
    "***\n",
    "\n",
    "##### Objetivo da Pesquisa\n",
    "\n",
    "Esta pesquisa fictícia foi desenvolvida com o propósito de treinar e aprimorar todo o processo de Automação de Processos Robóticos (RPA) desde a coleta de dados, passando pelo tratamento, integração e armazenamento de informações. A simulação envolve a coleta de dados sobre preferências pessoais, hábitos e características demográficas dos participantes, fornecendo uma base prática para o desenvolvimento de habilidades em RPA.\n",
    "\n",
    "#### Atividades de Coleta e Armazenamento\n",
    "\n",
    "A principal atividade deste projeto é a coleta de dados por meio de questionários estruturados e a subsequente armazenagem dessas informações em um banco de dados. O processo é dividido em várias etapas essenciais para garantir a qualidade e a integridade dos dados, além de proporcionar uma experiência completa de automação:\n",
    "\n",
    "1. **Desenvolvimento do Questionário**\n",
    "   - Elaboramos um questionário detalhado para capturar informações sobre preferências pessoais (como bebida favorita, hobbies), características demográficas (como gênero e data de nascimento) e outros aspectos relevantes (como presença de animais de estimação e percepções sobre o clima).\n",
    "\n",
    "2. **Coleta de Dados**\n",
    "   - A coleta de dados é realizada por meio de entrevistas ou preenchimento de formulários online. Os participantes fornecem suas respostas, que são então capturadas automaticamente por bots de RPA.\n",
    "\n",
    "3. **Tratamento de Dados**\n",
    "   - **Verificação de Dados Duplicados**: Utilizando scripts automatizados, removemos registros duplicados para evitar redundâncias e garantir a precisão dos dados.\n",
    "   - **Tratamento de Dados Ausentes**: Identificamos e lidamos com valores ausentes, utilizando métodos automáticos para preenchimento com valores padrão ou imputação baseada em algoritmos.\n",
    "   - **Validação e Limpeza de Dados**: Bots de RPA validam automaticamente que todos os dados estão no formato adequado e dentro dos intervalos válidos, corrigindo inconsistências ou erros de entrada.\n",
    "\n",
    "4. **Integração de Dados**\n",
    "   - Os dados coletados e tratados são integrados de maneira automática com sistemas existentes, garantindo que todas as informações estejam disponíveis para análise e uso imediato.\n",
    "\n",
    "5. **Armazenamento de Dados**\n",
    "   - Após o tratamento e a integração, os dados são armazenados em um banco de dados estruturado. Este processo inclui a criação automatizada de tabelas e esquemas que organizam os dados de forma eficiente e acessível, além de implementar medidas de integridade referencial para assegurar a consistência dos dados entre diferentes tabelas.\n",
    "\n",
    "<Center><h5><font>Fluxograma da Automatização Coleta e Armazenamento de Dados de Pesquisa de Preferências </font></h5></center>\n",
    "\n",
    "<center>\n",
    "<img src=\"../img/Pesquisa de Prefências.png\" width=\"70%\">\n",
    "</center>\n",
    "\n",
    "\n",
    "\n",
    "#### Objetivo Geral\n",
    "\n",
    "A realização desta pesquisa fictícia oferece uma oportunidade valiosa para treinar e desenvolver habilidades em Automação de Processos Robóticos (RPA), abrangendo todas as etapas desde a coleta até o armazenamento de dados. O uso de bots de RPA para automatizar tarefas repetitivas e garantir a precisão dos dados permite uma experiência prática e completa. Com a prática adquirida, é possível aplicar esses conhecimentos em projetos reais, otimizando processos e tomando decisões mais informadas e eficazes.\n"
   ]
  },
  {
   "cell_type": "markdown",
   "metadata": {},
   "source": [
    "### Importação das bibliotecas"
   ]
  },
  {
   "cell_type": "code",
   "execution_count": 1,
   "metadata": {},
   "outputs": [
    {
     "data": {
      "text/plain": [
       "True"
      ]
     },
     "execution_count": 1,
     "metadata": {},
     "output_type": "execute_result"
    }
   ],
   "source": [
    "import pandas as pd\n",
    "import os\n",
    "from sqlalchemy import create_engine, text\n",
    "import dotenv\n",
    "dotenv.load_dotenv('../config/.env')"
   ]
  },
  {
   "cell_type": "markdown",
   "metadata": {},
   "source": [
    "#### Coletando Dados da Pesquisa\n",
    "***"
   ]
  },
  {
   "cell_type": "code",
   "execution_count": 51,
   "metadata": {},
   "outputs": [],
   "source": [
    "PATH = '../datasets/dados_pesquisa_preferencias/'\n",
    "list_path = os.listdir(PATH)\n",
    "\n",
    "lista_df = []\n",
    "\n",
    "#--------------------FOR-------------------------------\n",
    "\n",
    "for arquivo in list_path:\n",
    "       local_arquivo = os.path.join(PATH, arquivo)\n",
    "       if arquivo.endswith('.csv'):\n",
    "            df = pd.read_csv(local_arquivo, sep=';', encoding='latin1')\n",
    "            lista_df.append(df)\n",
    "            \n",
    "#---------------------------------------------------\n",
    "\n",
    "df_pesquisa = pd.concat(lista_df)"
   ]
  },
  {
   "cell_type": "code",
   "execution_count": 3,
   "metadata": {},
   "outputs": [
    {
     "data": {
      "text/html": [
       "<div>\n",
       "<style scoped>\n",
       "    .dataframe tbody tr th:only-of-type {\n",
       "        vertical-align: middle;\n",
       "    }\n",
       "\n",
       "    .dataframe tbody tr th {\n",
       "        vertical-align: top;\n",
       "    }\n",
       "\n",
       "    .dataframe thead th {\n",
       "        text-align: right;\n",
       "    }\n",
       "</style>\n",
       "<table border=\"1\" class=\"dataframe\">\n",
       "  <thead>\n",
       "    <tr style=\"text-align: right;\">\n",
       "      <th></th>\n",
       "      <th>cod_pessoa</th>\n",
       "      <th>data_coleta</th>\n",
       "      <th>animal_estimacao</th>\n",
       "      <th>clima</th>\n",
       "      <th>bebida_favorita</th>\n",
       "      <th>hobby</th>\n",
       "      <th>atividade_fisica</th>\n",
       "      <th>preferencia_musical</th>\n",
       "    </tr>\n",
       "  </thead>\n",
       "  <tbody>\n",
       "    <tr>\n",
       "      <th>0</th>\n",
       "      <td>10141743</td>\n",
       "      <td>2024-01-05</td>\n",
       "      <td>Lagarto</td>\n",
       "      <td>frio</td>\n",
       "      <td>Cerveja</td>\n",
       "      <td>Praticar esporte</td>\n",
       "      <td>Diária</td>\n",
       "      <td>Pop</td>\n",
       "    </tr>\n",
       "    <tr>\n",
       "      <th>1</th>\n",
       "      <td>10141860</td>\n",
       "      <td>2024-01-05</td>\n",
       "      <td>Coelho</td>\n",
       "      <td>quente</td>\n",
       "      <td>Café</td>\n",
       "      <td>Assistir TV</td>\n",
       "      <td>Semanal</td>\n",
       "      <td>Pop</td>\n",
       "    </tr>\n",
       "    <tr>\n",
       "      <th>2</th>\n",
       "      <td>10142548</td>\n",
       "      <td>2024-01-05</td>\n",
       "      <td>Lagarto</td>\n",
       "      <td>frio</td>\n",
       "      <td>Café</td>\n",
       "      <td>Ler livros</td>\n",
       "      <td>Nunca</td>\n",
       "      <td>Rock</td>\n",
       "    </tr>\n",
       "    <tr>\n",
       "      <th>3</th>\n",
       "      <td>10142591</td>\n",
       "      <td>2024-01-05</td>\n",
       "      <td>Pássaro</td>\n",
       "      <td>moderado</td>\n",
       "      <td>Cerveja</td>\n",
       "      <td>Aprender algo novo</td>\n",
       "      <td>Mensal</td>\n",
       "      <td>Rock</td>\n",
       "    </tr>\n",
       "    <tr>\n",
       "      <th>4</th>\n",
       "      <td>10142654</td>\n",
       "      <td>2024-01-05</td>\n",
       "      <td>Lagarto</td>\n",
       "      <td>moderado</td>\n",
       "      <td>Café</td>\n",
       "      <td>Assistir TV</td>\n",
       "      <td>Nunca</td>\n",
       "      <td>Pop</td>\n",
       "    </tr>\n",
       "  </tbody>\n",
       "</table>\n",
       "</div>"
      ],
      "text/plain": [
       "   cod_pessoa data_coleta animal_estimacao     clima bebida_favorita  \\\n",
       "0    10141743  2024-01-05          Lagarto      frio         Cerveja   \n",
       "1    10141860  2024-01-05           Coelho    quente            Café   \n",
       "2    10142548  2024-01-05          Lagarto      frio            Café   \n",
       "3    10142591  2024-01-05          Pássaro  moderado         Cerveja   \n",
       "4    10142654  2024-01-05          Lagarto  moderado            Café   \n",
       "\n",
       "                hobby atividade_fisica preferencia_musical  \n",
       "0    Praticar esporte           Diária                 Pop  \n",
       "1         Assistir TV          Semanal                 Pop  \n",
       "2          Ler livros            Nunca                Rock  \n",
       "3  Aprender algo novo           Mensal                Rock  \n",
       "4         Assistir TV            Nunca                 Pop  "
      ]
     },
     "execution_count": 3,
     "metadata": {},
     "output_type": "execute_result"
    }
   ],
   "source": [
    "df_pesquisa.head()"
   ]
  },
  {
   "cell_type": "code",
   "execution_count": 4,
   "metadata": {},
   "outputs": [
    {
     "data": {
      "text/plain": [
       "(2127, 8)"
      ]
     },
     "execution_count": 4,
     "metadata": {},
     "output_type": "execute_result"
    }
   ],
   "source": [
    "df_pesquisa.shape"
   ]
  },
  {
   "cell_type": "markdown",
   "metadata": {},
   "source": [
    "#### Coletando Dados dos Respondentes\n",
    "***"
   ]
  },
  {
   "cell_type": "code",
   "execution_count": 5,
   "metadata": {},
   "outputs": [],
   "source": [
    "PATH = '../datasets/dados_pessoas_respondentes/respondentes_pesquisa.csv'\n",
    "df_respondentes = pd.read_csv(PATH, sep='|', encoding='latin')\n"
   ]
  },
  {
   "cell_type": "code",
   "execution_count": 6,
   "metadata": {},
   "outputs": [
    {
     "data": {
      "text/html": [
       "<div>\n",
       "<style scoped>\n",
       "    .dataframe tbody tr th:only-of-type {\n",
       "        vertical-align: middle;\n",
       "    }\n",
       "\n",
       "    .dataframe tbody tr th {\n",
       "        vertical-align: top;\n",
       "    }\n",
       "\n",
       "    .dataframe thead th {\n",
       "        text-align: right;\n",
       "    }\n",
       "</style>\n",
       "<table border=\"1\" class=\"dataframe\">\n",
       "  <thead>\n",
       "    <tr style=\"text-align: right;\">\n",
       "      <th></th>\n",
       "      <th>cod_pessoa</th>\n",
       "      <th>genero</th>\n",
       "      <th>data_nascimento</th>\n",
       "      <th>educacao</th>\n",
       "      <th>renda_mensal</th>\n",
       "      <th>peso</th>\n",
       "      <th>colesterol</th>\n",
       "      <th>estado_civil</th>\n",
       "      <th>id_estado</th>\n",
       "    </tr>\n",
       "  </thead>\n",
       "  <tbody>\n",
       "    <tr>\n",
       "      <th>0</th>\n",
       "      <td>10141743</td>\n",
       "      <td>Masculino</td>\n",
       "      <td>1981-04-25</td>\n",
       "      <td>Pós-Graduação</td>\n",
       "      <td>1000-3000</td>\n",
       "      <td>61.018446</td>\n",
       "      <td>96.777322</td>\n",
       "      <td>Viúvo</td>\n",
       "      <td>19</td>\n",
       "    </tr>\n",
       "    <tr>\n",
       "      <th>1</th>\n",
       "      <td>10141860</td>\n",
       "      <td>Feminino</td>\n",
       "      <td>1966-01-19</td>\n",
       "      <td>Ensino Médio</td>\n",
       "      <td>&gt; 5000</td>\n",
       "      <td>108.557401</td>\n",
       "      <td>176.108130</td>\n",
       "      <td>Viúvo</td>\n",
       "      <td>1</td>\n",
       "    </tr>\n",
       "    <tr>\n",
       "      <th>2</th>\n",
       "      <td>10142548</td>\n",
       "      <td>Masculino</td>\n",
       "      <td>1973-08-02</td>\n",
       "      <td>Pós-Graduação</td>\n",
       "      <td>&gt; 5000</td>\n",
       "      <td>112.349921</td>\n",
       "      <td>144.110224</td>\n",
       "      <td>Casado</td>\n",
       "      <td>19</td>\n",
       "    </tr>\n",
       "    <tr>\n",
       "      <th>3</th>\n",
       "      <td>10142591</td>\n",
       "      <td>Masculino</td>\n",
       "      <td>1997-03-05</td>\n",
       "      <td>Ensino Fundamental</td>\n",
       "      <td>&lt; 1000</td>\n",
       "      <td>116.238829</td>\n",
       "      <td>235.386072</td>\n",
       "      <td>Divorciado</td>\n",
       "      <td>17</td>\n",
       "    </tr>\n",
       "    <tr>\n",
       "      <th>4</th>\n",
       "      <td>10142654</td>\n",
       "      <td>Feminino</td>\n",
       "      <td>1969-08-05</td>\n",
       "      <td>Graduação</td>\n",
       "      <td>3000-5000</td>\n",
       "      <td>88.609912</td>\n",
       "      <td>38.102665</td>\n",
       "      <td>Casado</td>\n",
       "      <td>15</td>\n",
       "    </tr>\n",
       "  </tbody>\n",
       "</table>\n",
       "</div>"
      ],
      "text/plain": [
       "   cod_pessoa     genero data_nascimento            educacao renda_mensal  \\\n",
       "0    10141743  Masculino      1981-04-25       Pós-Graduação    1000-3000   \n",
       "1    10141860   Feminino      1966-01-19        Ensino Médio       > 5000   \n",
       "2    10142548  Masculino      1973-08-02       Pós-Graduação       > 5000   \n",
       "3    10142591  Masculino      1997-03-05  Ensino Fundamental       < 1000   \n",
       "4    10142654   Feminino      1969-08-05           Graduação    3000-5000   \n",
       "\n",
       "         peso  colesterol estado_civil  id_estado  \n",
       "0   61.018446   96.777322        Viúvo         19  \n",
       "1  108.557401  176.108130        Viúvo          1  \n",
       "2  112.349921  144.110224       Casado         19  \n",
       "3  116.238829  235.386072   Divorciado         17  \n",
       "4   88.609912   38.102665       Casado         15  "
      ]
     },
     "execution_count": 6,
     "metadata": {},
     "output_type": "execute_result"
    }
   ],
   "source": [
    "df_respondentes.head()"
   ]
  },
  {
   "cell_type": "code",
   "execution_count": 7,
   "metadata": {},
   "outputs": [
    {
     "data": {
      "text/plain": [
       "(2195, 9)"
      ]
     },
     "execution_count": 7,
     "metadata": {},
     "output_type": "execute_result"
    }
   ],
   "source": [
    "df_respondentes.shape"
   ]
  },
  {
   "cell_type": "markdown",
   "metadata": {},
   "source": [
    "#### Coletando Dados de Estados\n",
    "***"
   ]
  },
  {
   "cell_type": "code",
   "execution_count": 8,
   "metadata": {},
   "outputs": [],
   "source": [
    "PATH = '../datasets/dados_estado_regiao/estado_regiao.csv'\n",
    "df_estados = pd.read_csv(PATH, sep=';', encoding='latin')"
   ]
  },
  {
   "cell_type": "code",
   "execution_count": 9,
   "metadata": {},
   "outputs": [
    {
     "data": {
      "text/html": [
       "<div>\n",
       "<style scoped>\n",
       "    .dataframe tbody tr th:only-of-type {\n",
       "        vertical-align: middle;\n",
       "    }\n",
       "\n",
       "    .dataframe tbody tr th {\n",
       "        vertical-align: top;\n",
       "    }\n",
       "\n",
       "    .dataframe thead th {\n",
       "        text-align: right;\n",
       "    }\n",
       "</style>\n",
       "<table border=\"1\" class=\"dataframe\">\n",
       "  <thead>\n",
       "    <tr style=\"text-align: right;\">\n",
       "      <th></th>\n",
       "      <th>cod_estado</th>\n",
       "      <th>sigla</th>\n",
       "      <th>estado</th>\n",
       "      <th>regiao</th>\n",
       "      <th>pais</th>\n",
       "    </tr>\n",
       "  </thead>\n",
       "  <tbody>\n",
       "    <tr>\n",
       "      <th>0</th>\n",
       "      <td>1</td>\n",
       "      <td>AC</td>\n",
       "      <td>Acre</td>\n",
       "      <td>Norte</td>\n",
       "      <td>Brasil</td>\n",
       "    </tr>\n",
       "    <tr>\n",
       "      <th>1</th>\n",
       "      <td>2</td>\n",
       "      <td>AL</td>\n",
       "      <td>Alagoas</td>\n",
       "      <td>Nordeste</td>\n",
       "      <td>Brasil</td>\n",
       "    </tr>\n",
       "    <tr>\n",
       "      <th>2</th>\n",
       "      <td>3</td>\n",
       "      <td>AP</td>\n",
       "      <td>Amapá</td>\n",
       "      <td>Norte</td>\n",
       "      <td>Brasil</td>\n",
       "    </tr>\n",
       "    <tr>\n",
       "      <th>3</th>\n",
       "      <td>4</td>\n",
       "      <td>AM</td>\n",
       "      <td>Amazonas</td>\n",
       "      <td>Norte</td>\n",
       "      <td>Brasil</td>\n",
       "    </tr>\n",
       "    <tr>\n",
       "      <th>4</th>\n",
       "      <td>5</td>\n",
       "      <td>BA</td>\n",
       "      <td>Bahia</td>\n",
       "      <td>Nordeste</td>\n",
       "      <td>Brasil</td>\n",
       "    </tr>\n",
       "  </tbody>\n",
       "</table>\n",
       "</div>"
      ],
      "text/plain": [
       "   cod_estado sigla    estado    regiao    pais\n",
       "0           1    AC      Acre     Norte  Brasil\n",
       "1           2    AL   Alagoas  Nordeste  Brasil\n",
       "2           3    AP     Amapá     Norte  Brasil\n",
       "3           4    AM  Amazonas     Norte  Brasil\n",
       "4           5    BA     Bahia  Nordeste  Brasil"
      ]
     },
     "execution_count": 9,
     "metadata": {},
     "output_type": "execute_result"
    }
   ],
   "source": [
    "df_estados.head()"
   ]
  },
  {
   "cell_type": "code",
   "execution_count": 10,
   "metadata": {},
   "outputs": [
    {
     "data": {
      "text/plain": [
       "(27, 5)"
      ]
     },
     "execution_count": 10,
     "metadata": {},
     "output_type": "execute_result"
    }
   ],
   "source": [
    "df_estados.shape"
   ]
  },
  {
   "cell_type": "markdown",
   "metadata": {},
   "source": [
    "#### Analisando Dados Coletados"
   ]
  },
  {
   "cell_type": "code",
   "execution_count": 11,
   "metadata": {},
   "outputs": [],
   "source": [
    "def verifica_dados_duplicados(nome_dataframe, dataframe):\n",
    "    qtd = dataframe.duplicated().sum()\n",
    "    print(f'O dataframe {nome_dataframe} possui {qtd} dados duplicados')"
   ]
  },
  {
   "cell_type": "code",
   "execution_count": 12,
   "metadata": {},
   "outputs": [
    {
     "name": "stdout",
     "output_type": "stream",
     "text": [
      "O dataframe df_pesquisa possui 0 dados duplicados\n"
     ]
    }
   ],
   "source": [
    "verifica_dados_duplicados('df_pesquisa', df_pesquisa)"
   ]
  },
  {
   "cell_type": "code",
   "execution_count": 13,
   "metadata": {},
   "outputs": [
    {
     "name": "stdout",
     "output_type": "stream",
     "text": [
      "O dataframe df_respondentes possui 68 dados duplicados\n"
     ]
    }
   ],
   "source": [
    "verifica_dados_duplicados('df_respondentes', df_respondentes)"
   ]
  },
  {
   "cell_type": "code",
   "execution_count": 14,
   "metadata": {},
   "outputs": [
    {
     "name": "stdout",
     "output_type": "stream",
     "text": [
      "O dataframe df_pesquisa possui 0 dados duplicados\n",
      "O dataframe df_respondentes possui 68 dados duplicados\n",
      "O dataframe df_estados possui 0 dados duplicados\n"
     ]
    }
   ],
   "source": [
    "lista_dataframes = [\n",
    "    ('df_pesquisa', df_pesquisa),\n",
    "    ('df_respondentes', df_respondentes),\n",
    "    ('df_estados', df_estados)\n",
    "]\n",
    "\n",
    "for nome_dataframe, dataframe in lista_dataframes:\n",
    "    verifica_dados_duplicados(nome_dataframe, dataframe)"
   ]
  },
  {
   "cell_type": "markdown",
   "metadata": {},
   "source": [
    "#### Avaliando Dados Ausentes"
   ]
  },
  {
   "cell_type": "code",
   "execution_count": 15,
   "metadata": {},
   "outputs": [],
   "source": [
    "def verifica_dados_ausente(nome_dataframe, dataframe):\n",
    "    dados_ausentes = dataframe.isna().sum()\n",
    "    colunas_com_ausentes = dados_ausentes[dados_ausentes > 0]\n",
    "    \n",
    "    print('--' * 50)\n",
    "    \n",
    "    if not colunas_com_ausentes.empty:\n",
    "        print(f'O dataframe {nome_dataframe} possui dados ausentes.\\nLista de colunas:')\n",
    "        return print(colunas_com_ausentes)\n",
    "    else:\n",
    "        print(f'O dataframe {nome_dataframe} não possui dados ausentes.')"
   ]
  },
  {
   "cell_type": "code",
   "execution_count": 16,
   "metadata": {},
   "outputs": [
    {
     "name": "stdout",
     "output_type": "stream",
     "text": [
      "----------------------------------------------------------------------------------------------------\n",
      "O dataframe df_pesquisa não possui dados ausentes.\n",
      "----------------------------------------------------------------------------------------------------\n",
      "O dataframe df_respondentes possui dados ausentes.\n",
      "Lista de colunas:\n",
      "peso             5\n",
      "estado_civil    10\n",
      "dtype: int64\n",
      "----------------------------------------------------------------------------------------------------\n",
      "O dataframe df_estados não possui dados ausentes.\n"
     ]
    }
   ],
   "source": [
    "for nome_dataframe, dataframe in lista_dataframes:\n",
    "    verifica_dados_ausente(nome_dataframe, dataframe)"
   ]
  },
  {
   "cell_type": "code",
   "execution_count": 17,
   "metadata": {},
   "outputs": [
    {
     "data": {
      "text/plain": [
       "cod_pessoa          0\n",
       "genero              0\n",
       "data_nascimento     0\n",
       "educacao            0\n",
       "renda_mensal        0\n",
       "peso                5\n",
       "colesterol          0\n",
       "estado_civil       10\n",
       "id_estado           0\n",
       "dtype: int64"
      ]
     },
     "execution_count": 17,
     "metadata": {},
     "output_type": "execute_result"
    }
   ],
   "source": [
    "df_respondentes.isna().sum()"
   ]
  },
  {
   "cell_type": "markdown",
   "metadata": {},
   "source": [
    "### Tratamento de Dados (Data Cleaning/Preprocessing)\n",
    "***"
   ]
  },
  {
   "cell_type": "markdown",
   "metadata": {},
   "source": [
    "##### Corrigindo Dados Duplicados"
   ]
  },
  {
   "cell_type": "code",
   "execution_count": 18,
   "metadata": {},
   "outputs": [],
   "source": [
    "df_respondentes.drop_duplicates(inplace=True)"
   ]
  },
  {
   "cell_type": "code",
   "execution_count": 19,
   "metadata": {},
   "outputs": [
    {
     "name": "stdout",
     "output_type": "stream",
     "text": [
      "O dataframe df_respondentes possui 0 dados duplicados\n"
     ]
    }
   ],
   "source": [
    "verifica_dados_duplicados('df_respondentes', df_respondentes)\n"
   ]
  },
  {
   "cell_type": "markdown",
   "metadata": {},
   "source": [
    "#### Analisando Dados Ausentes da Variável - Peso\n",
    "***"
   ]
  },
  {
   "cell_type": "code",
   "execution_count": 20,
   "metadata": {},
   "outputs": [
    {
     "data": {
      "text/html": [
       "<div>\n",
       "<style scoped>\n",
       "    .dataframe tbody tr th:only-of-type {\n",
       "        vertical-align: middle;\n",
       "    }\n",
       "\n",
       "    .dataframe tbody tr th {\n",
       "        vertical-align: top;\n",
       "    }\n",
       "\n",
       "    .dataframe thead th {\n",
       "        text-align: right;\n",
       "    }\n",
       "</style>\n",
       "<table border=\"1\" class=\"dataframe\">\n",
       "  <thead>\n",
       "    <tr style=\"text-align: right;\">\n",
       "      <th></th>\n",
       "      <th>cod_pessoa</th>\n",
       "      <th>genero</th>\n",
       "      <th>data_nascimento</th>\n",
       "      <th>educacao</th>\n",
       "      <th>renda_mensal</th>\n",
       "      <th>peso</th>\n",
       "      <th>colesterol</th>\n",
       "      <th>estado_civil</th>\n",
       "      <th>id_estado</th>\n",
       "    </tr>\n",
       "  </thead>\n",
       "  <tbody>\n",
       "    <tr>\n",
       "      <th>181</th>\n",
       "      <td>10142685</td>\n",
       "      <td>Masculino</td>\n",
       "      <td>1976-03-21</td>\n",
       "      <td>Ensino Fundamental</td>\n",
       "      <td>&gt; 5000</td>\n",
       "      <td>NaN</td>\n",
       "      <td>108.966948</td>\n",
       "      <td>Casado</td>\n",
       "      <td>14</td>\n",
       "    </tr>\n",
       "    <tr>\n",
       "      <th>185</th>\n",
       "      <td>10141565</td>\n",
       "      <td>Feminino</td>\n",
       "      <td>1977-02-22</td>\n",
       "      <td>Ensino Médio</td>\n",
       "      <td>3000-5000</td>\n",
       "      <td>NaN</td>\n",
       "      <td>25.326362</td>\n",
       "      <td>Solteiro</td>\n",
       "      <td>13</td>\n",
       "    </tr>\n",
       "    <tr>\n",
       "      <th>193</th>\n",
       "      <td>10143060</td>\n",
       "      <td>Masculino</td>\n",
       "      <td>1997-11-08</td>\n",
       "      <td>Ensino Médio</td>\n",
       "      <td>&gt; 5000</td>\n",
       "      <td>NaN</td>\n",
       "      <td>49.742039</td>\n",
       "      <td>Divorciado</td>\n",
       "      <td>26</td>\n",
       "    </tr>\n",
       "    <tr>\n",
       "      <th>204</th>\n",
       "      <td>10141710</td>\n",
       "      <td>Masculino</td>\n",
       "      <td>1990-04-01</td>\n",
       "      <td>Graduação</td>\n",
       "      <td>3000-5000</td>\n",
       "      <td>NaN</td>\n",
       "      <td>54.821494</td>\n",
       "      <td>Solteiro</td>\n",
       "      <td>19</td>\n",
       "    </tr>\n",
       "    <tr>\n",
       "      <th>224</th>\n",
       "      <td>10142610</td>\n",
       "      <td>Feminino</td>\n",
       "      <td>1969-08-26</td>\n",
       "      <td>Graduação</td>\n",
       "      <td>&gt; 5000</td>\n",
       "      <td>NaN</td>\n",
       "      <td>146.816434</td>\n",
       "      <td>Solteiro</td>\n",
       "      <td>19</td>\n",
       "    </tr>\n",
       "  </tbody>\n",
       "</table>\n",
       "</div>"
      ],
      "text/plain": [
       "     cod_pessoa     genero data_nascimento            educacao renda_mensal  \\\n",
       "181    10142685  Masculino      1976-03-21  Ensino Fundamental       > 5000   \n",
       "185    10141565   Feminino      1977-02-22        Ensino Médio    3000-5000   \n",
       "193    10143060  Masculino      1997-11-08        Ensino Médio       > 5000   \n",
       "204    10141710  Masculino      1990-04-01           Graduação    3000-5000   \n",
       "224    10142610   Feminino      1969-08-26           Graduação       > 5000   \n",
       "\n",
       "     peso  colesterol estado_civil  id_estado  \n",
       "181   NaN  108.966948       Casado         14  \n",
       "185   NaN   25.326362     Solteiro         13  \n",
       "193   NaN   49.742039   Divorciado         26  \n",
       "204   NaN   54.821494     Solteiro         19  \n",
       "224   NaN  146.816434     Solteiro         19  "
      ]
     },
     "execution_count": 20,
     "metadata": {},
     "output_type": "execute_result"
    }
   ],
   "source": [
    "filtro = df_respondentes['peso'].isna()\n",
    "index_ausentes_peso = df_respondentes[filtro].index\n",
    "df_respondentes.loc[index_ausentes_peso]"
   ]
  },
  {
   "cell_type": "markdown",
   "metadata": {},
   "source": [
    "##### Correção dos Dados de Peso"
   ]
  },
  {
   "cell_type": "code",
   "execution_count": 21,
   "metadata": {},
   "outputs": [
    {
     "name": "stdout",
     "output_type": "stream",
     "text": [
      "84.6\n"
     ]
    }
   ],
   "source": [
    "media_peso = df_respondentes['peso'].mean().round(2)\n",
    "print(media_peso)\n",
    "df_respondentes['peso'] = df_respondentes['peso'].fillna(value=media_peso)"
   ]
  },
  {
   "cell_type": "markdown",
   "metadata": {},
   "source": [
    "##### Verificando Dados Corrigidos"
   ]
  },
  {
   "cell_type": "code",
   "execution_count": 22,
   "metadata": {},
   "outputs": [
    {
     "data": {
      "text/html": [
       "<div>\n",
       "<style scoped>\n",
       "    .dataframe tbody tr th:only-of-type {\n",
       "        vertical-align: middle;\n",
       "    }\n",
       "\n",
       "    .dataframe tbody tr th {\n",
       "        vertical-align: top;\n",
       "    }\n",
       "\n",
       "    .dataframe thead th {\n",
       "        text-align: right;\n",
       "    }\n",
       "</style>\n",
       "<table border=\"1\" class=\"dataframe\">\n",
       "  <thead>\n",
       "    <tr style=\"text-align: right;\">\n",
       "      <th></th>\n",
       "      <th>cod_pessoa</th>\n",
       "      <th>genero</th>\n",
       "      <th>data_nascimento</th>\n",
       "      <th>educacao</th>\n",
       "      <th>renda_mensal</th>\n",
       "      <th>peso</th>\n",
       "      <th>colesterol</th>\n",
       "      <th>estado_civil</th>\n",
       "      <th>id_estado</th>\n",
       "    </tr>\n",
       "  </thead>\n",
       "  <tbody>\n",
       "    <tr>\n",
       "      <th>181</th>\n",
       "      <td>10142685</td>\n",
       "      <td>Masculino</td>\n",
       "      <td>1976-03-21</td>\n",
       "      <td>Ensino Fundamental</td>\n",
       "      <td>&gt; 5000</td>\n",
       "      <td>84.6</td>\n",
       "      <td>108.966948</td>\n",
       "      <td>Casado</td>\n",
       "      <td>14</td>\n",
       "    </tr>\n",
       "    <tr>\n",
       "      <th>185</th>\n",
       "      <td>10141565</td>\n",
       "      <td>Feminino</td>\n",
       "      <td>1977-02-22</td>\n",
       "      <td>Ensino Médio</td>\n",
       "      <td>3000-5000</td>\n",
       "      <td>84.6</td>\n",
       "      <td>25.326362</td>\n",
       "      <td>Solteiro</td>\n",
       "      <td>13</td>\n",
       "    </tr>\n",
       "    <tr>\n",
       "      <th>193</th>\n",
       "      <td>10143060</td>\n",
       "      <td>Masculino</td>\n",
       "      <td>1997-11-08</td>\n",
       "      <td>Ensino Médio</td>\n",
       "      <td>&gt; 5000</td>\n",
       "      <td>84.6</td>\n",
       "      <td>49.742039</td>\n",
       "      <td>Divorciado</td>\n",
       "      <td>26</td>\n",
       "    </tr>\n",
       "    <tr>\n",
       "      <th>204</th>\n",
       "      <td>10141710</td>\n",
       "      <td>Masculino</td>\n",
       "      <td>1990-04-01</td>\n",
       "      <td>Graduação</td>\n",
       "      <td>3000-5000</td>\n",
       "      <td>84.6</td>\n",
       "      <td>54.821494</td>\n",
       "      <td>Solteiro</td>\n",
       "      <td>19</td>\n",
       "    </tr>\n",
       "    <tr>\n",
       "      <th>224</th>\n",
       "      <td>10142610</td>\n",
       "      <td>Feminino</td>\n",
       "      <td>1969-08-26</td>\n",
       "      <td>Graduação</td>\n",
       "      <td>&gt; 5000</td>\n",
       "      <td>84.6</td>\n",
       "      <td>146.816434</td>\n",
       "      <td>Solteiro</td>\n",
       "      <td>19</td>\n",
       "    </tr>\n",
       "  </tbody>\n",
       "</table>\n",
       "</div>"
      ],
      "text/plain": [
       "     cod_pessoa     genero data_nascimento            educacao renda_mensal  \\\n",
       "181    10142685  Masculino      1976-03-21  Ensino Fundamental       > 5000   \n",
       "185    10141565   Feminino      1977-02-22        Ensino Médio    3000-5000   \n",
       "193    10143060  Masculino      1997-11-08        Ensino Médio       > 5000   \n",
       "204    10141710  Masculino      1990-04-01           Graduação    3000-5000   \n",
       "224    10142610   Feminino      1969-08-26           Graduação       > 5000   \n",
       "\n",
       "     peso  colesterol estado_civil  id_estado  \n",
       "181  84.6  108.966948       Casado         14  \n",
       "185  84.6   25.326362     Solteiro         13  \n",
       "193  84.6   49.742039   Divorciado         26  \n",
       "204  84.6   54.821494     Solteiro         19  \n",
       "224  84.6  146.816434     Solteiro         19  "
      ]
     },
     "execution_count": 22,
     "metadata": {},
     "output_type": "execute_result"
    }
   ],
   "source": [
    "df_respondentes.loc[index_ausentes_peso]"
   ]
  },
  {
   "cell_type": "markdown",
   "metadata": {},
   "source": [
    "#### Analisando Dados Ausentes da Variável - Estado Civil\n",
    "***"
   ]
  },
  {
   "cell_type": "code",
   "execution_count": 23,
   "metadata": {},
   "outputs": [
    {
     "data": {
      "text/html": [
       "<div>\n",
       "<style scoped>\n",
       "    .dataframe tbody tr th:only-of-type {\n",
       "        vertical-align: middle;\n",
       "    }\n",
       "\n",
       "    .dataframe tbody tr th {\n",
       "        vertical-align: top;\n",
       "    }\n",
       "\n",
       "    .dataframe thead th {\n",
       "        text-align: right;\n",
       "    }\n",
       "</style>\n",
       "<table border=\"1\" class=\"dataframe\">\n",
       "  <thead>\n",
       "    <tr style=\"text-align: right;\">\n",
       "      <th></th>\n",
       "      <th>cod_pessoa</th>\n",
       "      <th>genero</th>\n",
       "      <th>data_nascimento</th>\n",
       "      <th>educacao</th>\n",
       "      <th>renda_mensal</th>\n",
       "      <th>peso</th>\n",
       "      <th>colesterol</th>\n",
       "      <th>estado_civil</th>\n",
       "      <th>id_estado</th>\n",
       "    </tr>\n",
       "  </thead>\n",
       "  <tbody>\n",
       "    <tr>\n",
       "      <th>271</th>\n",
       "      <td>10141831</td>\n",
       "      <td>Feminino</td>\n",
       "      <td>1966-01-13</td>\n",
       "      <td>Ensino Médio</td>\n",
       "      <td>3000-5000</td>\n",
       "      <td>91.489051</td>\n",
       "      <td>78.089773</td>\n",
       "      <td>NaN</td>\n",
       "      <td>6</td>\n",
       "    </tr>\n",
       "    <tr>\n",
       "      <th>277</th>\n",
       "      <td>10142166</td>\n",
       "      <td>Masculino</td>\n",
       "      <td>1998-12-06</td>\n",
       "      <td>Ensino Médio</td>\n",
       "      <td>&lt; 1000</td>\n",
       "      <td>85.877336</td>\n",
       "      <td>28.497725</td>\n",
       "      <td>NaN</td>\n",
       "      <td>6</td>\n",
       "    </tr>\n",
       "    <tr>\n",
       "      <th>288</th>\n",
       "      <td>10143274</td>\n",
       "      <td>Feminino</td>\n",
       "      <td>1972-03-08</td>\n",
       "      <td>Pós-Graduação</td>\n",
       "      <td>&gt; 5000</td>\n",
       "      <td>64.992991</td>\n",
       "      <td>107.098409</td>\n",
       "      <td>NaN</td>\n",
       "      <td>9</td>\n",
       "    </tr>\n",
       "    <tr>\n",
       "      <th>290</th>\n",
       "      <td>10142110</td>\n",
       "      <td>Masculino</td>\n",
       "      <td>1974-02-12</td>\n",
       "      <td>Graduação</td>\n",
       "      <td>&gt; 5000</td>\n",
       "      <td>68.556250</td>\n",
       "      <td>149.087554</td>\n",
       "      <td>NaN</td>\n",
       "      <td>23</td>\n",
       "    </tr>\n",
       "    <tr>\n",
       "      <th>296</th>\n",
       "      <td>10143104</td>\n",
       "      <td>Masculino</td>\n",
       "      <td>1982-08-06</td>\n",
       "      <td>Ensino Fundamental</td>\n",
       "      <td>&lt; 1000</td>\n",
       "      <td>65.035652</td>\n",
       "      <td>62.671528</td>\n",
       "      <td>NaN</td>\n",
       "      <td>16</td>\n",
       "    </tr>\n",
       "    <tr>\n",
       "      <th>372</th>\n",
       "      <td>10142506</td>\n",
       "      <td>Masculino</td>\n",
       "      <td>1958-03-25</td>\n",
       "      <td>Pós-Graduação</td>\n",
       "      <td>3000-5000</td>\n",
       "      <td>99.129843</td>\n",
       "      <td>26.965852</td>\n",
       "      <td>NaN</td>\n",
       "      <td>12</td>\n",
       "    </tr>\n",
       "    <tr>\n",
       "      <th>378</th>\n",
       "      <td>10142356</td>\n",
       "      <td>Masculino</td>\n",
       "      <td>1996-05-02</td>\n",
       "      <td>Ensino Médio</td>\n",
       "      <td>3000-5000</td>\n",
       "      <td>69.841890</td>\n",
       "      <td>22.331822</td>\n",
       "      <td>NaN</td>\n",
       "      <td>19</td>\n",
       "    </tr>\n",
       "    <tr>\n",
       "      <th>382</th>\n",
       "      <td>10143583</td>\n",
       "      <td>Feminino</td>\n",
       "      <td>1990-09-22</td>\n",
       "      <td>Graduação</td>\n",
       "      <td>&gt; 5000</td>\n",
       "      <td>87.227097</td>\n",
       "      <td>154.098201</td>\n",
       "      <td>NaN</td>\n",
       "      <td>25</td>\n",
       "    </tr>\n",
       "    <tr>\n",
       "      <th>391</th>\n",
       "      <td>10142257</td>\n",
       "      <td>Masculino</td>\n",
       "      <td>1951-11-06</td>\n",
       "      <td>Ensino Fundamental</td>\n",
       "      <td>1000-3000</td>\n",
       "      <td>69.619009</td>\n",
       "      <td>10.386760</td>\n",
       "      <td>NaN</td>\n",
       "      <td>12</td>\n",
       "    </tr>\n",
       "    <tr>\n",
       "      <th>394</th>\n",
       "      <td>10142985</td>\n",
       "      <td>Masculino</td>\n",
       "      <td>1970-04-05</td>\n",
       "      <td>Ensino Fundamental</td>\n",
       "      <td>&lt; 1000</td>\n",
       "      <td>107.139193</td>\n",
       "      <td>232.983415</td>\n",
       "      <td>NaN</td>\n",
       "      <td>2</td>\n",
       "    </tr>\n",
       "  </tbody>\n",
       "</table>\n",
       "</div>"
      ],
      "text/plain": [
       "     cod_pessoa     genero data_nascimento            educacao renda_mensal  \\\n",
       "271    10141831   Feminino      1966-01-13        Ensino Médio    3000-5000   \n",
       "277    10142166  Masculino      1998-12-06        Ensino Médio       < 1000   \n",
       "288    10143274   Feminino      1972-03-08       Pós-Graduação       > 5000   \n",
       "290    10142110  Masculino      1974-02-12           Graduação       > 5000   \n",
       "296    10143104  Masculino      1982-08-06  Ensino Fundamental       < 1000   \n",
       "372    10142506  Masculino      1958-03-25       Pós-Graduação    3000-5000   \n",
       "378    10142356  Masculino      1996-05-02        Ensino Médio    3000-5000   \n",
       "382    10143583   Feminino      1990-09-22           Graduação       > 5000   \n",
       "391    10142257  Masculino      1951-11-06  Ensino Fundamental    1000-3000   \n",
       "394    10142985  Masculino      1970-04-05  Ensino Fundamental       < 1000   \n",
       "\n",
       "           peso  colesterol estado_civil  id_estado  \n",
       "271   91.489051   78.089773          NaN          6  \n",
       "277   85.877336   28.497725          NaN          6  \n",
       "288   64.992991  107.098409          NaN          9  \n",
       "290   68.556250  149.087554          NaN         23  \n",
       "296   65.035652   62.671528          NaN         16  \n",
       "372   99.129843   26.965852          NaN         12  \n",
       "378   69.841890   22.331822          NaN         19  \n",
       "382   87.227097  154.098201          NaN         25  \n",
       "391   69.619009   10.386760          NaN         12  \n",
       "394  107.139193  232.983415          NaN          2  "
      ]
     },
     "execution_count": 23,
     "metadata": {},
     "output_type": "execute_result"
    }
   ],
   "source": [
    "filtro = df_respondentes['estado_civil'].isna()\n",
    "index_ausentes_estado_civil = df_respondentes[filtro].index\n",
    "df_respondentes.loc[index_ausentes_estado_civil]"
   ]
  },
  {
   "cell_type": "markdown",
   "metadata": {},
   "source": [
    "##### Correção dos Dados de Estado Civil"
   ]
  },
  {
   "cell_type": "code",
   "execution_count": 24,
   "metadata": {},
   "outputs": [
    {
     "name": "stdout",
     "output_type": "stream",
     "text": [
      "Casado\n"
     ]
    }
   ],
   "source": [
    "moda_estado_civil = df_respondentes['estado_civil'].mode()[0]\n",
    "print(moda_estado_civil)\n",
    "df_respondentes['estado_civil'] = df_respondentes['estado_civil'].fillna(value=moda_estado_civil)\n"
   ]
  },
  {
   "cell_type": "markdown",
   "metadata": {},
   "source": [
    "##### Verificando Dados Corrigidos"
   ]
  },
  {
   "cell_type": "code",
   "execution_count": 25,
   "metadata": {},
   "outputs": [
    {
     "data": {
      "text/html": [
       "<div>\n",
       "<style scoped>\n",
       "    .dataframe tbody tr th:only-of-type {\n",
       "        vertical-align: middle;\n",
       "    }\n",
       "\n",
       "    .dataframe tbody tr th {\n",
       "        vertical-align: top;\n",
       "    }\n",
       "\n",
       "    .dataframe thead th {\n",
       "        text-align: right;\n",
       "    }\n",
       "</style>\n",
       "<table border=\"1\" class=\"dataframe\">\n",
       "  <thead>\n",
       "    <tr style=\"text-align: right;\">\n",
       "      <th></th>\n",
       "      <th>cod_pessoa</th>\n",
       "      <th>genero</th>\n",
       "      <th>data_nascimento</th>\n",
       "      <th>educacao</th>\n",
       "      <th>renda_mensal</th>\n",
       "      <th>peso</th>\n",
       "      <th>colesterol</th>\n",
       "      <th>estado_civil</th>\n",
       "      <th>id_estado</th>\n",
       "    </tr>\n",
       "  </thead>\n",
       "  <tbody>\n",
       "    <tr>\n",
       "      <th>271</th>\n",
       "      <td>10141831</td>\n",
       "      <td>Feminino</td>\n",
       "      <td>1966-01-13</td>\n",
       "      <td>Ensino Médio</td>\n",
       "      <td>3000-5000</td>\n",
       "      <td>91.489051</td>\n",
       "      <td>78.089773</td>\n",
       "      <td>Casado</td>\n",
       "      <td>6</td>\n",
       "    </tr>\n",
       "    <tr>\n",
       "      <th>277</th>\n",
       "      <td>10142166</td>\n",
       "      <td>Masculino</td>\n",
       "      <td>1998-12-06</td>\n",
       "      <td>Ensino Médio</td>\n",
       "      <td>&lt; 1000</td>\n",
       "      <td>85.877336</td>\n",
       "      <td>28.497725</td>\n",
       "      <td>Casado</td>\n",
       "      <td>6</td>\n",
       "    </tr>\n",
       "    <tr>\n",
       "      <th>288</th>\n",
       "      <td>10143274</td>\n",
       "      <td>Feminino</td>\n",
       "      <td>1972-03-08</td>\n",
       "      <td>Pós-Graduação</td>\n",
       "      <td>&gt; 5000</td>\n",
       "      <td>64.992991</td>\n",
       "      <td>107.098409</td>\n",
       "      <td>Casado</td>\n",
       "      <td>9</td>\n",
       "    </tr>\n",
       "    <tr>\n",
       "      <th>290</th>\n",
       "      <td>10142110</td>\n",
       "      <td>Masculino</td>\n",
       "      <td>1974-02-12</td>\n",
       "      <td>Graduação</td>\n",
       "      <td>&gt; 5000</td>\n",
       "      <td>68.556250</td>\n",
       "      <td>149.087554</td>\n",
       "      <td>Casado</td>\n",
       "      <td>23</td>\n",
       "    </tr>\n",
       "    <tr>\n",
       "      <th>296</th>\n",
       "      <td>10143104</td>\n",
       "      <td>Masculino</td>\n",
       "      <td>1982-08-06</td>\n",
       "      <td>Ensino Fundamental</td>\n",
       "      <td>&lt; 1000</td>\n",
       "      <td>65.035652</td>\n",
       "      <td>62.671528</td>\n",
       "      <td>Casado</td>\n",
       "      <td>16</td>\n",
       "    </tr>\n",
       "    <tr>\n",
       "      <th>372</th>\n",
       "      <td>10142506</td>\n",
       "      <td>Masculino</td>\n",
       "      <td>1958-03-25</td>\n",
       "      <td>Pós-Graduação</td>\n",
       "      <td>3000-5000</td>\n",
       "      <td>99.129843</td>\n",
       "      <td>26.965852</td>\n",
       "      <td>Casado</td>\n",
       "      <td>12</td>\n",
       "    </tr>\n",
       "    <tr>\n",
       "      <th>378</th>\n",
       "      <td>10142356</td>\n",
       "      <td>Masculino</td>\n",
       "      <td>1996-05-02</td>\n",
       "      <td>Ensino Médio</td>\n",
       "      <td>3000-5000</td>\n",
       "      <td>69.841890</td>\n",
       "      <td>22.331822</td>\n",
       "      <td>Casado</td>\n",
       "      <td>19</td>\n",
       "    </tr>\n",
       "    <tr>\n",
       "      <th>382</th>\n",
       "      <td>10143583</td>\n",
       "      <td>Feminino</td>\n",
       "      <td>1990-09-22</td>\n",
       "      <td>Graduação</td>\n",
       "      <td>&gt; 5000</td>\n",
       "      <td>87.227097</td>\n",
       "      <td>154.098201</td>\n",
       "      <td>Casado</td>\n",
       "      <td>25</td>\n",
       "    </tr>\n",
       "    <tr>\n",
       "      <th>391</th>\n",
       "      <td>10142257</td>\n",
       "      <td>Masculino</td>\n",
       "      <td>1951-11-06</td>\n",
       "      <td>Ensino Fundamental</td>\n",
       "      <td>1000-3000</td>\n",
       "      <td>69.619009</td>\n",
       "      <td>10.386760</td>\n",
       "      <td>Casado</td>\n",
       "      <td>12</td>\n",
       "    </tr>\n",
       "    <tr>\n",
       "      <th>394</th>\n",
       "      <td>10142985</td>\n",
       "      <td>Masculino</td>\n",
       "      <td>1970-04-05</td>\n",
       "      <td>Ensino Fundamental</td>\n",
       "      <td>&lt; 1000</td>\n",
       "      <td>107.139193</td>\n",
       "      <td>232.983415</td>\n",
       "      <td>Casado</td>\n",
       "      <td>2</td>\n",
       "    </tr>\n",
       "  </tbody>\n",
       "</table>\n",
       "</div>"
      ],
      "text/plain": [
       "     cod_pessoa     genero data_nascimento            educacao renda_mensal  \\\n",
       "271    10141831   Feminino      1966-01-13        Ensino Médio    3000-5000   \n",
       "277    10142166  Masculino      1998-12-06        Ensino Médio       < 1000   \n",
       "288    10143274   Feminino      1972-03-08       Pós-Graduação       > 5000   \n",
       "290    10142110  Masculino      1974-02-12           Graduação       > 5000   \n",
       "296    10143104  Masculino      1982-08-06  Ensino Fundamental       < 1000   \n",
       "372    10142506  Masculino      1958-03-25       Pós-Graduação    3000-5000   \n",
       "378    10142356  Masculino      1996-05-02        Ensino Médio    3000-5000   \n",
       "382    10143583   Feminino      1990-09-22           Graduação       > 5000   \n",
       "391    10142257  Masculino      1951-11-06  Ensino Fundamental    1000-3000   \n",
       "394    10142985  Masculino      1970-04-05  Ensino Fundamental       < 1000   \n",
       "\n",
       "           peso  colesterol estado_civil  id_estado  \n",
       "271   91.489051   78.089773       Casado          6  \n",
       "277   85.877336   28.497725       Casado          6  \n",
       "288   64.992991  107.098409       Casado          9  \n",
       "290   68.556250  149.087554       Casado         23  \n",
       "296   65.035652   62.671528       Casado         16  \n",
       "372   99.129843   26.965852       Casado         12  \n",
       "378   69.841890   22.331822       Casado         19  \n",
       "382   87.227097  154.098201       Casado         25  \n",
       "391   69.619009   10.386760       Casado         12  \n",
       "394  107.139193  232.983415       Casado          2  "
      ]
     },
     "execution_count": 25,
     "metadata": {},
     "output_type": "execute_result"
    }
   ],
   "source": [
    "df_respondentes.loc[index_ausentes_estado_civil]"
   ]
  },
  {
   "cell_type": "markdown",
   "metadata": {},
   "source": [
    "## Modelo de Entidade e Relacionamento \n",
    "***\n",
    "\n",
    "<font color=\"yellow\">Conceito</font>\n",
    "\n",
    "\n",
    "Um modelo de entidade e relacionamento (ER) é uma representação visual e conceitual usada para descrever a estrutura lógica de uma base de dados. Ele serve como um plano detalhado que mapeia como os dados se relacionam entre si dentro do sistema, facilitando a organização e a gestão de informações.\n",
    "\n",
    "Componentes do Modelo ER\n",
    "Entidades: Representam objetos ou coisas do mundo real sobre os quais se deseja armazenar informações. Uma entidade pode ser uma pessoa, lugar, evento ou qualquer outro elemento relevante para o sistema. Por exemplo, em um sistema de gerenciamento de pesquisa de preferências, entidades podem incluir \"participante\", \"pesquisa\" e \"estado\".\n",
    "\n",
    "Atributos: São propriedades ou características das entidades. Cada entidade possui um conjunto de atributos que descrevem suas propriedades. Por exemplo, a entidade \"participantes\" pode ter atributos como \"genero\", \"data_nascimento\" e \"nome\".\n",
    "\n",
    "Relacionamentos: Descrevem como as entidades interagem entre si. Um relacionamento indica a associação entre uma ou mais entidades. Por exemplo, o relacionamento \"realizado por\" pode conectar as entidades \"participante\" e \"pesquisa\", indicando quais autores realizam a pesquisa.\n",
    "\n",
    "<center>\n",
    "\n",
    "<img src=\"../img/MER_pesquisa_referencias.png\" width=\"70%\">\n",
    "</center>\n"
   ]
  },
  {
   "cell_type": "markdown",
   "metadata": {},
   "source": [
    "### Conexão com o Banco de Dados\n",
    "***"
   ]
  },
  {
   "cell_type": "code",
   "execution_count": 26,
   "metadata": {},
   "outputs": [],
   "source": [
    "def conectar_banco_mysql():\n",
    "    try:\n",
    "        user = os.environ['user_db']\n",
    "        password = os.environ['password_db']\n",
    "        host = os.environ['host']\n",
    "\n",
    "        conexao = f'mysql://{user}:{password}@{host}'\n",
    "        engine = create_engine(conexao)\n",
    "        conn = engine.connect()\n",
    "        print('Conexão Realizada com Sucesso!')\n",
    "        return conn\n",
    "    except Exception as e:\n",
    "        print(f'Não foi possível realizar a conexão. Erro: {e}')"
   ]
  },
  {
   "cell_type": "markdown",
   "metadata": {},
   "source": [
    "#### Validação da Conexão com o Servidor de Banco de Dados"
   ]
  },
  {
   "cell_type": "code",
   "execution_count": 27,
   "metadata": {},
   "outputs": [
    {
     "name": "stdout",
     "output_type": "stream",
     "text": [
      "Conexão Realizada com Sucesso!\n"
     ]
    }
   ],
   "source": [
    "conn = conectar_banco_mysql()"
   ]
  },
  {
   "cell_type": "markdown",
   "metadata": {},
   "source": [
    "#### Criação do Banco de Dados\n",
    "***"
   ]
  },
  {
   "cell_type": "code",
   "execution_count": 28,
   "metadata": {},
   "outputs": [
    {
     "name": "stdout",
     "output_type": "stream",
     "text": [
      "Banco de dados criado com sucesso!\n"
     ]
    }
   ],
   "source": [
    "try:\n",
    "    database = 'pesquisa_preferencias'\n",
    "    query = f'create schema if not exists {database}'\n",
    "    conn.execute(text(query))\n",
    "    print('Banco de dados criado com sucesso!')\n",
    "    conn.commit()\n",
    "except Exception as e:\n",
    "    print(f'Não foi possível criar o banco de dados. Erro: {e}')"
   ]
  },
  {
   "cell_type": "markdown",
   "metadata": {},
   "source": [
    "#### Executa o Script de Criação das Tabelas e Seus Relacionamentos"
   ]
  },
  {
   "cell_type": "code",
   "execution_count": 29,
   "metadata": {},
   "outputs": [
    {
     "name": "stdout",
     "output_type": "stream",
     "text": [
      "Tabelas criadas com sucesso!\n"
     ]
    }
   ],
   "source": [
    "with open('../script_DB/create_database_pesquisa_preferencias.sql') as file:\n",
    "    query = file.read()\n",
    "\n",
    "try:\n",
    "    conn.execute(text(query))\n",
    "    conn.commit()\n",
    "    print('Tabelas criadas com sucesso!')\n",
    "except Exception as e:\n",
    "    print(f'Não foi possível criar as tabelas do banco de dados. Erro: {e}')"
   ]
  },
  {
   "cell_type": "markdown",
   "metadata": {},
   "source": [
    "#### Feature Engineering\n",
    "***"
   ]
  },
  {
   "cell_type": "code",
   "execution_count": 30,
   "metadata": {},
   "outputs": [
    {
     "name": "stdout",
     "output_type": "stream",
     "text": [
      "<class 'pandas.core.frame.DataFrame'>\n",
      "Index: 2127 entries, 0 to 2126\n",
      "Data columns (total 9 columns):\n",
      " #   Column           Non-Null Count  Dtype  \n",
      "---  ------           --------------  -----  \n",
      " 0   cod_pessoa       2127 non-null   int64  \n",
      " 1   genero           2127 non-null   object \n",
      " 2   data_nascimento  2127 non-null   object \n",
      " 3   educacao         2127 non-null   object \n",
      " 4   renda_mensal     2127 non-null   object \n",
      " 5   peso             2127 non-null   float64\n",
      " 6   colesterol       2127 non-null   float64\n",
      " 7   estado_civil     2127 non-null   object \n",
      " 8   id_estado        2127 non-null   int64  \n",
      "dtypes: float64(2), int64(2), object(5)\n",
      "memory usage: 230.7+ KB\n"
     ]
    }
   ],
   "source": [
    "df_respondentes.info()"
   ]
  },
  {
   "cell_type": "markdown",
   "metadata": {},
   "source": [
    "#### Criação da Variável de Idade"
   ]
  },
  {
   "cell_type": "code",
   "execution_count": 31,
   "metadata": {},
   "outputs": [],
   "source": [
    "data_hoje = pd.to_datetime('today')\n",
    "df_respondentes['data_nascimento'] = pd.to_datetime(df_respondentes['data_nascimento'])\n",
    "df_respondentes['idade'] = ((data_hoje - df_respondentes['data_nascimento']).dt.days / 365.25).astype(int)"
   ]
  },
  {
   "cell_type": "code",
   "execution_count": 32,
   "metadata": {},
   "outputs": [
    {
     "data": {
      "text/html": [
       "<div>\n",
       "<style scoped>\n",
       "    .dataframe tbody tr th:only-of-type {\n",
       "        vertical-align: middle;\n",
       "    }\n",
       "\n",
       "    .dataframe tbody tr th {\n",
       "        vertical-align: top;\n",
       "    }\n",
       "\n",
       "    .dataframe thead th {\n",
       "        text-align: right;\n",
       "    }\n",
       "</style>\n",
       "<table border=\"1\" class=\"dataframe\">\n",
       "  <thead>\n",
       "    <tr style=\"text-align: right;\">\n",
       "      <th></th>\n",
       "      <th>cod_pessoa</th>\n",
       "      <th>genero</th>\n",
       "      <th>data_nascimento</th>\n",
       "      <th>educacao</th>\n",
       "      <th>renda_mensal</th>\n",
       "      <th>peso</th>\n",
       "      <th>colesterol</th>\n",
       "      <th>estado_civil</th>\n",
       "      <th>id_estado</th>\n",
       "      <th>idade</th>\n",
       "    </tr>\n",
       "  </thead>\n",
       "  <tbody>\n",
       "    <tr>\n",
       "      <th>0</th>\n",
       "      <td>10141743</td>\n",
       "      <td>Masculino</td>\n",
       "      <td>1981-04-25</td>\n",
       "      <td>Pós-Graduação</td>\n",
       "      <td>1000-3000</td>\n",
       "      <td>61.018446</td>\n",
       "      <td>96.777322</td>\n",
       "      <td>Viúvo</td>\n",
       "      <td>19</td>\n",
       "      <td>43</td>\n",
       "    </tr>\n",
       "    <tr>\n",
       "      <th>1</th>\n",
       "      <td>10141860</td>\n",
       "      <td>Feminino</td>\n",
       "      <td>1966-01-19</td>\n",
       "      <td>Ensino Médio</td>\n",
       "      <td>&gt; 5000</td>\n",
       "      <td>108.557401</td>\n",
       "      <td>176.108130</td>\n",
       "      <td>Viúvo</td>\n",
       "      <td>1</td>\n",
       "      <td>58</td>\n",
       "    </tr>\n",
       "    <tr>\n",
       "      <th>2</th>\n",
       "      <td>10142548</td>\n",
       "      <td>Masculino</td>\n",
       "      <td>1973-08-02</td>\n",
       "      <td>Pós-Graduação</td>\n",
       "      <td>&gt; 5000</td>\n",
       "      <td>112.349921</td>\n",
       "      <td>144.110224</td>\n",
       "      <td>Casado</td>\n",
       "      <td>19</td>\n",
       "      <td>51</td>\n",
       "    </tr>\n",
       "    <tr>\n",
       "      <th>3</th>\n",
       "      <td>10142591</td>\n",
       "      <td>Masculino</td>\n",
       "      <td>1997-03-05</td>\n",
       "      <td>Ensino Fundamental</td>\n",
       "      <td>&lt; 1000</td>\n",
       "      <td>116.238829</td>\n",
       "      <td>235.386072</td>\n",
       "      <td>Divorciado</td>\n",
       "      <td>17</td>\n",
       "      <td>27</td>\n",
       "    </tr>\n",
       "    <tr>\n",
       "      <th>4</th>\n",
       "      <td>10142654</td>\n",
       "      <td>Feminino</td>\n",
       "      <td>1969-08-05</td>\n",
       "      <td>Graduação</td>\n",
       "      <td>3000-5000</td>\n",
       "      <td>88.609912</td>\n",
       "      <td>38.102665</td>\n",
       "      <td>Casado</td>\n",
       "      <td>15</td>\n",
       "      <td>55</td>\n",
       "    </tr>\n",
       "  </tbody>\n",
       "</table>\n",
       "</div>"
      ],
      "text/plain": [
       "   cod_pessoa     genero data_nascimento            educacao renda_mensal  \\\n",
       "0    10141743  Masculino      1981-04-25       Pós-Graduação    1000-3000   \n",
       "1    10141860   Feminino      1966-01-19        Ensino Médio       > 5000   \n",
       "2    10142548  Masculino      1973-08-02       Pós-Graduação       > 5000   \n",
       "3    10142591  Masculino      1997-03-05  Ensino Fundamental       < 1000   \n",
       "4    10142654   Feminino      1969-08-05           Graduação    3000-5000   \n",
       "\n",
       "         peso  colesterol estado_civil  id_estado  idade  \n",
       "0   61.018446   96.777322        Viúvo         19     43  \n",
       "1  108.557401  176.108130        Viúvo          1     58  \n",
       "2  112.349921  144.110224       Casado         19     51  \n",
       "3  116.238829  235.386072   Divorciado         17     27  \n",
       "4   88.609912   38.102665       Casado         15     55  "
      ]
     },
     "execution_count": 32,
     "metadata": {},
     "output_type": "execute_result"
    }
   ],
   "source": [
    "df_respondentes.head()"
   ]
  },
  {
   "cell_type": "code",
   "execution_count": 41,
   "metadata": {},
   "outputs": [],
   "source": []
  },
  {
   "cell_type": "code",
   "execution_count": null,
   "metadata": {},
   "outputs": [],
   "source": []
  },
  {
   "cell_type": "markdown",
   "metadata": {},
   "source": [
    "#### Correção Variáveis Peso e Colesterol"
   ]
  },
  {
   "cell_type": "code",
   "execution_count": 33,
   "metadata": {},
   "outputs": [],
   "source": [
    "df_respondentes['peso'] = df_respondentes['peso'].round(2)\n",
    "df_respondentes['colesterol'] = df_respondentes['colesterol'].round(2)"
   ]
  },
  {
   "cell_type": "code",
   "execution_count": 34,
   "metadata": {},
   "outputs": [
    {
     "data": {
      "text/html": [
       "<div>\n",
       "<style scoped>\n",
       "    .dataframe tbody tr th:only-of-type {\n",
       "        vertical-align: middle;\n",
       "    }\n",
       "\n",
       "    .dataframe tbody tr th {\n",
       "        vertical-align: top;\n",
       "    }\n",
       "\n",
       "    .dataframe thead th {\n",
       "        text-align: right;\n",
       "    }\n",
       "</style>\n",
       "<table border=\"1\" class=\"dataframe\">\n",
       "  <thead>\n",
       "    <tr style=\"text-align: right;\">\n",
       "      <th></th>\n",
       "      <th>cod_pessoa</th>\n",
       "      <th>genero</th>\n",
       "      <th>data_nascimento</th>\n",
       "      <th>educacao</th>\n",
       "      <th>renda_mensal</th>\n",
       "      <th>peso</th>\n",
       "      <th>colesterol</th>\n",
       "      <th>estado_civil</th>\n",
       "      <th>id_estado</th>\n",
       "      <th>idade</th>\n",
       "    </tr>\n",
       "  </thead>\n",
       "  <tbody>\n",
       "    <tr>\n",
       "      <th>0</th>\n",
       "      <td>10141743</td>\n",
       "      <td>Masculino</td>\n",
       "      <td>1981-04-25</td>\n",
       "      <td>Pós-Graduação</td>\n",
       "      <td>1000-3000</td>\n",
       "      <td>61.02</td>\n",
       "      <td>96.78</td>\n",
       "      <td>Viúvo</td>\n",
       "      <td>19</td>\n",
       "      <td>43</td>\n",
       "    </tr>\n",
       "    <tr>\n",
       "      <th>1</th>\n",
       "      <td>10141860</td>\n",
       "      <td>Feminino</td>\n",
       "      <td>1966-01-19</td>\n",
       "      <td>Ensino Médio</td>\n",
       "      <td>&gt; 5000</td>\n",
       "      <td>108.56</td>\n",
       "      <td>176.11</td>\n",
       "      <td>Viúvo</td>\n",
       "      <td>1</td>\n",
       "      <td>58</td>\n",
       "    </tr>\n",
       "    <tr>\n",
       "      <th>2</th>\n",
       "      <td>10142548</td>\n",
       "      <td>Masculino</td>\n",
       "      <td>1973-08-02</td>\n",
       "      <td>Pós-Graduação</td>\n",
       "      <td>&gt; 5000</td>\n",
       "      <td>112.35</td>\n",
       "      <td>144.11</td>\n",
       "      <td>Casado</td>\n",
       "      <td>19</td>\n",
       "      <td>51</td>\n",
       "    </tr>\n",
       "    <tr>\n",
       "      <th>3</th>\n",
       "      <td>10142591</td>\n",
       "      <td>Masculino</td>\n",
       "      <td>1997-03-05</td>\n",
       "      <td>Ensino Fundamental</td>\n",
       "      <td>&lt; 1000</td>\n",
       "      <td>116.24</td>\n",
       "      <td>235.39</td>\n",
       "      <td>Divorciado</td>\n",
       "      <td>17</td>\n",
       "      <td>27</td>\n",
       "    </tr>\n",
       "    <tr>\n",
       "      <th>4</th>\n",
       "      <td>10142654</td>\n",
       "      <td>Feminino</td>\n",
       "      <td>1969-08-05</td>\n",
       "      <td>Graduação</td>\n",
       "      <td>3000-5000</td>\n",
       "      <td>88.61</td>\n",
       "      <td>38.10</td>\n",
       "      <td>Casado</td>\n",
       "      <td>15</td>\n",
       "      <td>55</td>\n",
       "    </tr>\n",
       "  </tbody>\n",
       "</table>\n",
       "</div>"
      ],
      "text/plain": [
       "   cod_pessoa     genero data_nascimento            educacao renda_mensal  \\\n",
       "0    10141743  Masculino      1981-04-25       Pós-Graduação    1000-3000   \n",
       "1    10141860   Feminino      1966-01-19        Ensino Médio       > 5000   \n",
       "2    10142548  Masculino      1973-08-02       Pós-Graduação       > 5000   \n",
       "3    10142591  Masculino      1997-03-05  Ensino Fundamental       < 1000   \n",
       "4    10142654   Feminino      1969-08-05           Graduação    3000-5000   \n",
       "\n",
       "     peso  colesterol estado_civil  id_estado  idade  \n",
       "0   61.02       96.78        Viúvo         19     43  \n",
       "1  108.56      176.11        Viúvo          1     58  \n",
       "2  112.35      144.11       Casado         19     51  \n",
       "3  116.24      235.39   Divorciado         17     27  \n",
       "4   88.61       38.10       Casado         15     55  "
      ]
     },
     "execution_count": 34,
     "metadata": {},
     "output_type": "execute_result"
    }
   ],
   "source": [
    "df_respondentes.head()"
   ]
  },
  {
   "cell_type": "markdown",
   "metadata": {},
   "source": [
    "#### Integração de Dados\n",
    "***"
   ]
  },
  {
   "cell_type": "code",
   "execution_count": 35,
   "metadata": {},
   "outputs": [
    {
     "data": {
      "text/html": [
       "<div>\n",
       "<style scoped>\n",
       "    .dataframe tbody tr th:only-of-type {\n",
       "        vertical-align: middle;\n",
       "    }\n",
       "\n",
       "    .dataframe tbody tr th {\n",
       "        vertical-align: top;\n",
       "    }\n",
       "\n",
       "    .dataframe thead th {\n",
       "        text-align: right;\n",
       "    }\n",
       "</style>\n",
       "<table border=\"1\" class=\"dataframe\">\n",
       "  <thead>\n",
       "    <tr style=\"text-align: right;\">\n",
       "      <th></th>\n",
       "      <th>cod_pessoa</th>\n",
       "      <th>data_coleta</th>\n",
       "      <th>animal_estimacao</th>\n",
       "      <th>clima</th>\n",
       "      <th>bebida_favorita</th>\n",
       "      <th>hobby</th>\n",
       "      <th>atividade_fisica</th>\n",
       "      <th>preferencia_musical</th>\n",
       "    </tr>\n",
       "  </thead>\n",
       "  <tbody>\n",
       "    <tr>\n",
       "      <th>0</th>\n",
       "      <td>10141743</td>\n",
       "      <td>2024-01-05</td>\n",
       "      <td>Lagarto</td>\n",
       "      <td>frio</td>\n",
       "      <td>Cerveja</td>\n",
       "      <td>Praticar esporte</td>\n",
       "      <td>Diária</td>\n",
       "      <td>Pop</td>\n",
       "    </tr>\n",
       "    <tr>\n",
       "      <th>1</th>\n",
       "      <td>10141860</td>\n",
       "      <td>2024-01-05</td>\n",
       "      <td>Coelho</td>\n",
       "      <td>quente</td>\n",
       "      <td>Café</td>\n",
       "      <td>Assistir TV</td>\n",
       "      <td>Semanal</td>\n",
       "      <td>Pop</td>\n",
       "    </tr>\n",
       "    <tr>\n",
       "      <th>2</th>\n",
       "      <td>10142548</td>\n",
       "      <td>2024-01-05</td>\n",
       "      <td>Lagarto</td>\n",
       "      <td>frio</td>\n",
       "      <td>Café</td>\n",
       "      <td>Ler livros</td>\n",
       "      <td>Nunca</td>\n",
       "      <td>Rock</td>\n",
       "    </tr>\n",
       "    <tr>\n",
       "      <th>3</th>\n",
       "      <td>10142591</td>\n",
       "      <td>2024-01-05</td>\n",
       "      <td>Pássaro</td>\n",
       "      <td>moderado</td>\n",
       "      <td>Cerveja</td>\n",
       "      <td>Aprender algo novo</td>\n",
       "      <td>Mensal</td>\n",
       "      <td>Rock</td>\n",
       "    </tr>\n",
       "    <tr>\n",
       "      <th>4</th>\n",
       "      <td>10142654</td>\n",
       "      <td>2024-01-05</td>\n",
       "      <td>Lagarto</td>\n",
       "      <td>moderado</td>\n",
       "      <td>Café</td>\n",
       "      <td>Assistir TV</td>\n",
       "      <td>Nunca</td>\n",
       "      <td>Pop</td>\n",
       "    </tr>\n",
       "  </tbody>\n",
       "</table>\n",
       "</div>"
      ],
      "text/plain": [
       "   cod_pessoa data_coleta animal_estimacao     clima bebida_favorita  \\\n",
       "0    10141743  2024-01-05          Lagarto      frio         Cerveja   \n",
       "1    10141860  2024-01-05           Coelho    quente            Café   \n",
       "2    10142548  2024-01-05          Lagarto      frio            Café   \n",
       "3    10142591  2024-01-05          Pássaro  moderado         Cerveja   \n",
       "4    10142654  2024-01-05          Lagarto  moderado            Café   \n",
       "\n",
       "                hobby atividade_fisica preferencia_musical  \n",
       "0    Praticar esporte           Diária                 Pop  \n",
       "1         Assistir TV          Semanal                 Pop  \n",
       "2          Ler livros            Nunca                Rock  \n",
       "3  Aprender algo novo           Mensal                Rock  \n",
       "4         Assistir TV            Nunca                 Pop  "
      ]
     },
     "execution_count": 35,
     "metadata": {},
     "output_type": "execute_result"
    }
   ],
   "source": [
    "df_pesquisa.head()"
   ]
  },
  {
   "cell_type": "code",
   "execution_count": 36,
   "metadata": {},
   "outputs": [
    {
     "data": {
      "text/html": [
       "<div>\n",
       "<style scoped>\n",
       "    .dataframe tbody tr th:only-of-type {\n",
       "        vertical-align: middle;\n",
       "    }\n",
       "\n",
       "    .dataframe tbody tr th {\n",
       "        vertical-align: top;\n",
       "    }\n",
       "\n",
       "    .dataframe thead th {\n",
       "        text-align: right;\n",
       "    }\n",
       "</style>\n",
       "<table border=\"1\" class=\"dataframe\">\n",
       "  <thead>\n",
       "    <tr style=\"text-align: right;\">\n",
       "      <th></th>\n",
       "      <th>cod_pessoa</th>\n",
       "      <th>genero</th>\n",
       "      <th>data_nascimento</th>\n",
       "      <th>educacao</th>\n",
       "      <th>renda_mensal</th>\n",
       "      <th>peso</th>\n",
       "      <th>colesterol</th>\n",
       "      <th>estado_civil</th>\n",
       "      <th>id_estado</th>\n",
       "      <th>idade</th>\n",
       "    </tr>\n",
       "  </thead>\n",
       "  <tbody>\n",
       "    <tr>\n",
       "      <th>0</th>\n",
       "      <td>10141743</td>\n",
       "      <td>Masculino</td>\n",
       "      <td>1981-04-25</td>\n",
       "      <td>Pós-Graduação</td>\n",
       "      <td>1000-3000</td>\n",
       "      <td>61.02</td>\n",
       "      <td>96.78</td>\n",
       "      <td>Viúvo</td>\n",
       "      <td>19</td>\n",
       "      <td>43</td>\n",
       "    </tr>\n",
       "    <tr>\n",
       "      <th>1</th>\n",
       "      <td>10141860</td>\n",
       "      <td>Feminino</td>\n",
       "      <td>1966-01-19</td>\n",
       "      <td>Ensino Médio</td>\n",
       "      <td>&gt; 5000</td>\n",
       "      <td>108.56</td>\n",
       "      <td>176.11</td>\n",
       "      <td>Viúvo</td>\n",
       "      <td>1</td>\n",
       "      <td>58</td>\n",
       "    </tr>\n",
       "    <tr>\n",
       "      <th>2</th>\n",
       "      <td>10142548</td>\n",
       "      <td>Masculino</td>\n",
       "      <td>1973-08-02</td>\n",
       "      <td>Pós-Graduação</td>\n",
       "      <td>&gt; 5000</td>\n",
       "      <td>112.35</td>\n",
       "      <td>144.11</td>\n",
       "      <td>Casado</td>\n",
       "      <td>19</td>\n",
       "      <td>51</td>\n",
       "    </tr>\n",
       "    <tr>\n",
       "      <th>3</th>\n",
       "      <td>10142591</td>\n",
       "      <td>Masculino</td>\n",
       "      <td>1997-03-05</td>\n",
       "      <td>Ensino Fundamental</td>\n",
       "      <td>&lt; 1000</td>\n",
       "      <td>116.24</td>\n",
       "      <td>235.39</td>\n",
       "      <td>Divorciado</td>\n",
       "      <td>17</td>\n",
       "      <td>27</td>\n",
       "    </tr>\n",
       "    <tr>\n",
       "      <th>4</th>\n",
       "      <td>10142654</td>\n",
       "      <td>Feminino</td>\n",
       "      <td>1969-08-05</td>\n",
       "      <td>Graduação</td>\n",
       "      <td>3000-5000</td>\n",
       "      <td>88.61</td>\n",
       "      <td>38.10</td>\n",
       "      <td>Casado</td>\n",
       "      <td>15</td>\n",
       "      <td>55</td>\n",
       "    </tr>\n",
       "  </tbody>\n",
       "</table>\n",
       "</div>"
      ],
      "text/plain": [
       "   cod_pessoa     genero data_nascimento            educacao renda_mensal  \\\n",
       "0    10141743  Masculino      1981-04-25       Pós-Graduação    1000-3000   \n",
       "1    10141860   Feminino      1966-01-19        Ensino Médio       > 5000   \n",
       "2    10142548  Masculino      1973-08-02       Pós-Graduação       > 5000   \n",
       "3    10142591  Masculino      1997-03-05  Ensino Fundamental       < 1000   \n",
       "4    10142654   Feminino      1969-08-05           Graduação    3000-5000   \n",
       "\n",
       "     peso  colesterol estado_civil  id_estado  idade  \n",
       "0   61.02       96.78        Viúvo         19     43  \n",
       "1  108.56      176.11        Viúvo          1     58  \n",
       "2  112.35      144.11       Casado         19     51  \n",
       "3  116.24      235.39   Divorciado         17     27  \n",
       "4   88.61       38.10       Casado         15     55  "
      ]
     },
     "execution_count": 36,
     "metadata": {},
     "output_type": "execute_result"
    }
   ],
   "source": [
    "df_respondentes.head()"
   ]
  },
  {
   "cell_type": "code",
   "execution_count": 37,
   "metadata": {},
   "outputs": [],
   "source": [
    "df = pd.merge(left=df_pesquisa, right=df_respondentes, left_on='cod_pessoa', right_on='cod_pessoa', how='inner')"
   ]
  },
  {
   "cell_type": "code",
   "execution_count": 38,
   "metadata": {},
   "outputs": [
    {
     "data": {
      "text/html": [
       "<div>\n",
       "<style scoped>\n",
       "    .dataframe tbody tr th:only-of-type {\n",
       "        vertical-align: middle;\n",
       "    }\n",
       "\n",
       "    .dataframe tbody tr th {\n",
       "        vertical-align: top;\n",
       "    }\n",
       "\n",
       "    .dataframe thead th {\n",
       "        text-align: right;\n",
       "    }\n",
       "</style>\n",
       "<table border=\"1\" class=\"dataframe\">\n",
       "  <thead>\n",
       "    <tr style=\"text-align: right;\">\n",
       "      <th></th>\n",
       "      <th>cod_pessoa</th>\n",
       "      <th>data_coleta</th>\n",
       "      <th>animal_estimacao</th>\n",
       "      <th>clima</th>\n",
       "      <th>bebida_favorita</th>\n",
       "      <th>hobby</th>\n",
       "      <th>atividade_fisica</th>\n",
       "      <th>preferencia_musical</th>\n",
       "      <th>genero</th>\n",
       "      <th>data_nascimento</th>\n",
       "      <th>educacao</th>\n",
       "      <th>renda_mensal</th>\n",
       "      <th>peso</th>\n",
       "      <th>colesterol</th>\n",
       "      <th>estado_civil</th>\n",
       "      <th>id_estado</th>\n",
       "      <th>idade</th>\n",
       "    </tr>\n",
       "  </thead>\n",
       "  <tbody>\n",
       "    <tr>\n",
       "      <th>0</th>\n",
       "      <td>10141743</td>\n",
       "      <td>2024-01-05</td>\n",
       "      <td>Lagarto</td>\n",
       "      <td>frio</td>\n",
       "      <td>Cerveja</td>\n",
       "      <td>Praticar esporte</td>\n",
       "      <td>Diária</td>\n",
       "      <td>Pop</td>\n",
       "      <td>Masculino</td>\n",
       "      <td>1981-04-25</td>\n",
       "      <td>Pós-Graduação</td>\n",
       "      <td>1000-3000</td>\n",
       "      <td>61.02</td>\n",
       "      <td>96.78</td>\n",
       "      <td>Viúvo</td>\n",
       "      <td>19</td>\n",
       "      <td>43</td>\n",
       "    </tr>\n",
       "    <tr>\n",
       "      <th>1</th>\n",
       "      <td>10141860</td>\n",
       "      <td>2024-01-05</td>\n",
       "      <td>Coelho</td>\n",
       "      <td>quente</td>\n",
       "      <td>Café</td>\n",
       "      <td>Assistir TV</td>\n",
       "      <td>Semanal</td>\n",
       "      <td>Pop</td>\n",
       "      <td>Feminino</td>\n",
       "      <td>1966-01-19</td>\n",
       "      <td>Ensino Médio</td>\n",
       "      <td>&gt; 5000</td>\n",
       "      <td>108.56</td>\n",
       "      <td>176.11</td>\n",
       "      <td>Viúvo</td>\n",
       "      <td>1</td>\n",
       "      <td>58</td>\n",
       "    </tr>\n",
       "    <tr>\n",
       "      <th>2</th>\n",
       "      <td>10142548</td>\n",
       "      <td>2024-01-05</td>\n",
       "      <td>Lagarto</td>\n",
       "      <td>frio</td>\n",
       "      <td>Café</td>\n",
       "      <td>Ler livros</td>\n",
       "      <td>Nunca</td>\n",
       "      <td>Rock</td>\n",
       "      <td>Masculino</td>\n",
       "      <td>1973-08-02</td>\n",
       "      <td>Pós-Graduação</td>\n",
       "      <td>&gt; 5000</td>\n",
       "      <td>112.35</td>\n",
       "      <td>144.11</td>\n",
       "      <td>Casado</td>\n",
       "      <td>19</td>\n",
       "      <td>51</td>\n",
       "    </tr>\n",
       "    <tr>\n",
       "      <th>3</th>\n",
       "      <td>10142591</td>\n",
       "      <td>2024-01-05</td>\n",
       "      <td>Pássaro</td>\n",
       "      <td>moderado</td>\n",
       "      <td>Cerveja</td>\n",
       "      <td>Aprender algo novo</td>\n",
       "      <td>Mensal</td>\n",
       "      <td>Rock</td>\n",
       "      <td>Masculino</td>\n",
       "      <td>1997-03-05</td>\n",
       "      <td>Ensino Fundamental</td>\n",
       "      <td>&lt; 1000</td>\n",
       "      <td>116.24</td>\n",
       "      <td>235.39</td>\n",
       "      <td>Divorciado</td>\n",
       "      <td>17</td>\n",
       "      <td>27</td>\n",
       "    </tr>\n",
       "    <tr>\n",
       "      <th>4</th>\n",
       "      <td>10142654</td>\n",
       "      <td>2024-01-05</td>\n",
       "      <td>Lagarto</td>\n",
       "      <td>moderado</td>\n",
       "      <td>Café</td>\n",
       "      <td>Assistir TV</td>\n",
       "      <td>Nunca</td>\n",
       "      <td>Pop</td>\n",
       "      <td>Feminino</td>\n",
       "      <td>1969-08-05</td>\n",
       "      <td>Graduação</td>\n",
       "      <td>3000-5000</td>\n",
       "      <td>88.61</td>\n",
       "      <td>38.10</td>\n",
       "      <td>Casado</td>\n",
       "      <td>15</td>\n",
       "      <td>55</td>\n",
       "    </tr>\n",
       "  </tbody>\n",
       "</table>\n",
       "</div>"
      ],
      "text/plain": [
       "   cod_pessoa data_coleta animal_estimacao     clima bebida_favorita  \\\n",
       "0    10141743  2024-01-05          Lagarto      frio         Cerveja   \n",
       "1    10141860  2024-01-05           Coelho    quente            Café   \n",
       "2    10142548  2024-01-05          Lagarto      frio            Café   \n",
       "3    10142591  2024-01-05          Pássaro  moderado         Cerveja   \n",
       "4    10142654  2024-01-05          Lagarto  moderado            Café   \n",
       "\n",
       "                hobby atividade_fisica preferencia_musical     genero  \\\n",
       "0    Praticar esporte           Diária                 Pop  Masculino   \n",
       "1         Assistir TV          Semanal                 Pop   Feminino   \n",
       "2          Ler livros            Nunca                Rock  Masculino   \n",
       "3  Aprender algo novo           Mensal                Rock  Masculino   \n",
       "4         Assistir TV            Nunca                 Pop   Feminino   \n",
       "\n",
       "  data_nascimento            educacao renda_mensal    peso  colesterol  \\\n",
       "0      1981-04-25       Pós-Graduação    1000-3000   61.02       96.78   \n",
       "1      1966-01-19        Ensino Médio       > 5000  108.56      176.11   \n",
       "2      1973-08-02       Pós-Graduação       > 5000  112.35      144.11   \n",
       "3      1997-03-05  Ensino Fundamental       < 1000  116.24      235.39   \n",
       "4      1969-08-05           Graduação    3000-5000   88.61       38.10   \n",
       "\n",
       "  estado_civil  id_estado  idade  \n",
       "0        Viúvo         19     43  \n",
       "1        Viúvo          1     58  \n",
       "2       Casado         19     51  \n",
       "3   Divorciado         17     27  \n",
       "4       Casado         15     55  "
      ]
     },
     "execution_count": 38,
     "metadata": {},
     "output_type": "execute_result"
    }
   ],
   "source": [
    "df.head()"
   ]
  },
  {
   "cell_type": "code",
   "execution_count": 39,
   "metadata": {},
   "outputs": [
    {
     "data": {
      "text/html": [
       "<div>\n",
       "<style scoped>\n",
       "    .dataframe tbody tr th:only-of-type {\n",
       "        vertical-align: middle;\n",
       "    }\n",
       "\n",
       "    .dataframe tbody tr th {\n",
       "        vertical-align: top;\n",
       "    }\n",
       "\n",
       "    .dataframe thead th {\n",
       "        text-align: right;\n",
       "    }\n",
       "</style>\n",
       "<table border=\"1\" class=\"dataframe\">\n",
       "  <thead>\n",
       "    <tr style=\"text-align: right;\">\n",
       "      <th></th>\n",
       "      <th>cod_estado</th>\n",
       "      <th>sigla</th>\n",
       "      <th>estado</th>\n",
       "      <th>regiao</th>\n",
       "      <th>pais</th>\n",
       "    </tr>\n",
       "  </thead>\n",
       "  <tbody>\n",
       "    <tr>\n",
       "      <th>0</th>\n",
       "      <td>1</td>\n",
       "      <td>AC</td>\n",
       "      <td>Acre</td>\n",
       "      <td>Norte</td>\n",
       "      <td>Brasil</td>\n",
       "    </tr>\n",
       "    <tr>\n",
       "      <th>1</th>\n",
       "      <td>2</td>\n",
       "      <td>AL</td>\n",
       "      <td>Alagoas</td>\n",
       "      <td>Nordeste</td>\n",
       "      <td>Brasil</td>\n",
       "    </tr>\n",
       "    <tr>\n",
       "      <th>2</th>\n",
       "      <td>3</td>\n",
       "      <td>AP</td>\n",
       "      <td>Amapá</td>\n",
       "      <td>Norte</td>\n",
       "      <td>Brasil</td>\n",
       "    </tr>\n",
       "    <tr>\n",
       "      <th>3</th>\n",
       "      <td>4</td>\n",
       "      <td>AM</td>\n",
       "      <td>Amazonas</td>\n",
       "      <td>Norte</td>\n",
       "      <td>Brasil</td>\n",
       "    </tr>\n",
       "    <tr>\n",
       "      <th>4</th>\n",
       "      <td>5</td>\n",
       "      <td>BA</td>\n",
       "      <td>Bahia</td>\n",
       "      <td>Nordeste</td>\n",
       "      <td>Brasil</td>\n",
       "    </tr>\n",
       "  </tbody>\n",
       "</table>\n",
       "</div>"
      ],
      "text/plain": [
       "   cod_estado sigla    estado    regiao    pais\n",
       "0           1    AC      Acre     Norte  Brasil\n",
       "1           2    AL   Alagoas  Nordeste  Brasil\n",
       "2           3    AP     Amapá     Norte  Brasil\n",
       "3           4    AM  Amazonas     Norte  Brasil\n",
       "4           5    BA     Bahia  Nordeste  Brasil"
      ]
     },
     "execution_count": 39,
     "metadata": {},
     "output_type": "execute_result"
    }
   ],
   "source": [
    "df_estados.head()"
   ]
  },
  {
   "cell_type": "code",
   "execution_count": 40,
   "metadata": {},
   "outputs": [],
   "source": [
    "df = pd.merge(left=df, right=df_estados, left_on='id_estado', right_on='cod_estado', how='inner')"
   ]
  },
  {
   "cell_type": "code",
   "execution_count": 41,
   "metadata": {},
   "outputs": [
    {
     "data": {
      "text/html": [
       "<div>\n",
       "<style scoped>\n",
       "    .dataframe tbody tr th:only-of-type {\n",
       "        vertical-align: middle;\n",
       "    }\n",
       "\n",
       "    .dataframe tbody tr th {\n",
       "        vertical-align: top;\n",
       "    }\n",
       "\n",
       "    .dataframe thead th {\n",
       "        text-align: right;\n",
       "    }\n",
       "</style>\n",
       "<table border=\"1\" class=\"dataframe\">\n",
       "  <thead>\n",
       "    <tr style=\"text-align: right;\">\n",
       "      <th></th>\n",
       "      <th>cod_pessoa</th>\n",
       "      <th>data_coleta</th>\n",
       "      <th>animal_estimacao</th>\n",
       "      <th>clima</th>\n",
       "      <th>bebida_favorita</th>\n",
       "      <th>hobby</th>\n",
       "      <th>atividade_fisica</th>\n",
       "      <th>preferencia_musical</th>\n",
       "      <th>genero</th>\n",
       "      <th>data_nascimento</th>\n",
       "      <th>...</th>\n",
       "      <th>peso</th>\n",
       "      <th>colesterol</th>\n",
       "      <th>estado_civil</th>\n",
       "      <th>id_estado</th>\n",
       "      <th>idade</th>\n",
       "      <th>cod_estado</th>\n",
       "      <th>sigla</th>\n",
       "      <th>estado</th>\n",
       "      <th>regiao</th>\n",
       "      <th>pais</th>\n",
       "    </tr>\n",
       "  </thead>\n",
       "  <tbody>\n",
       "    <tr>\n",
       "      <th>0</th>\n",
       "      <td>10141743</td>\n",
       "      <td>2024-01-05</td>\n",
       "      <td>Lagarto</td>\n",
       "      <td>frio</td>\n",
       "      <td>Cerveja</td>\n",
       "      <td>Praticar esporte</td>\n",
       "      <td>Diária</td>\n",
       "      <td>Pop</td>\n",
       "      <td>Masculino</td>\n",
       "      <td>1981-04-25</td>\n",
       "      <td>...</td>\n",
       "      <td>61.02</td>\n",
       "      <td>96.78</td>\n",
       "      <td>Viúvo</td>\n",
       "      <td>19</td>\n",
       "      <td>43</td>\n",
       "      <td>19</td>\n",
       "      <td>RJ</td>\n",
       "      <td>Rio de Janeiro</td>\n",
       "      <td>Sudeste</td>\n",
       "      <td>Brasil</td>\n",
       "    </tr>\n",
       "    <tr>\n",
       "      <th>1</th>\n",
       "      <td>10141860</td>\n",
       "      <td>2024-01-05</td>\n",
       "      <td>Coelho</td>\n",
       "      <td>quente</td>\n",
       "      <td>Café</td>\n",
       "      <td>Assistir TV</td>\n",
       "      <td>Semanal</td>\n",
       "      <td>Pop</td>\n",
       "      <td>Feminino</td>\n",
       "      <td>1966-01-19</td>\n",
       "      <td>...</td>\n",
       "      <td>108.56</td>\n",
       "      <td>176.11</td>\n",
       "      <td>Viúvo</td>\n",
       "      <td>1</td>\n",
       "      <td>58</td>\n",
       "      <td>1</td>\n",
       "      <td>AC</td>\n",
       "      <td>Acre</td>\n",
       "      <td>Norte</td>\n",
       "      <td>Brasil</td>\n",
       "    </tr>\n",
       "    <tr>\n",
       "      <th>2</th>\n",
       "      <td>10142548</td>\n",
       "      <td>2024-01-05</td>\n",
       "      <td>Lagarto</td>\n",
       "      <td>frio</td>\n",
       "      <td>Café</td>\n",
       "      <td>Ler livros</td>\n",
       "      <td>Nunca</td>\n",
       "      <td>Rock</td>\n",
       "      <td>Masculino</td>\n",
       "      <td>1973-08-02</td>\n",
       "      <td>...</td>\n",
       "      <td>112.35</td>\n",
       "      <td>144.11</td>\n",
       "      <td>Casado</td>\n",
       "      <td>19</td>\n",
       "      <td>51</td>\n",
       "      <td>19</td>\n",
       "      <td>RJ</td>\n",
       "      <td>Rio de Janeiro</td>\n",
       "      <td>Sudeste</td>\n",
       "      <td>Brasil</td>\n",
       "    </tr>\n",
       "    <tr>\n",
       "      <th>3</th>\n",
       "      <td>10142591</td>\n",
       "      <td>2024-01-05</td>\n",
       "      <td>Pássaro</td>\n",
       "      <td>moderado</td>\n",
       "      <td>Cerveja</td>\n",
       "      <td>Aprender algo novo</td>\n",
       "      <td>Mensal</td>\n",
       "      <td>Rock</td>\n",
       "      <td>Masculino</td>\n",
       "      <td>1997-03-05</td>\n",
       "      <td>...</td>\n",
       "      <td>116.24</td>\n",
       "      <td>235.39</td>\n",
       "      <td>Divorciado</td>\n",
       "      <td>17</td>\n",
       "      <td>27</td>\n",
       "      <td>17</td>\n",
       "      <td>PE</td>\n",
       "      <td>Pernambuco</td>\n",
       "      <td>Nordeste</td>\n",
       "      <td>Brasil</td>\n",
       "    </tr>\n",
       "    <tr>\n",
       "      <th>4</th>\n",
       "      <td>10142654</td>\n",
       "      <td>2024-01-05</td>\n",
       "      <td>Lagarto</td>\n",
       "      <td>moderado</td>\n",
       "      <td>Café</td>\n",
       "      <td>Assistir TV</td>\n",
       "      <td>Nunca</td>\n",
       "      <td>Pop</td>\n",
       "      <td>Feminino</td>\n",
       "      <td>1969-08-05</td>\n",
       "      <td>...</td>\n",
       "      <td>88.61</td>\n",
       "      <td>38.10</td>\n",
       "      <td>Casado</td>\n",
       "      <td>15</td>\n",
       "      <td>55</td>\n",
       "      <td>15</td>\n",
       "      <td>PB</td>\n",
       "      <td>Paraíba</td>\n",
       "      <td>Nordeste</td>\n",
       "      <td>Brasil</td>\n",
       "    </tr>\n",
       "  </tbody>\n",
       "</table>\n",
       "<p>5 rows × 22 columns</p>\n",
       "</div>"
      ],
      "text/plain": [
       "   cod_pessoa data_coleta animal_estimacao     clima bebida_favorita  \\\n",
       "0    10141743  2024-01-05          Lagarto      frio         Cerveja   \n",
       "1    10141860  2024-01-05           Coelho    quente            Café   \n",
       "2    10142548  2024-01-05          Lagarto      frio            Café   \n",
       "3    10142591  2024-01-05          Pássaro  moderado         Cerveja   \n",
       "4    10142654  2024-01-05          Lagarto  moderado            Café   \n",
       "\n",
       "                hobby atividade_fisica preferencia_musical     genero  \\\n",
       "0    Praticar esporte           Diária                 Pop  Masculino   \n",
       "1         Assistir TV          Semanal                 Pop   Feminino   \n",
       "2          Ler livros            Nunca                Rock  Masculino   \n",
       "3  Aprender algo novo           Mensal                Rock  Masculino   \n",
       "4         Assistir TV            Nunca                 Pop   Feminino   \n",
       "\n",
       "  data_nascimento  ...    peso colesterol  estado_civil  id_estado idade  \\\n",
       "0      1981-04-25  ...   61.02      96.78         Viúvo         19    43   \n",
       "1      1966-01-19  ...  108.56     176.11         Viúvo          1    58   \n",
       "2      1973-08-02  ...  112.35     144.11        Casado         19    51   \n",
       "3      1997-03-05  ...  116.24     235.39    Divorciado         17    27   \n",
       "4      1969-08-05  ...   88.61      38.10        Casado         15    55   \n",
       "\n",
       "   cod_estado  sigla          estado    regiao    pais  \n",
       "0          19     RJ  Rio de Janeiro   Sudeste  Brasil  \n",
       "1           1     AC            Acre     Norte  Brasil  \n",
       "2          19     RJ  Rio de Janeiro   Sudeste  Brasil  \n",
       "3          17     PE      Pernambuco  Nordeste  Brasil  \n",
       "4          15     PB         Paraíba  Nordeste  Brasil  \n",
       "\n",
       "[5 rows x 22 columns]"
      ]
     },
     "execution_count": 41,
     "metadata": {},
     "output_type": "execute_result"
    }
   ],
   "source": [
    "df.head()"
   ]
  },
  {
   "cell_type": "markdown",
   "metadata": {},
   "source": [
    "#### Praparação dos Dados\n",
    "***"
   ]
  },
  {
   "cell_type": "code",
   "execution_count": 42,
   "metadata": {},
   "outputs": [
    {
     "data": {
      "text/plain": [
       "Index(['cod_pessoa', 'data_coleta', 'animal_estimacao', 'clima',\n",
       "       'bebida_favorita', 'hobby', 'atividade_fisica', 'preferencia_musical',\n",
       "       'genero', 'data_nascimento', 'educacao', 'renda_mensal', 'peso',\n",
       "       'colesterol', 'estado_civil', 'id_estado', 'idade', 'cod_estado',\n",
       "       'sigla', 'estado', 'regiao', 'pais'],\n",
       "      dtype='object')"
      ]
     },
     "execution_count": 42,
     "metadata": {},
     "output_type": "execute_result"
    }
   ],
   "source": [
    "df.columns"
   ]
  },
  {
   "cell_type": "code",
   "execution_count": 39,
   "metadata": {},
   "outputs": [],
   "source": []
  },
  {
   "cell_type": "code",
   "execution_count": 40,
   "metadata": {},
   "outputs": [],
   "source": []
  },
  {
   "cell_type": "code",
   "execution_count": null,
   "metadata": {},
   "outputs": [],
   "source": []
  },
  {
   "cell_type": "code",
   "execution_count": null,
   "metadata": {},
   "outputs": [],
   "source": []
  },
  {
   "cell_type": "code",
   "execution_count": null,
   "metadata": {},
   "outputs": [],
   "source": []
  },
  {
   "cell_type": "code",
   "execution_count": null,
   "metadata": {},
   "outputs": [],
   "source": []
  },
  {
   "cell_type": "code",
   "execution_count": null,
   "metadata": {},
   "outputs": [],
   "source": []
  },
  {
   "cell_type": "code",
   "execution_count": null,
   "metadata": {},
   "outputs": [],
   "source": []
  },
  {
   "cell_type": "code",
   "execution_count": null,
   "metadata": {},
   "outputs": [],
   "source": []
  },
  {
   "cell_type": "code",
   "execution_count": null,
   "metadata": {},
   "outputs": [],
   "source": []
  },
  {
   "cell_type": "code",
   "execution_count": null,
   "metadata": {},
   "outputs": [],
   "source": []
  },
  {
   "cell_type": "markdown",
   "metadata": {},
   "source": [
    "#### Inserindo Registros no Banco de Dados\n",
    "***"
   ]
  },
  {
   "cell_type": "code",
   "execution_count": 58,
   "metadata": {},
   "outputs": [],
   "source": []
  },
  {
   "cell_type": "markdown",
   "metadata": {},
   "source": [
    "#### Inserção de Dados"
   ]
  },
  {
   "cell_type": "code",
   "execution_count": 64,
   "metadata": {},
   "outputs": [],
   "source": []
  },
  {
   "cell_type": "code",
   "execution_count": null,
   "metadata": {},
   "outputs": [],
   "source": []
  },
  {
   "cell_type": "code",
   "execution_count": null,
   "metadata": {},
   "outputs": [],
   "source": []
  },
  {
   "cell_type": "code",
   "execution_count": null,
   "metadata": {},
   "outputs": [],
   "source": []
  },
  {
   "cell_type": "code",
   "execution_count": null,
   "metadata": {},
   "outputs": [],
   "source": []
  },
  {
   "cell_type": "code",
   "execution_count": null,
   "metadata": {},
   "outputs": [],
   "source": []
  },
  {
   "cell_type": "code",
   "execution_count": null,
   "metadata": {},
   "outputs": [],
   "source": []
  },
  {
   "cell_type": "code",
   "execution_count": null,
   "metadata": {},
   "outputs": [],
   "source": []
  },
  {
   "cell_type": "code",
   "execution_count": null,
   "metadata": {},
   "outputs": [],
   "source": []
  },
  {
   "cell_type": "code",
   "execution_count": null,
   "metadata": {},
   "outputs": [],
   "source": []
  },
  {
   "cell_type": "markdown",
   "metadata": {},
   "source": [
    "#### Inserção de Dados Tabelas: Estado - Pessoa e Pesquisa\n",
    "***"
   ]
  },
  {
   "cell_type": "code",
   "execution_count": null,
   "metadata": {},
   "outputs": [],
   "source": []
  },
  {
   "cell_type": "markdown",
   "metadata": {},
   "source": [
    "#### Criação da Tabela Stage\n",
    "***"
   ]
  },
  {
   "cell_type": "markdown",
   "metadata": {},
   "source": [
    "A tabela \"stage\" em um banco de dados relacional é frequentemente utilizada como uma área temporária para armazenar dados que estão em processo de carregamento, transformação ou validação antes de serem movidos para as tabelas finais de destino. Essa abordagem é comum em processos de ETL (Extração, Transformação e Carga) onde dados brutos são extraídos de várias fontes, carregados na tabela de stage para processamento intermediário, e posteriormente transformados e carregados nas tabelas definitivas do banco de dados."
   ]
  },
  {
   "cell_type": "code",
   "execution_count": null,
   "metadata": {},
   "outputs": [],
   "source": []
  },
  {
   "cell_type": "code",
   "execution_count": null,
   "metadata": {},
   "outputs": [],
   "source": []
  },
  {
   "cell_type": "code",
   "execution_count": 83,
   "metadata": {},
   "outputs": [],
   "source": []
  },
  {
   "cell_type": "markdown",
   "metadata": {},
   "source": [
    "#### Inserção de Dados na Tabela de Pessoa"
   ]
  },
  {
   "cell_type": "code",
   "execution_count": null,
   "metadata": {},
   "outputs": [],
   "source": []
  },
  {
   "cell_type": "markdown",
   "metadata": {},
   "source": [
    "#### Inserção de Dados na Tabela de pesquisa"
   ]
  },
  {
   "cell_type": "code",
   "execution_count": null,
   "metadata": {},
   "outputs": [],
   "source": []
  },
  {
   "cell_type": "code",
   "execution_count": null,
   "metadata": {},
   "outputs": [],
   "source": []
  }
 ],
 "metadata": {
  "kernelspec": {
   "display_name": "Python 3",
   "language": "python",
   "name": "python3"
  },
  "language_info": {
   "codemirror_mode": {
    "name": "ipython",
    "version": 3
   },
   "file_extension": ".py",
   "mimetype": "text/x-python",
   "name": "python",
   "nbconvert_exporter": "python",
   "pygments_lexer": "ipython3",
   "version": "3.12.6"
  }
 },
 "nbformat": 4,
 "nbformat_minor": 2
}
