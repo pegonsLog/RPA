{
 "cells": [
  {
   "cell_type": "markdown",
   "metadata": {},
   "source": [
    "#### Importações necessárias\n",
    "***"
   ]
  },
  {
   "cell_type": "code",
   "execution_count": 90,
   "metadata": {},
   "outputs": [
    {
     "data": {
      "text/plain": [
       "True"
      ]
     },
     "execution_count": 90,
     "metadata": {},
     "output_type": "execute_result"
    }
   ],
   "source": [
    "import pandas as pd\n",
    "import os\n",
    "from sqlalchemy import create_engine, text\n",
    "import dotenv\n",
    "dotenv.load_dotenv('../config/.env')\n"
   ]
  },
  {
   "cell_type": "markdown",
   "metadata": {},
   "source": [
    "#### Extraindo e mostrando os dados dos datasets\n",
    "***"
   ]
  },
  {
   "cell_type": "code",
   "execution_count": 89,
   "metadata": {},
   "outputs": [],
   "source": [
    "PATH = '../datasets/dados_clinicos/dados_clinicos.csv'\n",
    "df_dados_clinicos = pd.read_csv(PATH, sep=';', encoding='latin1')"
   ]
  },
  {
   "cell_type": "code",
   "execution_count": 88,
   "metadata": {},
   "outputs": [],
   "source": [
    "PATH = '../datasets/dados_estado_regiao/estado_regiao.csv'\n",
    "df_estado_regiao = pd.read_csv(PATH, sep=';', encoding='latin1')"
   ]
  },
  {
   "cell_type": "code",
   "execution_count": 87,
   "metadata": {},
   "outputs": [],
   "source": [
    "PATH = '../datasets/dados_pacientes/dados_pacientes.csv'\n",
    "df_dados_pacientes = pd.read_csv(PATH, sep=';', encoding='latin1')"
   ]
  },
  {
   "cell_type": "code",
   "execution_count": 86,
   "metadata": {},
   "outputs": [
    {
     "data": {
      "text/html": [
       "<div>\n",
       "<style scoped>\n",
       "    .dataframe tbody tr th:only-of-type {\n",
       "        vertical-align: middle;\n",
       "    }\n",
       "\n",
       "    .dataframe tbody tr th {\n",
       "        vertical-align: top;\n",
       "    }\n",
       "\n",
       "    .dataframe thead th {\n",
       "        text-align: right;\n",
       "    }\n",
       "</style>\n",
       "<table border=\"1\" class=\"dataframe\">\n",
       "  <thead>\n",
       "    <tr style=\"text-align: right;\">\n",
       "      <th></th>\n",
       "      <th>id_cliente</th>\n",
       "      <th>idade</th>\n",
       "      <th>classe_trabalho</th>\n",
       "      <th>escolaridade</th>\n",
       "      <th>id_estado</th>\n",
       "      <th>estado_civil</th>\n",
       "      <th>raca</th>\n",
       "      <th>qtde_filhos</th>\n",
       "      <th>salario</th>\n",
       "    </tr>\n",
       "  </thead>\n",
       "  <tbody>\n",
       "    <tr>\n",
       "      <th>0</th>\n",
       "      <td>1</td>\n",
       "      <td>39</td>\n",
       "      <td>Servidor Público</td>\n",
       "      <td>Ensino Médio Completo</td>\n",
       "      <td>2</td>\n",
       "      <td>Solteiro</td>\n",
       "      <td>Branco</td>\n",
       "      <td>2.0</td>\n",
       "      <td>4754</td>\n",
       "    </tr>\n",
       "    <tr>\n",
       "      <th>1</th>\n",
       "      <td>2</td>\n",
       "      <td>50</td>\n",
       "      <td>Autônomo</td>\n",
       "      <td>Superior Incompleto</td>\n",
       "      <td>24</td>\n",
       "      <td>Casado</td>\n",
       "      <td>Branco</td>\n",
       "      <td>1.0</td>\n",
       "      <td>3923</td>\n",
       "    </tr>\n",
       "    <tr>\n",
       "      <th>2</th>\n",
       "      <td>3</td>\n",
       "      <td>38</td>\n",
       "      <td>Funcionário Setor Privado</td>\n",
       "      <td>Ensino Médio Incompleto</td>\n",
       "      <td>4</td>\n",
       "      <td>Divorciado</td>\n",
       "      <td>Branco</td>\n",
       "      <td>0.0</td>\n",
       "      <td>1100</td>\n",
       "    </tr>\n",
       "    <tr>\n",
       "      <th>3</th>\n",
       "      <td>4</td>\n",
       "      <td>53</td>\n",
       "      <td>Funcionário Setor Privado</td>\n",
       "      <td>Ensino Médio Incompleto</td>\n",
       "      <td>24</td>\n",
       "      <td>Casado</td>\n",
       "      <td>Negro</td>\n",
       "      <td>1.0</td>\n",
       "      <td>1100</td>\n",
       "    </tr>\n",
       "    <tr>\n",
       "      <th>4</th>\n",
       "      <td>5</td>\n",
       "      <td>28</td>\n",
       "      <td>Funcionário Setor Privado</td>\n",
       "      <td>Ensino Médio Completo</td>\n",
       "      <td>15</td>\n",
       "      <td>Casado</td>\n",
       "      <td>Negro</td>\n",
       "      <td>0.0</td>\n",
       "      <td>3430</td>\n",
       "    </tr>\n",
       "  </tbody>\n",
       "</table>\n",
       "</div>"
      ],
      "text/plain": [
       "   id_cliente  idade            classe_trabalho             escolaridade  \\\n",
       "0           1     39           Servidor Público    Ensino Médio Completo   \n",
       "1           2     50                   Autônomo      Superior Incompleto   \n",
       "2           3     38  Funcionário Setor Privado  Ensino Médio Incompleto   \n",
       "3           4     53  Funcionário Setor Privado  Ensino Médio Incompleto   \n",
       "4           5     28  Funcionário Setor Privado    Ensino Médio Completo   \n",
       "\n",
       "   id_estado estado_civil    raca  qtde_filhos  salario  \n",
       "0          2     Solteiro  Branco          2.0     4754  \n",
       "1         24       Casado  Branco          1.0     3923  \n",
       "2          4   Divorciado  Branco          0.0     1100  \n",
       "3         24       Casado   Negro          1.0     1100  \n",
       "4         15       Casado   Negro          0.0     3430  "
      ]
     },
     "execution_count": 86,
     "metadata": {},
     "output_type": "execute_result"
    }
   ],
   "source": [
    "df_dados_pacientes.head()"
   ]
  },
  {
   "cell_type": "code",
   "execution_count": 85,
   "metadata": {},
   "outputs": [
    {
     "data": {
      "text/html": [
       "<div>\n",
       "<style scoped>\n",
       "    .dataframe tbody tr th:only-of-type {\n",
       "        vertical-align: middle;\n",
       "    }\n",
       "\n",
       "    .dataframe tbody tr th {\n",
       "        vertical-align: top;\n",
       "    }\n",
       "\n",
       "    .dataframe thead th {\n",
       "        text-align: right;\n",
       "    }\n",
       "</style>\n",
       "<table border=\"1\" class=\"dataframe\">\n",
       "  <thead>\n",
       "    <tr style=\"text-align: right;\">\n",
       "      <th></th>\n",
       "      <th>id_cliente</th>\n",
       "      <th>peso</th>\n",
       "      <th>colesterol</th>\n",
       "      <th>genero</th>\n",
       "    </tr>\n",
       "  </thead>\n",
       "  <tbody>\n",
       "    <tr>\n",
       "      <th>0</th>\n",
       "      <td>1</td>\n",
       "      <td>152.7</td>\n",
       "      <td>203.9</td>\n",
       "      <td>Masculino</td>\n",
       "    </tr>\n",
       "    <tr>\n",
       "      <th>1</th>\n",
       "      <td>2</td>\n",
       "      <td>184.8</td>\n",
       "      <td>233.8</td>\n",
       "      <td>Masculino</td>\n",
       "    </tr>\n",
       "    <tr>\n",
       "      <th>2</th>\n",
       "      <td>3</td>\n",
       "      <td>152.1</td>\n",
       "      <td>210.4</td>\n",
       "      <td>Masculino</td>\n",
       "    </tr>\n",
       "    <tr>\n",
       "      <th>3</th>\n",
       "      <td>4</td>\n",
       "      <td>139.8</td>\n",
       "      <td>196.8</td>\n",
       "      <td>Masculino</td>\n",
       "    </tr>\n",
       "    <tr>\n",
       "      <th>4</th>\n",
       "      <td>5</td>\n",
       "      <td>182.4</td>\n",
       "      <td>215.8</td>\n",
       "      <td>Feminino</td>\n",
       "    </tr>\n",
       "  </tbody>\n",
       "</table>\n",
       "</div>"
      ],
      "text/plain": [
       "   id_cliente   peso  colesterol     genero\n",
       "0           1  152.7       203.9  Masculino\n",
       "1           2  184.8       233.8  Masculino\n",
       "2           3  152.1       210.4  Masculino\n",
       "3           4  139.8       196.8  Masculino\n",
       "4           5  182.4       215.8   Feminino"
      ]
     },
     "execution_count": 85,
     "metadata": {},
     "output_type": "execute_result"
    }
   ],
   "source": [
    "df_dados_clinicos.head()"
   ]
  },
  {
   "cell_type": "code",
   "execution_count": 84,
   "metadata": {},
   "outputs": [
    {
     "data": {
      "text/html": [
       "<div>\n",
       "<style scoped>\n",
       "    .dataframe tbody tr th:only-of-type {\n",
       "        vertical-align: middle;\n",
       "    }\n",
       "\n",
       "    .dataframe tbody tr th {\n",
       "        vertical-align: top;\n",
       "    }\n",
       "\n",
       "    .dataframe thead th {\n",
       "        text-align: right;\n",
       "    }\n",
       "</style>\n",
       "<table border=\"1\" class=\"dataframe\">\n",
       "  <thead>\n",
       "    <tr style=\"text-align: right;\">\n",
       "      <th></th>\n",
       "      <th>id_estado</th>\n",
       "      <th>sigla</th>\n",
       "      <th>estado</th>\n",
       "      <th>regiao</th>\n",
       "      <th>pais</th>\n",
       "    </tr>\n",
       "  </thead>\n",
       "  <tbody>\n",
       "    <tr>\n",
       "      <th>0</th>\n",
       "      <td>1</td>\n",
       "      <td>AC</td>\n",
       "      <td>Acre</td>\n",
       "      <td>Norte</td>\n",
       "      <td>Brasil</td>\n",
       "    </tr>\n",
       "    <tr>\n",
       "      <th>1</th>\n",
       "      <td>2</td>\n",
       "      <td>AL</td>\n",
       "      <td>Alagoas</td>\n",
       "      <td>Nordeste</td>\n",
       "      <td>Brasil</td>\n",
       "    </tr>\n",
       "    <tr>\n",
       "      <th>2</th>\n",
       "      <td>3</td>\n",
       "      <td>AP</td>\n",
       "      <td>Amapá</td>\n",
       "      <td>Norte</td>\n",
       "      <td>Brasil</td>\n",
       "    </tr>\n",
       "    <tr>\n",
       "      <th>3</th>\n",
       "      <td>4</td>\n",
       "      <td>AM</td>\n",
       "      <td>Amazonas</td>\n",
       "      <td>Norte</td>\n",
       "      <td>Brasil</td>\n",
       "    </tr>\n",
       "    <tr>\n",
       "      <th>4</th>\n",
       "      <td>5</td>\n",
       "      <td>BA</td>\n",
       "      <td>Bahia</td>\n",
       "      <td>Nordeste</td>\n",
       "      <td>Brasil</td>\n",
       "    </tr>\n",
       "  </tbody>\n",
       "</table>\n",
       "</div>"
      ],
      "text/plain": [
       "   id_estado sigla    estado    regiao    pais\n",
       "0          1    AC      Acre     Norte  Brasil\n",
       "1          2    AL   Alagoas  Nordeste  Brasil\n",
       "2          3    AP     Amapá     Norte  Brasil\n",
       "3          4    AM  Amazonas     Norte  Brasil\n",
       "4          5    BA     Bahia  Nordeste  Brasil"
      ]
     },
     "execution_count": 84,
     "metadata": {},
     "output_type": "execute_result"
    }
   ],
   "source": [
    "df_estado_regiao.head()"
   ]
  },
  {
   "cell_type": "markdown",
   "metadata": {},
   "source": [
    "#### Verificando e corrigindo os dados duplicados\n",
    "***"
   ]
  },
  {
   "cell_type": "code",
   "execution_count": 82,
   "metadata": {},
   "outputs": [],
   "source": [
    "def verifica_dados_duplicados(nome_dataframe, dataframe):\n",
    "    qtd = dataframe.duplicated().sum()\n",
    "\n",
    "    print(f'O dataframe {nome_dataframe} possui {qtd} dados duplicados')"
   ]
  },
  {
   "cell_type": "code",
   "execution_count": 93,
   "metadata": {},
   "outputs": [
    {
     "name": "stdout",
     "output_type": "stream",
     "text": [
      "O dataframe dados_clinicos possui 301 dados duplicados\n",
      "O dataframe dados_pacientes possui 85 dados duplicados\n",
      "O dataframe dados_estado_regiao possui 9 dados duplicados\n"
     ]
    }
   ],
   "source": [
    "verifica_dados_duplicados('dados_clinicos', df_dados_clinicos)\n",
    "verifica_dados_duplicados('dados_pacientes', df_dados_pacientes)\n",
    "verifica_dados_duplicados('dados_estado_regiao', df_estado_regiao)\n"
   ]
  },
  {
   "cell_type": "code",
   "execution_count": 94,
   "metadata": {},
   "outputs": [
    {
     "name": "stdout",
     "output_type": "stream",
     "text": [
      "O dataframe df_dados_pacientes possui 0 dados duplicados\n"
     ]
    }
   ],
   "source": [
    "df_dados_pacientes = df_dados_pacientes.drop_duplicates()\n",
    "verifica_dados_duplicados('df_dados_pacientes', df_dados_pacientes)"
   ]
  },
  {
   "cell_type": "code",
   "execution_count": 95,
   "metadata": {},
   "outputs": [
    {
     "name": "stdout",
     "output_type": "stream",
     "text": [
      "O dataframe df_dados_clinicos possui 0 dados duplicados\n"
     ]
    }
   ],
   "source": [
    "df_dados_clinicos = df_dados_clinicos.drop_duplicates()\n",
    "verifica_dados_duplicados('df_dados_clinicos', df_dados_clinicos)"
   ]
  },
  {
   "cell_type": "code",
   "execution_count": 96,
   "metadata": {},
   "outputs": [
    {
     "name": "stdout",
     "output_type": "stream",
     "text": [
      "O dataframe df_estado_regiao possui 0 dados duplicados\n"
     ]
    }
   ],
   "source": [
    "df_estado_regiao = df_estado_regiao.drop_duplicates()\n",
    "verifica_dados_duplicados('df_estado_regiao', df_estado_regiao)"
   ]
  },
  {
   "cell_type": "code",
   "execution_count": 97,
   "metadata": {},
   "outputs": [
    {
     "name": "stdout",
     "output_type": "stream",
     "text": [
      "----------------------------------------------------------------------------------------------------\n",
      "O dataframe dados_clinicos possui 0 dados duplicados\n",
      "----------------------------------------------------------------------------------------------------\n",
      "O dataframe dados_pacientes possui 0 dados duplicados\n",
      "----------------------------------------------------------------------------------------------------\n",
      "O dataframe dados_estado_regiao possui 0 dados duplicados\n",
      "----------------------------------------------------------------------------------------------------\n"
     ]
    }
   ],
   "source": [
    "lista_dataframes = [\n",
    "    ('dados_clinicos', df_dados_clinicos),\n",
    "    ('dados_pacientes', df_dados_pacientes),\n",
    "    ('dados_estado_regiao', df_estado_regiao)\n",
    "]\n",
    "\n",
    "for nome_dataframe, dataframe in lista_dataframes:\n",
    "           \n",
    "    print('--' * 50)\n",
    "    verifica_dados_duplicados(nome_dataframe, dataframe)\n",
    "print('--' * 50)"
   ]
  },
  {
   "cell_type": "markdown",
   "metadata": {},
   "source": [
    "#### Verificando e corrigindo os dados ausentes dos dados_pacientes\n",
    "***"
   ]
  },
  {
   "cell_type": "code",
   "execution_count": 98,
   "metadata": {},
   "outputs": [],
   "source": [
    "def verifica_dados_ausentes(nome_dataframe, dataframe):\n",
    "    dados_ausentes = dataframe.isna().sum()\n",
    "    colunas_com_ausentes = dados_ausentes[dados_ausentes > 0]\n",
    "    \n",
    "    print('--' * 50)\n",
    "    \n",
    "    if not colunas_com_ausentes.empty:\n",
    "        print(f'O dataframe {nome_dataframe} possui dados ausentes.\\nLista de colunas:')\n",
    "        return print(colunas_com_ausentes)\n",
    "    else:\n",
    "        print(f'O dataframe {nome_dataframe} não possui dados ausentes.')"
   ]
  },
  {
   "cell_type": "code",
   "execution_count": 101,
   "metadata": {},
   "outputs": [
    {
     "name": "stdout",
     "output_type": "stream",
     "text": [
      "----------------------------------------------------------------------------------------------------\n",
      "O dataframe df_dados_pacientes possui dados ausentes.\n",
      "Lista de colunas:\n",
      "classe_trabalho    387\n",
      "qtde_filhos         10\n",
      "dtype: int64\n"
     ]
    }
   ],
   "source": [
    "verifica_dados_ausentes('df_dados_pacientes', df_dados_pacientes)"
   ]
  },
  {
   "cell_type": "code",
   "execution_count": 103,
   "metadata": {},
   "outputs": [
    {
     "name": "stdout",
     "output_type": "stream",
     "text": [
      "2.0\n"
     ]
    }
   ],
   "source": [
    "moda_qtde_filhos = df_dados_pacientes['qtde_filhos'].median()\n",
    "print(moda_qtde_filhos)\n",
    "df_dados_pacientes['qtde_filhos'] = df_dados_pacientes['qtde_filhos'].fillna(value=moda_qtde_filhos)"
   ]
  },
  {
   "cell_type": "code",
   "execution_count": 105,
   "metadata": {},
   "outputs": [
    {
     "name": "stdout",
     "output_type": "stream",
     "text": [
      "Funcionário Setor Privado\n"
     ]
    }
   ],
   "source": [
    "moda_classe_trabalho = df_dados_pacientes['classe_trabalho'].mode()[0]\n",
    "print(moda_classe_trabalho)\n",
    "df_dados_pacientes['classe_trabalho'] = df_dados_pacientes['classe_trabalho'].fillna(value=moda_classe_trabalho)"
   ]
  },
  {
   "cell_type": "code",
   "execution_count": 106,
   "metadata": {},
   "outputs": [
    {
     "name": "stdout",
     "output_type": "stream",
     "text": [
      "----------------------------------------------------------------------------------------------------\n",
      "O dataframe df_dados_pacientes não possui dados ausentes.\n"
     ]
    }
   ],
   "source": [
    "verifica_dados_ausentes('df_dados_pacientes', df_dados_pacientes)"
   ]
  },
  {
   "cell_type": "markdown",
   "metadata": {},
   "source": [
    "#### Verificando e corrigindo os dados ausentes dos dados_clínicos\n",
    "***"
   ]
  },
  {
   "cell_type": "code",
   "execution_count": 107,
   "metadata": {},
   "outputs": [
    {
     "name": "stdout",
     "output_type": "stream",
     "text": [
      "----------------------------------------------------------------------------------------------------\n",
      "O dataframe df_dados_clinicos possui dados ausentes.\n",
      "Lista de colunas:\n",
      "peso      13\n",
      "genero    10\n",
      "dtype: int64\n"
     ]
    }
   ],
   "source": [
    "verifica_dados_ausentes('df_dados_clinicos', df_dados_clinicos)"
   ]
  },
  {
   "cell_type": "code",
   "execution_count": 108,
   "metadata": {},
   "outputs": [
    {
     "data": {
      "text/html": [
       "<div>\n",
       "<style scoped>\n",
       "    .dataframe tbody tr th:only-of-type {\n",
       "        vertical-align: middle;\n",
       "    }\n",
       "\n",
       "    .dataframe tbody tr th {\n",
       "        vertical-align: top;\n",
       "    }\n",
       "\n",
       "    .dataframe thead th {\n",
       "        text-align: right;\n",
       "    }\n",
       "</style>\n",
       "<table border=\"1\" class=\"dataframe\">\n",
       "  <thead>\n",
       "    <tr style=\"text-align: right;\">\n",
       "      <th></th>\n",
       "      <th>id_cliente</th>\n",
       "      <th>peso</th>\n",
       "      <th>colesterol</th>\n",
       "      <th>genero</th>\n",
       "    </tr>\n",
       "  </thead>\n",
       "  <tbody>\n",
       "    <tr>\n",
       "      <th>10224</th>\n",
       "      <td>9924</td>\n",
       "      <td>NaN</td>\n",
       "      <td>201.1</td>\n",
       "      <td>Feminino</td>\n",
       "    </tr>\n",
       "    <tr>\n",
       "      <th>10225</th>\n",
       "      <td>9925</td>\n",
       "      <td>NaN</td>\n",
       "      <td>225.2</td>\n",
       "      <td>Masculino</td>\n",
       "    </tr>\n",
       "    <tr>\n",
       "      <th>10230</th>\n",
       "      <td>9930</td>\n",
       "      <td>NaN</td>\n",
       "      <td>134.9</td>\n",
       "      <td>Feminino</td>\n",
       "    </tr>\n",
       "    <tr>\n",
       "      <th>10231</th>\n",
       "      <td>9931</td>\n",
       "      <td>NaN</td>\n",
       "      <td>237.5</td>\n",
       "      <td>Feminino</td>\n",
       "    </tr>\n",
       "    <tr>\n",
       "      <th>10243</th>\n",
       "      <td>9943</td>\n",
       "      <td>NaN</td>\n",
       "      <td>219.3</td>\n",
       "      <td>Feminino</td>\n",
       "    </tr>\n",
       "    <tr>\n",
       "      <th>10244</th>\n",
       "      <td>9944</td>\n",
       "      <td>NaN</td>\n",
       "      <td>246.2</td>\n",
       "      <td>NaN</td>\n",
       "    </tr>\n",
       "    <tr>\n",
       "      <th>10248</th>\n",
       "      <td>9948</td>\n",
       "      <td>NaN</td>\n",
       "      <td>184.0</td>\n",
       "      <td>Masculino</td>\n",
       "    </tr>\n",
       "    <tr>\n",
       "      <th>10251</th>\n",
       "      <td>9951</td>\n",
       "      <td>NaN</td>\n",
       "      <td>182.5</td>\n",
       "      <td>Feminino</td>\n",
       "    </tr>\n",
       "    <tr>\n",
       "      <th>10262</th>\n",
       "      <td>9962</td>\n",
       "      <td>NaN</td>\n",
       "      <td>115.9</td>\n",
       "      <td>Masculino</td>\n",
       "    </tr>\n",
       "    <tr>\n",
       "      <th>10270</th>\n",
       "      <td>9970</td>\n",
       "      <td>NaN</td>\n",
       "      <td>173.1</td>\n",
       "      <td>Masculino</td>\n",
       "    </tr>\n",
       "    <tr>\n",
       "      <th>10271</th>\n",
       "      <td>9971</td>\n",
       "      <td>NaN</td>\n",
       "      <td>221.6</td>\n",
       "      <td>Masculino</td>\n",
       "    </tr>\n",
       "    <tr>\n",
       "      <th>10274</th>\n",
       "      <td>9974</td>\n",
       "      <td>NaN</td>\n",
       "      <td>173.9</td>\n",
       "      <td>Masculino</td>\n",
       "    </tr>\n",
       "    <tr>\n",
       "      <th>10290</th>\n",
       "      <td>9990</td>\n",
       "      <td>NaN</td>\n",
       "      <td>150.4</td>\n",
       "      <td>Masculino</td>\n",
       "    </tr>\n",
       "  </tbody>\n",
       "</table>\n",
       "</div>"
      ],
      "text/plain": [
       "       id_cliente  peso  colesterol     genero\n",
       "10224        9924   NaN       201.1   Feminino\n",
       "10225        9925   NaN       225.2  Masculino\n",
       "10230        9930   NaN       134.9   Feminino\n",
       "10231        9931   NaN       237.5   Feminino\n",
       "10243        9943   NaN       219.3   Feminino\n",
       "10244        9944   NaN       246.2        NaN\n",
       "10248        9948   NaN       184.0  Masculino\n",
       "10251        9951   NaN       182.5   Feminino\n",
       "10262        9962   NaN       115.9  Masculino\n",
       "10270        9970   NaN       173.1  Masculino\n",
       "10271        9971   NaN       221.6  Masculino\n",
       "10274        9974   NaN       173.9  Masculino\n",
       "10290        9990   NaN       150.4  Masculino"
      ]
     },
     "execution_count": 108,
     "metadata": {},
     "output_type": "execute_result"
    }
   ],
   "source": [
    "filtro = df_dados_clinicos['peso'].isna()\n",
    "index_ausentes_peso = df_dados_clinicos[filtro].index\n",
    "df_dados_clinicos.loc[index_ausentes_peso]"
   ]
  },
  {
   "cell_type": "code",
   "execution_count": 109,
   "metadata": {},
   "outputs": [
    {
     "name": "stdout",
     "output_type": "stream",
     "text": [
      "124.6\n"
     ]
    }
   ],
   "source": [
    "mediana_peso = df_dados_clinicos['peso'].median()\n",
    "print(mediana_peso)\n",
    "df_dados_clinicos['peso'] = df_dados_clinicos['peso'].fillna(value=mediana_peso)"
   ]
  },
  {
   "cell_type": "code",
   "execution_count": 110,
   "metadata": {},
   "outputs": [
    {
     "data": {
      "text/html": [
       "<div>\n",
       "<style scoped>\n",
       "    .dataframe tbody tr th:only-of-type {\n",
       "        vertical-align: middle;\n",
       "    }\n",
       "\n",
       "    .dataframe tbody tr th {\n",
       "        vertical-align: top;\n",
       "    }\n",
       "\n",
       "    .dataframe thead th {\n",
       "        text-align: right;\n",
       "    }\n",
       "</style>\n",
       "<table border=\"1\" class=\"dataframe\">\n",
       "  <thead>\n",
       "    <tr style=\"text-align: right;\">\n",
       "      <th></th>\n",
       "      <th>id_cliente</th>\n",
       "      <th>peso</th>\n",
       "      <th>colesterol</th>\n",
       "      <th>genero</th>\n",
       "    </tr>\n",
       "  </thead>\n",
       "  <tbody>\n",
       "    <tr>\n",
       "      <th>10227</th>\n",
       "      <td>9927</td>\n",
       "      <td>177.6</td>\n",
       "      <td>220.3</td>\n",
       "      <td>NaN</td>\n",
       "    </tr>\n",
       "    <tr>\n",
       "      <th>10228</th>\n",
       "      <td>9928</td>\n",
       "      <td>149.3</td>\n",
       "      <td>199.3</td>\n",
       "      <td>NaN</td>\n",
       "    </tr>\n",
       "    <tr>\n",
       "      <th>10233</th>\n",
       "      <td>9933</td>\n",
       "      <td>65.3</td>\n",
       "      <td>132.8</td>\n",
       "      <td>NaN</td>\n",
       "    </tr>\n",
       "    <tr>\n",
       "      <th>10234</th>\n",
       "      <td>9934</td>\n",
       "      <td>180.6</td>\n",
       "      <td>214.1</td>\n",
       "      <td>NaN</td>\n",
       "    </tr>\n",
       "    <tr>\n",
       "      <th>10237</th>\n",
       "      <td>9937</td>\n",
       "      <td>103.6</td>\n",
       "      <td>160.8</td>\n",
       "      <td>NaN</td>\n",
       "    </tr>\n",
       "    <tr>\n",
       "      <th>10240</th>\n",
       "      <td>9940</td>\n",
       "      <td>81.6</td>\n",
       "      <td>165.8</td>\n",
       "      <td>NaN</td>\n",
       "    </tr>\n",
       "    <tr>\n",
       "      <th>10241</th>\n",
       "      <td>9941</td>\n",
       "      <td>154.9</td>\n",
       "      <td>213.6</td>\n",
       "      <td>NaN</td>\n",
       "    </tr>\n",
       "    <tr>\n",
       "      <th>10242</th>\n",
       "      <td>9942</td>\n",
       "      <td>96.3</td>\n",
       "      <td>163.0</td>\n",
       "      <td>NaN</td>\n",
       "    </tr>\n",
       "    <tr>\n",
       "      <th>10244</th>\n",
       "      <td>9944</td>\n",
       "      <td>124.6</td>\n",
       "      <td>246.2</td>\n",
       "      <td>NaN</td>\n",
       "    </tr>\n",
       "    <tr>\n",
       "      <th>10245</th>\n",
       "      <td>9945</td>\n",
       "      <td>51.4</td>\n",
       "      <td>130.5</td>\n",
       "      <td>NaN</td>\n",
       "    </tr>\n",
       "  </tbody>\n",
       "</table>\n",
       "</div>"
      ],
      "text/plain": [
       "       id_cliente   peso  colesterol genero\n",
       "10227        9927  177.6       220.3    NaN\n",
       "10228        9928  149.3       199.3    NaN\n",
       "10233        9933   65.3       132.8    NaN\n",
       "10234        9934  180.6       214.1    NaN\n",
       "10237        9937  103.6       160.8    NaN\n",
       "10240        9940   81.6       165.8    NaN\n",
       "10241        9941  154.9       213.6    NaN\n",
       "10242        9942   96.3       163.0    NaN\n",
       "10244        9944  124.6       246.2    NaN\n",
       "10245        9945   51.4       130.5    NaN"
      ]
     },
     "execution_count": 110,
     "metadata": {},
     "output_type": "execute_result"
    }
   ],
   "source": [
    "filtro = df_dados_clinicos['genero'].isna()\n",
    "index_ausentes_genero = df_dados_clinicos[filtro].index\n",
    "df_dados_clinicos.loc[index_ausentes_genero]"
   ]
  },
  {
   "cell_type": "code",
   "execution_count": 111,
   "metadata": {},
   "outputs": [
    {
     "name": "stdout",
     "output_type": "stream",
     "text": [
      "Feminino\n"
     ]
    }
   ],
   "source": [
    "moda_genero = df_dados_clinicos['genero'].mode()[0]\n",
    "print(moda_genero)\n",
    "df_dados_clinicos['genero'] = df_dados_clinicos['genero'].fillna(value=moda_genero)"
   ]
  },
  {
   "cell_type": "code",
   "execution_count": 112,
   "metadata": {},
   "outputs": [
    {
     "data": {
      "text/html": [
       "<div>\n",
       "<style scoped>\n",
       "    .dataframe tbody tr th:only-of-type {\n",
       "        vertical-align: middle;\n",
       "    }\n",
       "\n",
       "    .dataframe tbody tr th {\n",
       "        vertical-align: top;\n",
       "    }\n",
       "\n",
       "    .dataframe thead th {\n",
       "        text-align: right;\n",
       "    }\n",
       "</style>\n",
       "<table border=\"1\" class=\"dataframe\">\n",
       "  <thead>\n",
       "    <tr style=\"text-align: right;\">\n",
       "      <th></th>\n",
       "      <th>id_cliente</th>\n",
       "      <th>peso</th>\n",
       "      <th>colesterol</th>\n",
       "      <th>genero</th>\n",
       "    </tr>\n",
       "  </thead>\n",
       "  <tbody>\n",
       "    <tr>\n",
       "      <th>10227</th>\n",
       "      <td>9927</td>\n",
       "      <td>177.6</td>\n",
       "      <td>220.3</td>\n",
       "      <td>Feminino</td>\n",
       "    </tr>\n",
       "    <tr>\n",
       "      <th>10228</th>\n",
       "      <td>9928</td>\n",
       "      <td>149.3</td>\n",
       "      <td>199.3</td>\n",
       "      <td>Feminino</td>\n",
       "    </tr>\n",
       "    <tr>\n",
       "      <th>10233</th>\n",
       "      <td>9933</td>\n",
       "      <td>65.3</td>\n",
       "      <td>132.8</td>\n",
       "      <td>Feminino</td>\n",
       "    </tr>\n",
       "    <tr>\n",
       "      <th>10234</th>\n",
       "      <td>9934</td>\n",
       "      <td>180.6</td>\n",
       "      <td>214.1</td>\n",
       "      <td>Feminino</td>\n",
       "    </tr>\n",
       "    <tr>\n",
       "      <th>10237</th>\n",
       "      <td>9937</td>\n",
       "      <td>103.6</td>\n",
       "      <td>160.8</td>\n",
       "      <td>Feminino</td>\n",
       "    </tr>\n",
       "    <tr>\n",
       "      <th>10240</th>\n",
       "      <td>9940</td>\n",
       "      <td>81.6</td>\n",
       "      <td>165.8</td>\n",
       "      <td>Feminino</td>\n",
       "    </tr>\n",
       "    <tr>\n",
       "      <th>10241</th>\n",
       "      <td>9941</td>\n",
       "      <td>154.9</td>\n",
       "      <td>213.6</td>\n",
       "      <td>Feminino</td>\n",
       "    </tr>\n",
       "    <tr>\n",
       "      <th>10242</th>\n",
       "      <td>9942</td>\n",
       "      <td>96.3</td>\n",
       "      <td>163.0</td>\n",
       "      <td>Feminino</td>\n",
       "    </tr>\n",
       "    <tr>\n",
       "      <th>10244</th>\n",
       "      <td>9944</td>\n",
       "      <td>124.6</td>\n",
       "      <td>246.2</td>\n",
       "      <td>Feminino</td>\n",
       "    </tr>\n",
       "    <tr>\n",
       "      <th>10245</th>\n",
       "      <td>9945</td>\n",
       "      <td>51.4</td>\n",
       "      <td>130.5</td>\n",
       "      <td>Feminino</td>\n",
       "    </tr>\n",
       "  </tbody>\n",
       "</table>\n",
       "</div>"
      ],
      "text/plain": [
       "       id_cliente   peso  colesterol    genero\n",
       "10227        9927  177.6       220.3  Feminino\n",
       "10228        9928  149.3       199.3  Feminino\n",
       "10233        9933   65.3       132.8  Feminino\n",
       "10234        9934  180.6       214.1  Feminino\n",
       "10237        9937  103.6       160.8  Feminino\n",
       "10240        9940   81.6       165.8  Feminino\n",
       "10241        9941  154.9       213.6  Feminino\n",
       "10242        9942   96.3       163.0  Feminino\n",
       "10244        9944  124.6       246.2  Feminino\n",
       "10245        9945   51.4       130.5  Feminino"
      ]
     },
     "execution_count": 112,
     "metadata": {},
     "output_type": "execute_result"
    }
   ],
   "source": [
    "df_dados_clinicos.loc[index_ausentes_genero]"
   ]
  },
  {
   "cell_type": "code",
   "execution_count": 113,
   "metadata": {},
   "outputs": [
    {
     "name": "stdout",
     "output_type": "stream",
     "text": [
      "----------------------------------------------------------------------------------------------------\n",
      "O dataframe df_dados_clinicos não possui dados ausentes.\n"
     ]
    }
   ],
   "source": [
    "verifica_dados_ausentes('df_dados_clinicos', df_dados_clinicos)"
   ]
  },
  {
   "cell_type": "markdown",
   "metadata": {},
   "source": [
    "#### Verificando e corrigindo os dados ausentes dos dados_estado_regiao\n",
    "***"
   ]
  },
  {
   "cell_type": "code",
   "execution_count": 114,
   "metadata": {},
   "outputs": [
    {
     "name": "stdout",
     "output_type": "stream",
     "text": [
      "----------------------------------------------------------------------------------------------------\n",
      "O dataframe df_estado_regiao não possui dados ausentes.\n"
     ]
    }
   ],
   "source": [
    "verifica_dados_ausentes('df_estado_regiao', df_estado_regiao)"
   ]
  },
  {
   "cell_type": "code",
   "execution_count": 115,
   "metadata": {},
   "outputs": [
    {
     "data": {
      "text/plain": [
       "(27, 5)"
      ]
     },
     "execution_count": 115,
     "metadata": {},
     "output_type": "execute_result"
    }
   ],
   "source": [
    "df_estado_regiao.shape"
   ]
  },
  {
   "cell_type": "code",
   "execution_count": 116,
   "metadata": {},
   "outputs": [
    {
     "data": {
      "text/html": [
       "<div>\n",
       "<style scoped>\n",
       "    .dataframe tbody tr th:only-of-type {\n",
       "        vertical-align: middle;\n",
       "    }\n",
       "\n",
       "    .dataframe tbody tr th {\n",
       "        vertical-align: top;\n",
       "    }\n",
       "\n",
       "    .dataframe thead th {\n",
       "        text-align: right;\n",
       "    }\n",
       "</style>\n",
       "<table border=\"1\" class=\"dataframe\">\n",
       "  <thead>\n",
       "    <tr style=\"text-align: right;\">\n",
       "      <th></th>\n",
       "      <th>id_estado</th>\n",
       "      <th>sigla</th>\n",
       "      <th>estado</th>\n",
       "      <th>regiao</th>\n",
       "      <th>pais</th>\n",
       "    </tr>\n",
       "  </thead>\n",
       "  <tbody>\n",
       "    <tr>\n",
       "      <th>0</th>\n",
       "      <td>1</td>\n",
       "      <td>AC</td>\n",
       "      <td>Acre</td>\n",
       "      <td>Norte</td>\n",
       "      <td>Brasil</td>\n",
       "    </tr>\n",
       "    <tr>\n",
       "      <th>1</th>\n",
       "      <td>2</td>\n",
       "      <td>AL</td>\n",
       "      <td>Alagoas</td>\n",
       "      <td>Nordeste</td>\n",
       "      <td>Brasil</td>\n",
       "    </tr>\n",
       "    <tr>\n",
       "      <th>2</th>\n",
       "      <td>3</td>\n",
       "      <td>AP</td>\n",
       "      <td>Amapá</td>\n",
       "      <td>Norte</td>\n",
       "      <td>Brasil</td>\n",
       "    </tr>\n",
       "    <tr>\n",
       "      <th>3</th>\n",
       "      <td>4</td>\n",
       "      <td>AM</td>\n",
       "      <td>Amazonas</td>\n",
       "      <td>Norte</td>\n",
       "      <td>Brasil</td>\n",
       "    </tr>\n",
       "    <tr>\n",
       "      <th>4</th>\n",
       "      <td>5</td>\n",
       "      <td>BA</td>\n",
       "      <td>Bahia</td>\n",
       "      <td>Nordeste</td>\n",
       "      <td>Brasil</td>\n",
       "    </tr>\n",
       "    <tr>\n",
       "      <th>5</th>\n",
       "      <td>6</td>\n",
       "      <td>CE</td>\n",
       "      <td>Ceará</td>\n",
       "      <td>Nordeste</td>\n",
       "      <td>Brasil</td>\n",
       "    </tr>\n",
       "    <tr>\n",
       "      <th>6</th>\n",
       "      <td>7</td>\n",
       "      <td>DF</td>\n",
       "      <td>Distrito Federal</td>\n",
       "      <td>Centro-Oeste</td>\n",
       "      <td>Brasil</td>\n",
       "    </tr>\n",
       "    <tr>\n",
       "      <th>7</th>\n",
       "      <td>8</td>\n",
       "      <td>ES</td>\n",
       "      <td>Espírito Santo</td>\n",
       "      <td>Sudeste</td>\n",
       "      <td>Brasil</td>\n",
       "    </tr>\n",
       "    <tr>\n",
       "      <th>8</th>\n",
       "      <td>9</td>\n",
       "      <td>GO</td>\n",
       "      <td>Goiás</td>\n",
       "      <td>Centro-Oeste</td>\n",
       "      <td>Brasil</td>\n",
       "    </tr>\n",
       "    <tr>\n",
       "      <th>9</th>\n",
       "      <td>10</td>\n",
       "      <td>MA</td>\n",
       "      <td>Maranhão</td>\n",
       "      <td>Nordeste</td>\n",
       "      <td>Brasil</td>\n",
       "    </tr>\n",
       "    <tr>\n",
       "      <th>10</th>\n",
       "      <td>11</td>\n",
       "      <td>MT</td>\n",
       "      <td>Mato Grosso</td>\n",
       "      <td>Centro-Oeste</td>\n",
       "      <td>Brasil</td>\n",
       "    </tr>\n",
       "    <tr>\n",
       "      <th>11</th>\n",
       "      <td>12</td>\n",
       "      <td>MS</td>\n",
       "      <td>Mato Grosso do Sul</td>\n",
       "      <td>Centro-Oeste</td>\n",
       "      <td>Brasil</td>\n",
       "    </tr>\n",
       "    <tr>\n",
       "      <th>12</th>\n",
       "      <td>13</td>\n",
       "      <td>MG</td>\n",
       "      <td>Minas Gerais</td>\n",
       "      <td>Sudeste</td>\n",
       "      <td>Brasil</td>\n",
       "    </tr>\n",
       "    <tr>\n",
       "      <th>13</th>\n",
       "      <td>14</td>\n",
       "      <td>PA</td>\n",
       "      <td>Pará</td>\n",
       "      <td>Norte</td>\n",
       "      <td>Brasil</td>\n",
       "    </tr>\n",
       "    <tr>\n",
       "      <th>14</th>\n",
       "      <td>15</td>\n",
       "      <td>PB</td>\n",
       "      <td>Paraíba</td>\n",
       "      <td>Nordeste</td>\n",
       "      <td>Brasil</td>\n",
       "    </tr>\n",
       "    <tr>\n",
       "      <th>15</th>\n",
       "      <td>16</td>\n",
       "      <td>PR</td>\n",
       "      <td>Paraná</td>\n",
       "      <td>Sul</td>\n",
       "      <td>Brasil</td>\n",
       "    </tr>\n",
       "    <tr>\n",
       "      <th>16</th>\n",
       "      <td>17</td>\n",
       "      <td>PE</td>\n",
       "      <td>Pernambuco</td>\n",
       "      <td>Nordeste</td>\n",
       "      <td>Brasil</td>\n",
       "    </tr>\n",
       "    <tr>\n",
       "      <th>17</th>\n",
       "      <td>18</td>\n",
       "      <td>PI</td>\n",
       "      <td>Piauí</td>\n",
       "      <td>Nordeste</td>\n",
       "      <td>Brasil</td>\n",
       "    </tr>\n",
       "    <tr>\n",
       "      <th>27</th>\n",
       "      <td>19</td>\n",
       "      <td>RJ</td>\n",
       "      <td>Rio de Janeiro</td>\n",
       "      <td>Sudeste</td>\n",
       "      <td>Brasil</td>\n",
       "    </tr>\n",
       "    <tr>\n",
       "      <th>28</th>\n",
       "      <td>20</td>\n",
       "      <td>RN</td>\n",
       "      <td>Rio Grande do Norte</td>\n",
       "      <td>Nordeste</td>\n",
       "      <td>Brasil</td>\n",
       "    </tr>\n",
       "    <tr>\n",
       "      <th>29</th>\n",
       "      <td>21</td>\n",
       "      <td>RS</td>\n",
       "      <td>Rio Grande do Sul</td>\n",
       "      <td>Sul</td>\n",
       "      <td>Brasil</td>\n",
       "    </tr>\n",
       "    <tr>\n",
       "      <th>30</th>\n",
       "      <td>22</td>\n",
       "      <td>RO</td>\n",
       "      <td>Rondônia</td>\n",
       "      <td>Norte</td>\n",
       "      <td>Brasil</td>\n",
       "    </tr>\n",
       "    <tr>\n",
       "      <th>31</th>\n",
       "      <td>23</td>\n",
       "      <td>RR</td>\n",
       "      <td>Roraima</td>\n",
       "      <td>Norte</td>\n",
       "      <td>Brasil</td>\n",
       "    </tr>\n",
       "    <tr>\n",
       "      <th>32</th>\n",
       "      <td>24</td>\n",
       "      <td>SC</td>\n",
       "      <td>Santa Catarina</td>\n",
       "      <td>Sul</td>\n",
       "      <td>Brasil</td>\n",
       "    </tr>\n",
       "    <tr>\n",
       "      <th>33</th>\n",
       "      <td>25</td>\n",
       "      <td>SP</td>\n",
       "      <td>São Paulo</td>\n",
       "      <td>Sudeste</td>\n",
       "      <td>Brasil</td>\n",
       "    </tr>\n",
       "    <tr>\n",
       "      <th>34</th>\n",
       "      <td>26</td>\n",
       "      <td>SE</td>\n",
       "      <td>Sergipe</td>\n",
       "      <td>Nordeste</td>\n",
       "      <td>Brasil</td>\n",
       "    </tr>\n",
       "    <tr>\n",
       "      <th>35</th>\n",
       "      <td>27</td>\n",
       "      <td>TO</td>\n",
       "      <td>Tocantins</td>\n",
       "      <td>Norte</td>\n",
       "      <td>Brasil</td>\n",
       "    </tr>\n",
       "  </tbody>\n",
       "</table>\n",
       "</div>"
      ],
      "text/plain": [
       "    id_estado sigla               estado        regiao    pais\n",
       "0           1    AC                 Acre         Norte  Brasil\n",
       "1           2    AL              Alagoas      Nordeste  Brasil\n",
       "2           3    AP                Amapá         Norte  Brasil\n",
       "3           4    AM             Amazonas         Norte  Brasil\n",
       "4           5    BA                Bahia      Nordeste  Brasil\n",
       "5           6    CE                Ceará      Nordeste  Brasil\n",
       "6           7    DF     Distrito Federal  Centro-Oeste  Brasil\n",
       "7           8    ES       Espírito Santo       Sudeste  Brasil\n",
       "8           9    GO                Goiás  Centro-Oeste  Brasil\n",
       "9          10    MA             Maranhão      Nordeste  Brasil\n",
       "10         11    MT          Mato Grosso  Centro-Oeste  Brasil\n",
       "11         12    MS   Mato Grosso do Sul  Centro-Oeste  Brasil\n",
       "12         13    MG         Minas Gerais       Sudeste  Brasil\n",
       "13         14    PA                 Pará         Norte  Brasil\n",
       "14         15    PB              Paraíba      Nordeste  Brasil\n",
       "15         16    PR               Paraná           Sul  Brasil\n",
       "16         17    PE           Pernambuco      Nordeste  Brasil\n",
       "17         18    PI                Piauí      Nordeste  Brasil\n",
       "27         19    RJ       Rio de Janeiro       Sudeste  Brasil\n",
       "28         20    RN  Rio Grande do Norte      Nordeste  Brasil\n",
       "29         21    RS    Rio Grande do Sul           Sul  Brasil\n",
       "30         22    RO             Rondônia         Norte  Brasil\n",
       "31         23    RR              Roraima         Norte  Brasil\n",
       "32         24    SC       Santa Catarina           Sul  Brasil\n",
       "33         25    SP            São Paulo       Sudeste  Brasil\n",
       "34         26    SE              Sergipe      Nordeste  Brasil\n",
       "35         27    TO            Tocantins         Norte  Brasil"
      ]
     },
     "execution_count": 116,
     "metadata": {},
     "output_type": "execute_result"
    }
   ],
   "source": [
    "df_estado_regiao.head(27)"
   ]
  },
  {
   "cell_type": "code",
   "execution_count": 117,
   "metadata": {},
   "outputs": [
    {
     "name": "stdout",
     "output_type": "stream",
     "text": [
      "id_estado     int64\n",
      "sigla        object\n",
      "estado       object\n",
      "regiao       object\n",
      "pais         object\n",
      "dtype: object\n",
      "----------------------------------------------------------------------------------------------------\n",
      "id_cliente      int64\n",
      "peso          float64\n",
      "colesterol    float64\n",
      "genero         object\n",
      "dtype: object\n",
      "----------------------------------------------------------------------------------------------------\n",
      "id_cliente           int64\n",
      "idade                int64\n",
      "classe_trabalho     object\n",
      "escolaridade        object\n",
      "id_estado            int64\n",
      "estado_civil        object\n",
      "raca                object\n",
      "qtde_filhos        float64\n",
      "salario              int64\n",
      "dtype: object\n"
     ]
    }
   ],
   "source": [
    "print(df_estado_regiao.dtypes)\n",
    "print('--' * 50)\n",
    "print(df_dados_clinicos.dtypes)\n",
    "print('--' * 50)\n",
    "print(df_dados_pacientes.dtypes)"
   ]
  },
  {
   "cell_type": "markdown",
   "metadata": {},
   "source": [
    "#### Corrigindo os tipos de qtde_filhos e salario"
   ]
  },
  {
   "cell_type": "code",
   "execution_count": 119,
   "metadata": {},
   "outputs": [],
   "source": [
    "df_dados_pacientes['salario'] = df_dados_pacientes['salario'].astype(float).round(2)\n"
   ]
  },
  {
   "cell_type": "code",
   "execution_count": 118,
   "metadata": {},
   "outputs": [],
   "source": [
    "df_dados_pacientes['qtde_filhos'] = df_dados_pacientes['qtde_filhos'].astype(int)"
   ]
  },
  {
   "cell_type": "code",
   "execution_count": 120,
   "metadata": {},
   "outputs": [
    {
     "data": {
      "text/html": [
       "<div>\n",
       "<style scoped>\n",
       "    .dataframe tbody tr th:only-of-type {\n",
       "        vertical-align: middle;\n",
       "    }\n",
       "\n",
       "    .dataframe tbody tr th {\n",
       "        vertical-align: top;\n",
       "    }\n",
       "\n",
       "    .dataframe thead th {\n",
       "        text-align: right;\n",
       "    }\n",
       "</style>\n",
       "<table border=\"1\" class=\"dataframe\">\n",
       "  <thead>\n",
       "    <tr style=\"text-align: right;\">\n",
       "      <th></th>\n",
       "      <th>id_cliente</th>\n",
       "      <th>idade</th>\n",
       "      <th>classe_trabalho</th>\n",
       "      <th>escolaridade</th>\n",
       "      <th>id_estado</th>\n",
       "      <th>estado_civil</th>\n",
       "      <th>raca</th>\n",
       "      <th>qtde_filhos</th>\n",
       "      <th>salario</th>\n",
       "    </tr>\n",
       "  </thead>\n",
       "  <tbody>\n",
       "    <tr>\n",
       "      <th>0</th>\n",
       "      <td>1</td>\n",
       "      <td>39</td>\n",
       "      <td>Servidor Público</td>\n",
       "      <td>Ensino Médio Completo</td>\n",
       "      <td>2</td>\n",
       "      <td>Solteiro</td>\n",
       "      <td>Branco</td>\n",
       "      <td>2</td>\n",
       "      <td>4754.0</td>\n",
       "    </tr>\n",
       "    <tr>\n",
       "      <th>1</th>\n",
       "      <td>2</td>\n",
       "      <td>50</td>\n",
       "      <td>Autônomo</td>\n",
       "      <td>Superior Incompleto</td>\n",
       "      <td>24</td>\n",
       "      <td>Casado</td>\n",
       "      <td>Branco</td>\n",
       "      <td>1</td>\n",
       "      <td>3923.0</td>\n",
       "    </tr>\n",
       "    <tr>\n",
       "      <th>2</th>\n",
       "      <td>3</td>\n",
       "      <td>38</td>\n",
       "      <td>Funcionário Setor Privado</td>\n",
       "      <td>Ensino Médio Incompleto</td>\n",
       "      <td>4</td>\n",
       "      <td>Divorciado</td>\n",
       "      <td>Branco</td>\n",
       "      <td>0</td>\n",
       "      <td>1100.0</td>\n",
       "    </tr>\n",
       "    <tr>\n",
       "      <th>3</th>\n",
       "      <td>4</td>\n",
       "      <td>53</td>\n",
       "      <td>Funcionário Setor Privado</td>\n",
       "      <td>Ensino Médio Incompleto</td>\n",
       "      <td>24</td>\n",
       "      <td>Casado</td>\n",
       "      <td>Negro</td>\n",
       "      <td>1</td>\n",
       "      <td>1100.0</td>\n",
       "    </tr>\n",
       "    <tr>\n",
       "      <th>4</th>\n",
       "      <td>5</td>\n",
       "      <td>28</td>\n",
       "      <td>Funcionário Setor Privado</td>\n",
       "      <td>Ensino Médio Completo</td>\n",
       "      <td>15</td>\n",
       "      <td>Casado</td>\n",
       "      <td>Negro</td>\n",
       "      <td>0</td>\n",
       "      <td>3430.0</td>\n",
       "    </tr>\n",
       "  </tbody>\n",
       "</table>\n",
       "</div>"
      ],
      "text/plain": [
       "   id_cliente  idade            classe_trabalho             escolaridade  \\\n",
       "0           1     39           Servidor Público    Ensino Médio Completo   \n",
       "1           2     50                   Autônomo      Superior Incompleto   \n",
       "2           3     38  Funcionário Setor Privado  Ensino Médio Incompleto   \n",
       "3           4     53  Funcionário Setor Privado  Ensino Médio Incompleto   \n",
       "4           5     28  Funcionário Setor Privado    Ensino Médio Completo   \n",
       "\n",
       "   id_estado estado_civil    raca  qtde_filhos  salario  \n",
       "0          2     Solteiro  Branco            2   4754.0  \n",
       "1         24       Casado  Branco            1   3923.0  \n",
       "2          4   Divorciado  Branco            0   1100.0  \n",
       "3         24       Casado   Negro            1   1100.0  \n",
       "4         15       Casado   Negro            0   3430.0  "
      ]
     },
     "execution_count": 120,
     "metadata": {},
     "output_type": "execute_result"
    }
   ],
   "source": [
    "df_dados_pacientes.head()"
   ]
  },
  {
   "cell_type": "markdown",
   "metadata": {},
   "source": [
    "#### Corrigindo os floats para 2 casas decimais\n",
    "***"
   ]
  },
  {
   "cell_type": "code",
   "execution_count": 121,
   "metadata": {},
   "outputs": [],
   "source": [
    "df_dados_clinicos['peso'] = df_dados_clinicos['peso'].round(2)\n"
   ]
  },
  {
   "cell_type": "code",
   "execution_count": 122,
   "metadata": {},
   "outputs": [],
   "source": [
    "df_dados_clinicos['colesterol'] = df_dados_clinicos['colesterol'].round(2)"
   ]
  },
  {
   "cell_type": "code",
   "execution_count": 124,
   "metadata": {},
   "outputs": [
    {
     "data": {
      "text/html": [
       "<div>\n",
       "<style scoped>\n",
       "    .dataframe tbody tr th:only-of-type {\n",
       "        vertical-align: middle;\n",
       "    }\n",
       "\n",
       "    .dataframe tbody tr th {\n",
       "        vertical-align: top;\n",
       "    }\n",
       "\n",
       "    .dataframe thead th {\n",
       "        text-align: right;\n",
       "    }\n",
       "</style>\n",
       "<table border=\"1\" class=\"dataframe\">\n",
       "  <thead>\n",
       "    <tr style=\"text-align: right;\">\n",
       "      <th></th>\n",
       "      <th>id_cliente</th>\n",
       "      <th>peso</th>\n",
       "      <th>colesterol</th>\n",
       "      <th>genero</th>\n",
       "    </tr>\n",
       "  </thead>\n",
       "  <tbody>\n",
       "    <tr>\n",
       "      <th>0</th>\n",
       "      <td>1</td>\n",
       "      <td>152.7</td>\n",
       "      <td>203.9</td>\n",
       "      <td>Masculino</td>\n",
       "    </tr>\n",
       "    <tr>\n",
       "      <th>1</th>\n",
       "      <td>2</td>\n",
       "      <td>184.8</td>\n",
       "      <td>233.8</td>\n",
       "      <td>Masculino</td>\n",
       "    </tr>\n",
       "    <tr>\n",
       "      <th>2</th>\n",
       "      <td>3</td>\n",
       "      <td>152.1</td>\n",
       "      <td>210.4</td>\n",
       "      <td>Masculino</td>\n",
       "    </tr>\n",
       "    <tr>\n",
       "      <th>3</th>\n",
       "      <td>4</td>\n",
       "      <td>139.8</td>\n",
       "      <td>196.8</td>\n",
       "      <td>Masculino</td>\n",
       "    </tr>\n",
       "    <tr>\n",
       "      <th>4</th>\n",
       "      <td>5</td>\n",
       "      <td>182.4</td>\n",
       "      <td>215.8</td>\n",
       "      <td>Feminino</td>\n",
       "    </tr>\n",
       "  </tbody>\n",
       "</table>\n",
       "</div>"
      ],
      "text/plain": [
       "   id_cliente   peso  colesterol     genero\n",
       "0           1  152.7       203.9  Masculino\n",
       "1           2  184.8       233.8  Masculino\n",
       "2           3  152.1       210.4  Masculino\n",
       "3           4  139.8       196.8  Masculino\n",
       "4           5  182.4       215.8   Feminino"
      ]
     },
     "execution_count": 124,
     "metadata": {},
     "output_type": "execute_result"
    }
   ],
   "source": [
    "df_dados_clinicos.head()"
   ]
  },
  {
   "cell_type": "markdown",
   "metadata": {},
   "source": [
    "### Conexão com o Banco de Dados\n",
    "***"
   ]
  },
  {
   "cell_type": "code",
   "execution_count": 151,
   "metadata": {},
   "outputs": [],
   "source": [
    "def conectar_banco_mysql():\n",
    "    try:\n",
    "        user = os.environ['user_db']\n",
    "        password = os.environ['password_db']\n",
    "        host = os.environ['host']\n",
    "\n",
    "        conexao = f'mysql://{user}:{password}@{host}'\n",
    "        engine = create_engine(conexao)\n",
    "        conn = engine.connect()\n",
    "        print('Conexão Realizada com Sucesso!')\n",
    "        return conn\n",
    "    except Exception as e:\n",
    "        print(f'Não foi possível realizar a conexão. Erro: {e}')"
   ]
  },
  {
   "cell_type": "code",
   "execution_count": 152,
   "metadata": {},
   "outputs": [
    {
     "name": "stdout",
     "output_type": "stream",
     "text": [
      "Conexão Realizada com Sucesso!\n"
     ]
    }
   ],
   "source": [
    "conn = conectar_banco_mysql()"
   ]
  },
  {
   "cell_type": "markdown",
   "metadata": {},
   "source": [
    "#### Criação do Banco de Dados\n",
    "***"
   ]
  },
  {
   "cell_type": "code",
   "execution_count": 153,
   "metadata": {},
   "outputs": [
    {
     "name": "stdout",
     "output_type": "stream",
     "text": [
      "Banco de dados criado com sucesso!\n"
     ]
    }
   ],
   "source": [
    "try:\n",
    "    database = 'enunciado_clinica'\n",
    "    query = f'create schema if not exists {database}'\n",
    "    conn.execute(text(query))\n",
    "    print('Banco de dados criado com sucesso!')\n",
    "    conn.commit()\n",
    "except Exception as e:\n",
    "    print(f'Não foi possível criar o banco de dados. Erro: {e}')"
   ]
  },
  {
   "cell_type": "markdown",
   "metadata": {},
   "source": [
    "#### Executa o Script de Criação das Tabelas e Seus Relacionamentos"
   ]
  },
  {
   "cell_type": "code",
   "execution_count": 154,
   "metadata": {},
   "outputs": [
    {
     "name": "stdout",
     "output_type": "stream",
     "text": [
      "Tabelas criadas com sucesso!\n"
     ]
    }
   ],
   "source": [
    "with open('../projetos/script_create_DB.sql') as file:\n",
    "    query = file.read()\n",
    "\n",
    "try:\n",
    "    conn.execute(text(query))\n",
    "    conn.commit()\n",
    "    print('Tabelas criadas com sucesso!')\n",
    "except Exception as e:\n",
    "    print(f'Não foi possível criar as tabelas do banco de dados. Erro: {e}')"
   ]
  },
  {
   "cell_type": "markdown",
   "metadata": {},
   "source": [
    "#### Mesclando os dataframes resultantes dos datasets\n",
    "***"
   ]
  },
  {
   "cell_type": "code",
   "execution_count": 128,
   "metadata": {},
   "outputs": [],
   "source": [
    "df_primeira_mesclagem = pd.merge(left=df_dados_pacientes, right=df_dados_clinicos, left_on='id_cliente', right_on='id_cliente', how='inner')"
   ]
  },
  {
   "cell_type": "code",
   "execution_count": 129,
   "metadata": {},
   "outputs": [],
   "source": [
    "df_completo = pd.merge(left=df_primeira_mesclagem, right=df_estado_regiao, left_on='id_estado', right_on='id_estado', how='inner')"
   ]
  },
  {
   "cell_type": "markdown",
   "metadata": {},
   "source": [
    "#### Mostrando o resultado da mesclagem\n",
    "***"
   ]
  },
  {
   "cell_type": "code",
   "execution_count": 130,
   "metadata": {},
   "outputs": [
    {
     "data": {
      "text/plain": [
       "Index(['id_cliente', 'idade', 'classe_trabalho', 'escolaridade', 'id_estado',\n",
       "       'estado_civil', 'raca', 'qtde_filhos', 'salario', 'peso', 'colesterol',\n",
       "       'genero', 'sigla', 'estado', 'regiao', 'pais'],\n",
       "      dtype='object')"
      ]
     },
     "execution_count": 130,
     "metadata": {},
     "output_type": "execute_result"
    }
   ],
   "source": [
    "df_completo.columns"
   ]
  },
  {
   "cell_type": "code",
   "execution_count": 135,
   "metadata": {},
   "outputs": [],
   "source": [
    "cols_pacientes = ['id_cliente', 'idade', 'classe_trabalho', 'escolaridade', 'id_estado', 'estado_civil', 'raca', 'qtde_filhos', 'salario']\n",
    "df_dados_pacientes = df_completo[cols_pacientes].drop_duplicates()"
   ]
  },
  {
   "cell_type": "code",
   "execution_count": 138,
   "metadata": {},
   "outputs": [],
   "source": [
    "cols_dados_clinicos = ['id_cliente', 'peso', 'colesterol', 'genero']\n",
    "df_dados_clinicos = df_completo[cols_dados_clinicos].drop_duplicates()"
   ]
  },
  {
   "cell_type": "code",
   "execution_count": 139,
   "metadata": {},
   "outputs": [],
   "source": [
    "cols_dados_estados = ['id_estado', 'sigla', 'estado', 'regiao', 'pais']\n",
    "df_estado_regiao = df_completo[cols_dados_estados].drop_duplicates()"
   ]
  },
  {
   "cell_type": "code",
   "execution_count": 181,
   "metadata": {},
   "outputs": [
    {
     "name": "stdout",
     "output_type": "stream",
     "text": [
      "2.0\n"
     ]
    }
   ],
   "source": [
    "moda_qtde_filhos = df_completo['qtde_filhos'].median()\n",
    "print(moda_qtde_filhos)\n",
    "df_completo['qtde_filhos'] = df_completo['qtde_filhos'].fillna(value=moda_qtde_filhos)"
   ]
  },
  {
   "cell_type": "code",
   "execution_count": 182,
   "metadata": {},
   "outputs": [
    {
     "data": {
      "text/html": [
       "<div>\n",
       "<style scoped>\n",
       "    .dataframe tbody tr th:only-of-type {\n",
       "        vertical-align: middle;\n",
       "    }\n",
       "\n",
       "    .dataframe tbody tr th {\n",
       "        vertical-align: top;\n",
       "    }\n",
       "\n",
       "    .dataframe thead th {\n",
       "        text-align: right;\n",
       "    }\n",
       "</style>\n",
       "<table border=\"1\" class=\"dataframe\">\n",
       "  <thead>\n",
       "    <tr style=\"text-align: right;\">\n",
       "      <th></th>\n",
       "      <th>id_cliente</th>\n",
       "      <th>idade</th>\n",
       "      <th>classe_trabalho</th>\n",
       "      <th>escolaridade</th>\n",
       "      <th>id_estado</th>\n",
       "      <th>estado_civil</th>\n",
       "      <th>raca</th>\n",
       "      <th>qtde_filhos</th>\n",
       "      <th>salario</th>\n",
       "      <th>peso</th>\n",
       "      <th>colesterol</th>\n",
       "      <th>genero</th>\n",
       "      <th>sigla</th>\n",
       "      <th>estado</th>\n",
       "      <th>regiao</th>\n",
       "      <th>pais</th>\n",
       "    </tr>\n",
       "  </thead>\n",
       "  <tbody>\n",
       "    <tr>\n",
       "      <th>0</th>\n",
       "      <td>1</td>\n",
       "      <td>39</td>\n",
       "      <td>Servidor Público</td>\n",
       "      <td>Ensino Médio Completo</td>\n",
       "      <td>2</td>\n",
       "      <td>Solteiro</td>\n",
       "      <td>Branco</td>\n",
       "      <td>2</td>\n",
       "      <td>4754.0</td>\n",
       "      <td>152.7</td>\n",
       "      <td>203.9</td>\n",
       "      <td>Masculino</td>\n",
       "      <td>AL</td>\n",
       "      <td>Alagoas</td>\n",
       "      <td>Nordeste</td>\n",
       "      <td>Brasil</td>\n",
       "    </tr>\n",
       "    <tr>\n",
       "      <th>1</th>\n",
       "      <td>2</td>\n",
       "      <td>50</td>\n",
       "      <td>Autônomo</td>\n",
       "      <td>Superior Incompleto</td>\n",
       "      <td>24</td>\n",
       "      <td>Casado</td>\n",
       "      <td>Branco</td>\n",
       "      <td>1</td>\n",
       "      <td>3923.0</td>\n",
       "      <td>184.8</td>\n",
       "      <td>233.8</td>\n",
       "      <td>Masculino</td>\n",
       "      <td>SC</td>\n",
       "      <td>Santa Catarina</td>\n",
       "      <td>Sul</td>\n",
       "      <td>Brasil</td>\n",
       "    </tr>\n",
       "    <tr>\n",
       "      <th>2</th>\n",
       "      <td>3</td>\n",
       "      <td>38</td>\n",
       "      <td>Funcionário Setor Privado</td>\n",
       "      <td>Ensino Médio Incompleto</td>\n",
       "      <td>4</td>\n",
       "      <td>Divorciado</td>\n",
       "      <td>Branco</td>\n",
       "      <td>0</td>\n",
       "      <td>1100.0</td>\n",
       "      <td>152.1</td>\n",
       "      <td>210.4</td>\n",
       "      <td>Masculino</td>\n",
       "      <td>AM</td>\n",
       "      <td>Amazonas</td>\n",
       "      <td>Norte</td>\n",
       "      <td>Brasil</td>\n",
       "    </tr>\n",
       "    <tr>\n",
       "      <th>3</th>\n",
       "      <td>4</td>\n",
       "      <td>53</td>\n",
       "      <td>Funcionário Setor Privado</td>\n",
       "      <td>Ensino Médio Incompleto</td>\n",
       "      <td>24</td>\n",
       "      <td>Casado</td>\n",
       "      <td>Negro</td>\n",
       "      <td>1</td>\n",
       "      <td>1100.0</td>\n",
       "      <td>139.8</td>\n",
       "      <td>196.8</td>\n",
       "      <td>Masculino</td>\n",
       "      <td>SC</td>\n",
       "      <td>Santa Catarina</td>\n",
       "      <td>Sul</td>\n",
       "      <td>Brasil</td>\n",
       "    </tr>\n",
       "    <tr>\n",
       "      <th>4</th>\n",
       "      <td>5</td>\n",
       "      <td>28</td>\n",
       "      <td>Funcionário Setor Privado</td>\n",
       "      <td>Ensino Médio Completo</td>\n",
       "      <td>15</td>\n",
       "      <td>Casado</td>\n",
       "      <td>Negro</td>\n",
       "      <td>0</td>\n",
       "      <td>3430.0</td>\n",
       "      <td>182.4</td>\n",
       "      <td>215.8</td>\n",
       "      <td>Feminino</td>\n",
       "      <td>PB</td>\n",
       "      <td>Paraíba</td>\n",
       "      <td>Nordeste</td>\n",
       "      <td>Brasil</td>\n",
       "    </tr>\n",
       "  </tbody>\n",
       "</table>\n",
       "</div>"
      ],
      "text/plain": [
       "   id_cliente  idade            classe_trabalho             escolaridade  \\\n",
       "0           1     39           Servidor Público    Ensino Médio Completo   \n",
       "1           2     50                   Autônomo      Superior Incompleto   \n",
       "2           3     38  Funcionário Setor Privado  Ensino Médio Incompleto   \n",
       "3           4     53  Funcionário Setor Privado  Ensino Médio Incompleto   \n",
       "4           5     28  Funcionário Setor Privado    Ensino Médio Completo   \n",
       "\n",
       "   id_estado estado_civil    raca  qtde_filhos  salario   peso  colesterol  \\\n",
       "0          2     Solteiro  Branco            2   4754.0  152.7       203.9   \n",
       "1         24       Casado  Branco            1   3923.0  184.8       233.8   \n",
       "2          4   Divorciado  Branco            0   1100.0  152.1       210.4   \n",
       "3         24       Casado   Negro            1   1100.0  139.8       196.8   \n",
       "4         15       Casado   Negro            0   3430.0  182.4       215.8   \n",
       "\n",
       "      genero sigla          estado    regiao    pais  \n",
       "0  Masculino    AL         Alagoas  Nordeste  Brasil  \n",
       "1  Masculino    SC  Santa Catarina       Sul  Brasil  \n",
       "2  Masculino    AM        Amazonas     Norte  Brasil  \n",
       "3  Masculino    SC  Santa Catarina       Sul  Brasil  \n",
       "4   Feminino    PB         Paraíba  Nordeste  Brasil  "
      ]
     },
     "execution_count": 182,
     "metadata": {},
     "output_type": "execute_result"
    }
   ],
   "source": [
    "df_completo.head()"
   ]
  },
  {
   "cell_type": "code",
   "execution_count": 144,
   "metadata": {},
   "outputs": [
    {
     "data": {
      "text/plain": [
       "(7999, 16)"
      ]
     },
     "execution_count": 144,
     "metadata": {},
     "output_type": "execute_result"
    }
   ],
   "source": [
    "df_completo.shape"
   ]
  },
  {
   "cell_type": "code",
   "execution_count": 145,
   "metadata": {},
   "outputs": [
    {
     "data": {
      "text/plain": [
       "['Servidor Público',\n",
       " 'Autônomo',\n",
       " 'Funcionário Setor Privado',\n",
       " 'Funcionário Público',\n",
       " 'Empresário',\n",
       " 'Estagiário',\n",
       " 'Desempregado',\n",
       " 'MEI',\n",
       " 'Aposentado',\n",
       " 'Menor Aprendiz']"
      ]
     },
     "execution_count": 145,
     "metadata": {},
     "output_type": "execute_result"
    }
   ],
   "source": [
    "lista_classe_trabalho = list(df_completo['classe_trabalho'].unique())\n",
    "lista_classe_trabalho"
   ]
  },
  {
   "cell_type": "code",
   "execution_count": 146,
   "metadata": {},
   "outputs": [
    {
     "data": {
      "text/plain": [
       "['Solteiro', 'Casado', 'Divorciado', 'União Estável', 'Separado', 'Viúvo']"
      ]
     },
     "execution_count": 146,
     "metadata": {},
     "output_type": "execute_result"
    }
   ],
   "source": [
    "lista_estado_civil = list(df_completo['estado_civil'].unique())\n",
    "lista_estado_civil"
   ]
  },
  {
   "cell_type": "code",
   "execution_count": 147,
   "metadata": {},
   "outputs": [
    {
     "data": {
      "text/plain": [
       "['Branco', 'Negro', 'Pardo', 'Indígena', 'Amarelo']"
      ]
     },
     "execution_count": 147,
     "metadata": {},
     "output_type": "execute_result"
    }
   ],
   "source": [
    "lista_raca = list(df_completo['raca'].unique())\n",
    "lista_raca"
   ]
  },
  {
   "cell_type": "code",
   "execution_count": 148,
   "metadata": {},
   "outputs": [
    {
     "data": {
      "text/plain": [
       "['Ensino Médio Completo',\n",
       " 'Superior Incompleto',\n",
       " 'Ensino Médio Incompleto',\n",
       " 'Mestrado',\n",
       " 'Ensino Fundamental Completo',\n",
       " 'Superior Completo',\n",
       " 'Pós-Graduado',\n",
       " 'Ensino Fundamental Incompleto',\n",
       " 'Doutorado',\n",
       " 'Analfabeto']"
      ]
     },
     "execution_count": 148,
     "metadata": {},
     "output_type": "execute_result"
    }
   ],
   "source": [
    "lista_escolaridade = list(df_completo['escolaridade'].unique())\n",
    "lista_escolaridade"
   ]
  },
  {
   "cell_type": "code",
   "execution_count": 149,
   "metadata": {},
   "outputs": [
    {
     "name": "stdout",
     "output_type": "stream",
     "text": [
      "Pandas(Index=0, id_estado=2, sigla='AL', estado='Alagoas', regiao='Nordeste', pais='Brasil')\n",
      "Pandas(Index=1, id_estado=24, sigla='SC', estado='Santa Catarina', regiao='Sul', pais='Brasil')\n",
      "Pandas(Index=2, id_estado=4, sigla='AM', estado='Amazonas', regiao='Norte', pais='Brasil')\n",
      "Pandas(Index=4, id_estado=15, sigla='PB', estado='Paraíba', regiao='Nordeste', pais='Brasil')\n",
      "Pandas(Index=6, id_estado=23, sigla='RR', estado='Roraima', regiao='Norte', pais='Brasil')\n",
      "Pandas(Index=7, id_estado=13, sigla='MG', estado='Minas Gerais', regiao='Sudeste', pais='Brasil')\n",
      "Pandas(Index=8, id_estado=17, sigla='PE', estado='Pernambuco', regiao='Nordeste', pais='Brasil')\n",
      "Pandas(Index=9, id_estado=16, sigla='PR', estado='Paraná', regiao='Sul', pais='Brasil')\n",
      "Pandas(Index=11, id_estado=12, sigla='MS', estado='Mato Grosso do Sul', regiao='Centro-Oeste', pais='Brasil')\n",
      "Pandas(Index=12, id_estado=22, sigla='RO', estado='Rondônia', regiao='Norte', pais='Brasil')\n",
      "Pandas(Index=13, id_estado=3, sigla='AP', estado='Amapá', regiao='Norte', pais='Brasil')\n",
      "Pandas(Index=16, id_estado=14, sigla='PA', estado='Pará', regiao='Norte', pais='Brasil')\n",
      "Pandas(Index=17, id_estado=9, sigla='GO', estado='Goiás', regiao='Centro-Oeste', pais='Brasil')\n",
      "Pandas(Index=20, id_estado=8, sigla='ES', estado='Espírito Santo', regiao='Sudeste', pais='Brasil')\n",
      "Pandas(Index=21, id_estado=27, sigla='TO', estado='Tocantins', regiao='Norte', pais='Brasil')\n",
      "Pandas(Index=22, id_estado=7, sigla='DF', estado='Distrito Federal', regiao='Centro-Oeste', pais='Brasil')\n",
      "Pandas(Index=24, id_estado=25, sigla='SP', estado='São Paulo', regiao='Sudeste', pais='Brasil')\n",
      "Pandas(Index=28, id_estado=19, sigla='RJ', estado='Rio de Janeiro', regiao='Sudeste', pais='Brasil')\n",
      "Pandas(Index=29, id_estado=21, sigla='RS', estado='Rio Grande do Sul', regiao='Sul', pais='Brasil')\n",
      "Pandas(Index=31, id_estado=6, sigla='CE', estado='Ceará', regiao='Nordeste', pais='Brasil')\n",
      "Pandas(Index=35, id_estado=18, sigla='PI', estado='Piauí', regiao='Nordeste', pais='Brasil')\n",
      "Pandas(Index=39, id_estado=10, sigla='MA', estado='Maranhão', regiao='Nordeste', pais='Brasil')\n",
      "Pandas(Index=46, id_estado=26, sigla='SE', estado='Sergipe', regiao='Nordeste', pais='Brasil')\n",
      "Pandas(Index=55, id_estado=11, sigla='MT', estado='Mato Grosso', regiao='Centro-Oeste', pais='Brasil')\n",
      "Pandas(Index=66, id_estado=1, sigla='AC', estado='Acre', regiao='Norte', pais='Brasil')\n",
      "Pandas(Index=68, id_estado=5, sigla='BA', estado='Bahia', regiao='Nordeste', pais='Brasil')\n",
      "Pandas(Index=115, id_estado=20, sigla='RN', estado='Rio Grande do Norte', regiao='Nordeste', pais='Brasil')\n"
     ]
    }
   ],
   "source": [
    "for registro in df_estado_regiao.itertuples():\n",
    "    print(registro)"
   ]
  },
  {
   "cell_type": "code",
   "execution_count": 156,
   "metadata": {},
   "outputs": [
    {
     "name": "stdout",
     "output_type": "stream",
     "text": [
      "Registro inserido com sucesso. Estado: Alagoas\n",
      "Registro inserido com sucesso. Estado: Santa Catarina\n",
      "Registro inserido com sucesso. Estado: Amazonas\n",
      "Registro inserido com sucesso. Estado: Paraíba\n",
      "Registro inserido com sucesso. Estado: Roraima\n",
      "Registro inserido com sucesso. Estado: Minas Gerais\n",
      "Registro inserido com sucesso. Estado: Pernambuco\n",
      "Registro inserido com sucesso. Estado: Paraná\n",
      "Registro inserido com sucesso. Estado: Mato Grosso do Sul\n",
      "Registro inserido com sucesso. Estado: Rondônia\n",
      "Registro inserido com sucesso. Estado: Amapá\n",
      "Registro inserido com sucesso. Estado: Pará\n",
      "Registro inserido com sucesso. Estado: Goiás\n",
      "Registro inserido com sucesso. Estado: Espírito Santo\n",
      "Registro inserido com sucesso. Estado: Tocantins\n",
      "Registro inserido com sucesso. Estado: Distrito Federal\n",
      "Registro inserido com sucesso. Estado: São Paulo\n",
      "Registro inserido com sucesso. Estado: Rio de Janeiro\n",
      "Registro inserido com sucesso. Estado: Rio Grande do Sul\n",
      "Registro inserido com sucesso. Estado: Ceará\n",
      "Registro inserido com sucesso. Estado: Piauí\n",
      "Registro inserido com sucesso. Estado: Maranhão\n",
      "Registro inserido com sucesso. Estado: Sergipe\n",
      "Registro inserido com sucesso. Estado: Mato Grosso\n",
      "Registro inserido com sucesso. Estado: Acre\n",
      "Registro inserido com sucesso. Estado: Bahia\n",
      "Registro inserido com sucesso. Estado: Rio Grande do Norte\n"
     ]
    }
   ],
   "source": [
    "for registro in df_estado_regiao.itertuples():\n",
    "    cod_estado = registro.id_estado\n",
    "    estado = registro.estado\n",
    "    sigla_estado = registro.sigla\n",
    "    regiao = registro.regiao\n",
    "    pais = registro.pais\n",
    "\n",
    "    try:\n",
    "        query = f'''\n",
    "                insert into tb_estado (cod_estado, estado, sigla, regiao, pais)\n",
    "                values({cod_estado}, \"{estado}\", \"{sigla_estado}\", \"{regiao}\", \"{pais}\")\n",
    "    '''\n",
    "        conn.execute(text(query))\n",
    "        conn.commit()\n",
    "        print(f'Registro inserido com sucesso. Estado: {estado}')\n",
    "\n",
    "    except Exception as e:\n",
    "        print(f'Não foi possivel inserir o registro: {estado}. Erro: {e}')"
   ]
  },
  {
   "cell_type": "markdown",
   "metadata": {},
   "source": [
    "#### Inserindo Registros no Banco de Dados\n",
    "***"
   ]
  },
  {
   "cell_type": "code",
   "execution_count": 158,
   "metadata": {},
   "outputs": [],
   "source": [
    "def insert_dados_bancos(lista_dados, tabela):\n",
    "    coluna_tabela = tabela[3:]\n",
    "    \n",
    "    for registro in lista_dados:\n",
    "        try:\n",
    "           \n",
    "            query = f'''\n",
    "            INSERT INTO {tabela} ({coluna_tabela})\n",
    "                        VALUES(\"{registro}\")            \n",
    "            '''\n",
    "            conn.execute(text(query))\n",
    "            conn.commit()\n",
    "            \n",
    "            print(f'Registro inserido com sucesso: {registro}')\n",
    "        except Exception as e:\n",
    "            print(f'Não foi possível inserir o registro: {registro}. Erro: {e}')"
   ]
  },
  {
   "cell_type": "code",
   "execution_count": 159,
   "metadata": {},
   "outputs": [
    {
     "name": "stdout",
     "output_type": "stream",
     "text": [
      "Registro inserido com sucesso: Servidor Público\n",
      "Registro inserido com sucesso: Autônomo\n",
      "Registro inserido com sucesso: Funcionário Setor Privado\n",
      "Registro inserido com sucesso: Funcionário Público\n",
      "Registro inserido com sucesso: Empresário\n",
      "Registro inserido com sucesso: Estagiário\n",
      "Registro inserido com sucesso: Desempregado\n",
      "Registro inserido com sucesso: MEI\n",
      "Registro inserido com sucesso: Aposentado\n",
      "Registro inserido com sucesso: Menor Aprendiz\n"
     ]
    }
   ],
   "source": [
    "tabela_banco = 'tb_classe_trabalho'\n",
    "insert_dados_bancos(lista_classe_trabalho, tabela_banco)"
   ]
  },
  {
   "cell_type": "code",
   "execution_count": 160,
   "metadata": {},
   "outputs": [
    {
     "name": "stdout",
     "output_type": "stream",
     "text": [
      "Registro inserido com sucesso: Solteiro\n",
      "Registro inserido com sucesso: Casado\n",
      "Registro inserido com sucesso: Divorciado\n",
      "Registro inserido com sucesso: União Estável\n",
      "Registro inserido com sucesso: Separado\n",
      "Registro inserido com sucesso: Viúvo\n"
     ]
    }
   ],
   "source": [
    "tabela_banco = 'tb_estado_civil'\n",
    "insert_dados_bancos(lista_estado_civil, tabela_banco)"
   ]
  },
  {
   "cell_type": "code",
   "execution_count": 161,
   "metadata": {},
   "outputs": [
    {
     "name": "stdout",
     "output_type": "stream",
     "text": [
      "Registro inserido com sucesso: Branco\n",
      "Registro inserido com sucesso: Negro\n",
      "Registro inserido com sucesso: Pardo\n",
      "Registro inserido com sucesso: Indígena\n",
      "Registro inserido com sucesso: Amarelo\n"
     ]
    }
   ],
   "source": [
    "tabela_banco = 'tb_raca'\n",
    "insert_dados_bancos(lista_raca, tabela_banco)"
   ]
  },
  {
   "cell_type": "code",
   "execution_count": 184,
   "metadata": {},
   "outputs": [
    {
     "name": "stdout",
     "output_type": "stream",
     "text": [
      "Registro inserido com sucesso: Ensino Médio Completo\n",
      "Registro inserido com sucesso: Superior Incompleto\n",
      "Registro inserido com sucesso: Ensino Médio Incompleto\n",
      "Registro inserido com sucesso: Mestrado\n",
      "Registro inserido com sucesso: Ensino Fundamental Completo\n",
      "Registro inserido com sucesso: Superior Completo\n",
      "Registro inserido com sucesso: Pós-Graduado\n",
      "Registro inserido com sucesso: Ensino Fundamental Incompleto\n",
      "Registro inserido com sucesso: Doutorado\n",
      "Registro inserido com sucesso: Analfabeto\n"
     ]
    }
   ],
   "source": [
    "tabela_banco = 'tb_escolaridade'\n",
    "insert_dados_bancos(lista_escolaridade, tabela_banco)"
   ]
  },
  {
   "cell_type": "code",
   "execution_count": 163,
   "metadata": {},
   "outputs": [
    {
     "data": {
      "text/plain": [
       "(7999, 16)"
      ]
     },
     "execution_count": 163,
     "metadata": {},
     "output_type": "execute_result"
    }
   ],
   "source": [
    "df_completo.shape"
   ]
  },
  {
   "cell_type": "code",
   "execution_count": 178,
   "metadata": {},
   "outputs": [
    {
     "data": {
      "text/html": [
       "<div>\n",
       "<style scoped>\n",
       "    .dataframe tbody tr th:only-of-type {\n",
       "        vertical-align: middle;\n",
       "    }\n",
       "\n",
       "    .dataframe tbody tr th {\n",
       "        vertical-align: top;\n",
       "    }\n",
       "\n",
       "    .dataframe thead th {\n",
       "        text-align: right;\n",
       "    }\n",
       "</style>\n",
       "<table border=\"1\" class=\"dataframe\">\n",
       "  <thead>\n",
       "    <tr style=\"text-align: right;\">\n",
       "      <th></th>\n",
       "      <th>id_cliente</th>\n",
       "      <th>idade</th>\n",
       "      <th>classe_trabalho</th>\n",
       "      <th>escolaridade</th>\n",
       "      <th>id_estado</th>\n",
       "      <th>estado_civil</th>\n",
       "      <th>raca</th>\n",
       "      <th>qtde_filhos</th>\n",
       "      <th>salario</th>\n",
       "      <th>peso</th>\n",
       "      <th>colesterol</th>\n",
       "      <th>genero</th>\n",
       "      <th>sigla</th>\n",
       "      <th>estado</th>\n",
       "      <th>regiao</th>\n",
       "      <th>pais</th>\n",
       "    </tr>\n",
       "  </thead>\n",
       "  <tbody>\n",
       "    <tr>\n",
       "      <th>0</th>\n",
       "      <td>1</td>\n",
       "      <td>39</td>\n",
       "      <td>Servidor Público</td>\n",
       "      <td>Ensino Médio Completo</td>\n",
       "      <td>2</td>\n",
       "      <td>Solteiro</td>\n",
       "      <td>Branco</td>\n",
       "      <td>2</td>\n",
       "      <td>4754.0</td>\n",
       "      <td>152.7</td>\n",
       "      <td>203.9</td>\n",
       "      <td>Masculino</td>\n",
       "      <td>AL</td>\n",
       "      <td>Alagoas</td>\n",
       "      <td>Nordeste</td>\n",
       "      <td>Brasil</td>\n",
       "    </tr>\n",
       "    <tr>\n",
       "      <th>1</th>\n",
       "      <td>2</td>\n",
       "      <td>50</td>\n",
       "      <td>Autônomo</td>\n",
       "      <td>Superior Incompleto</td>\n",
       "      <td>24</td>\n",
       "      <td>Casado</td>\n",
       "      <td>Branco</td>\n",
       "      <td>1</td>\n",
       "      <td>3923.0</td>\n",
       "      <td>184.8</td>\n",
       "      <td>233.8</td>\n",
       "      <td>Masculino</td>\n",
       "      <td>SC</td>\n",
       "      <td>Santa Catarina</td>\n",
       "      <td>Sul</td>\n",
       "      <td>Brasil</td>\n",
       "    </tr>\n",
       "    <tr>\n",
       "      <th>2</th>\n",
       "      <td>3</td>\n",
       "      <td>38</td>\n",
       "      <td>Funcionário Setor Privado</td>\n",
       "      <td>Ensino Médio Incompleto</td>\n",
       "      <td>4</td>\n",
       "      <td>Divorciado</td>\n",
       "      <td>Branco</td>\n",
       "      <td>0</td>\n",
       "      <td>1100.0</td>\n",
       "      <td>152.1</td>\n",
       "      <td>210.4</td>\n",
       "      <td>Masculino</td>\n",
       "      <td>AM</td>\n",
       "      <td>Amazonas</td>\n",
       "      <td>Norte</td>\n",
       "      <td>Brasil</td>\n",
       "    </tr>\n",
       "    <tr>\n",
       "      <th>3</th>\n",
       "      <td>4</td>\n",
       "      <td>53</td>\n",
       "      <td>Funcionário Setor Privado</td>\n",
       "      <td>Ensino Médio Incompleto</td>\n",
       "      <td>24</td>\n",
       "      <td>Casado</td>\n",
       "      <td>Negro</td>\n",
       "      <td>1</td>\n",
       "      <td>1100.0</td>\n",
       "      <td>139.8</td>\n",
       "      <td>196.8</td>\n",
       "      <td>Masculino</td>\n",
       "      <td>SC</td>\n",
       "      <td>Santa Catarina</td>\n",
       "      <td>Sul</td>\n",
       "      <td>Brasil</td>\n",
       "    </tr>\n",
       "    <tr>\n",
       "      <th>4</th>\n",
       "      <td>5</td>\n",
       "      <td>28</td>\n",
       "      <td>Funcionário Setor Privado</td>\n",
       "      <td>Ensino Médio Completo</td>\n",
       "      <td>15</td>\n",
       "      <td>Casado</td>\n",
       "      <td>Negro</td>\n",
       "      <td>0</td>\n",
       "      <td>3430.0</td>\n",
       "      <td>182.4</td>\n",
       "      <td>215.8</td>\n",
       "      <td>Feminino</td>\n",
       "      <td>PB</td>\n",
       "      <td>Paraíba</td>\n",
       "      <td>Nordeste</td>\n",
       "      <td>Brasil</td>\n",
       "    </tr>\n",
       "    <tr>\n",
       "      <th>...</th>\n",
       "      <td>...</td>\n",
       "      <td>...</td>\n",
       "      <td>...</td>\n",
       "      <td>...</td>\n",
       "      <td>...</td>\n",
       "      <td>...</td>\n",
       "      <td>...</td>\n",
       "      <td>...</td>\n",
       "      <td>...</td>\n",
       "      <td>...</td>\n",
       "      <td>...</td>\n",
       "      <td>...</td>\n",
       "      <td>...</td>\n",
       "      <td>...</td>\n",
       "      <td>...</td>\n",
       "      <td>...</td>\n",
       "    </tr>\n",
       "    <tr>\n",
       "      <th>195</th>\n",
       "      <td>196</td>\n",
       "      <td>36</td>\n",
       "      <td>Funcionário Setor Privado</td>\n",
       "      <td>Ensino Médio Completo</td>\n",
       "      <td>12</td>\n",
       "      <td>Divorciado</td>\n",
       "      <td>Branco</td>\n",
       "      <td>2</td>\n",
       "      <td>3466.0</td>\n",
       "      <td>96.6</td>\n",
       "      <td>150.0</td>\n",
       "      <td>Masculino</td>\n",
       "      <td>MS</td>\n",
       "      <td>Mato Grosso do Sul</td>\n",
       "      <td>Centro-Oeste</td>\n",
       "      <td>Brasil</td>\n",
       "    </tr>\n",
       "    <tr>\n",
       "      <th>196</th>\n",
       "      <td>197</td>\n",
       "      <td>40</td>\n",
       "      <td>Funcionário Público</td>\n",
       "      <td>Mestrado</td>\n",
       "      <td>17</td>\n",
       "      <td>Solteiro</td>\n",
       "      <td>Amarelo</td>\n",
       "      <td>4</td>\n",
       "      <td>7352.0</td>\n",
       "      <td>125.8</td>\n",
       "      <td>168.8</td>\n",
       "      <td>Masculino</td>\n",
       "      <td>PE</td>\n",
       "      <td>Pernambuco</td>\n",
       "      <td>Nordeste</td>\n",
       "      <td>Brasil</td>\n",
       "    </tr>\n",
       "    <tr>\n",
       "      <th>197</th>\n",
       "      <td>198</td>\n",
       "      <td>35</td>\n",
       "      <td>Funcionário Setor Privado</td>\n",
       "      <td>Mestrado</td>\n",
       "      <td>26</td>\n",
       "      <td>Casado</td>\n",
       "      <td>Branco</td>\n",
       "      <td>4</td>\n",
       "      <td>8748.0</td>\n",
       "      <td>126.1</td>\n",
       "      <td>177.2</td>\n",
       "      <td>Feminino</td>\n",
       "      <td>SE</td>\n",
       "      <td>Sergipe</td>\n",
       "      <td>Nordeste</td>\n",
       "      <td>Brasil</td>\n",
       "    </tr>\n",
       "    <tr>\n",
       "      <th>198</th>\n",
       "      <td>199</td>\n",
       "      <td>24</td>\n",
       "      <td>Autônomo</td>\n",
       "      <td>Ensino Médio Incompleto</td>\n",
       "      <td>2</td>\n",
       "      <td>Solteiro</td>\n",
       "      <td>Branco</td>\n",
       "      <td>2</td>\n",
       "      <td>1100.0</td>\n",
       "      <td>128.5</td>\n",
       "      <td>170.4</td>\n",
       "      <td>Masculino</td>\n",
       "      <td>AL</td>\n",
       "      <td>Alagoas</td>\n",
       "      <td>Nordeste</td>\n",
       "      <td>Brasil</td>\n",
       "    </tr>\n",
       "    <tr>\n",
       "      <th>199</th>\n",
       "      <td>200</td>\n",
       "      <td>26</td>\n",
       "      <td>Funcionário Setor Privado</td>\n",
       "      <td>Mestrado</td>\n",
       "      <td>18</td>\n",
       "      <td>Solteiro</td>\n",
       "      <td>Branco</td>\n",
       "      <td>5</td>\n",
       "      <td>9089.0</td>\n",
       "      <td>154.2</td>\n",
       "      <td>209.3</td>\n",
       "      <td>Masculino</td>\n",
       "      <td>PI</td>\n",
       "      <td>Piauí</td>\n",
       "      <td>Nordeste</td>\n",
       "      <td>Brasil</td>\n",
       "    </tr>\n",
       "  </tbody>\n",
       "</table>\n",
       "<p>200 rows × 16 columns</p>\n",
       "</div>"
      ],
      "text/plain": [
       "     id_cliente  idade            classe_trabalho             escolaridade  \\\n",
       "0             1     39           Servidor Público    Ensino Médio Completo   \n",
       "1             2     50                   Autônomo      Superior Incompleto   \n",
       "2             3     38  Funcionário Setor Privado  Ensino Médio Incompleto   \n",
       "3             4     53  Funcionário Setor Privado  Ensino Médio Incompleto   \n",
       "4             5     28  Funcionário Setor Privado    Ensino Médio Completo   \n",
       "..          ...    ...                        ...                      ...   \n",
       "195         196     36  Funcionário Setor Privado    Ensino Médio Completo   \n",
       "196         197     40        Funcionário Público                 Mestrado   \n",
       "197         198     35  Funcionário Setor Privado                 Mestrado   \n",
       "198         199     24                   Autônomo  Ensino Médio Incompleto   \n",
       "199         200     26  Funcionário Setor Privado                 Mestrado   \n",
       "\n",
       "     id_estado estado_civil     raca  qtde_filhos  salario   peso  colesterol  \\\n",
       "0            2     Solteiro   Branco            2   4754.0  152.7       203.9   \n",
       "1           24       Casado   Branco            1   3923.0  184.8       233.8   \n",
       "2            4   Divorciado   Branco            0   1100.0  152.1       210.4   \n",
       "3           24       Casado    Negro            1   1100.0  139.8       196.8   \n",
       "4           15       Casado    Negro            0   3430.0  182.4       215.8   \n",
       "..         ...          ...      ...          ...      ...    ...         ...   \n",
       "195         12   Divorciado   Branco            2   3466.0   96.6       150.0   \n",
       "196         17     Solteiro  Amarelo            4   7352.0  125.8       168.8   \n",
       "197         26       Casado   Branco            4   8748.0  126.1       177.2   \n",
       "198          2     Solteiro   Branco            2   1100.0  128.5       170.4   \n",
       "199         18     Solteiro   Branco            5   9089.0  154.2       209.3   \n",
       "\n",
       "        genero sigla              estado        regiao    pais  \n",
       "0    Masculino    AL             Alagoas      Nordeste  Brasil  \n",
       "1    Masculino    SC      Santa Catarina           Sul  Brasil  \n",
       "2    Masculino    AM            Amazonas         Norte  Brasil  \n",
       "3    Masculino    SC      Santa Catarina           Sul  Brasil  \n",
       "4     Feminino    PB             Paraíba      Nordeste  Brasil  \n",
       "..         ...   ...                 ...           ...     ...  \n",
       "195  Masculino    MS  Mato Grosso do Sul  Centro-Oeste  Brasil  \n",
       "196  Masculino    PE          Pernambuco      Nordeste  Brasil  \n",
       "197   Feminino    SE             Sergipe      Nordeste  Brasil  \n",
       "198  Masculino    AL             Alagoas      Nordeste  Brasil  \n",
       "199  Masculino    PI               Piauí      Nordeste  Brasil  \n",
       "\n",
       "[200 rows x 16 columns]"
      ]
     },
     "execution_count": 178,
     "metadata": {},
     "output_type": "execute_result"
    }
   ],
   "source": [
    "df_completo.head()"
   ]
  },
  {
   "cell_type": "code",
   "execution_count": 183,
   "metadata": {},
   "outputs": [
    {
     "name": "stdout",
     "output_type": "stream",
     "text": [
      "Não foi possivel inserir o registro: Rio Grande do Norte. Erro: Table 'stg_enunciado' already exists.\n"
     ]
    }
   ],
   "source": [
    "try:\n",
    "    df_completo.to_sql('stg_enunciado',\n",
    "              schema='enunciado_clinica',\n",
    "              index=False,\n",
    "              con=conn\n",
    "        \n",
    "    )\n",
    "    print(f'Tabela Stage criada com sucesso.')\n",
    "\n",
    "except Exception as e:\n",
    "    print(f'Não foi possivel inserir o registro: {estado}. Erro: {e}')"
   ]
  },
  {
   "cell_type": "code",
   "execution_count": 173,
   "metadata": {},
   "outputs": [],
   "source": [
    "conn.commit()"
   ]
  },
  {
   "cell_type": "code",
   "execution_count": 174,
   "metadata": {},
   "outputs": [
    {
     "data": {
      "text/plain": [
       "<sqlalchemy.engine.cursor.CursorResult at 0x21b89b51860>"
      ]
     },
     "execution_count": 174,
     "metadata": {},
     "output_type": "execute_result"
    }
   ],
   "source": [
    "conn.execute(text('use enunciado_clinica'))"
   ]
  },
  {
   "cell_type": "code",
   "execution_count": 185,
   "metadata": {},
   "outputs": [
    {
     "name": "stdout",
     "output_type": "stream",
     "text": [
      "Dados inseridos com sucesso\n"
     ]
    }
   ],
   "source": [
    "query = '''\n",
    "insert into tb_paciente(\n",
    "    cod_paciente,\n",
    "    genero,\n",
    "    idade,\n",
    "    qtd_filho,\n",
    "    salario,\n",
    "    peso,\n",
    "    colesterol,\n",
    "    cod_estado_civil,\n",
    "    cod_raca,\n",
    "    cod_escolaridade,\n",
    "    cod_classe_trabalho,\n",
    "    cod_estado\n",
    "    )\n",
    "\n",
    "(\n",
    "select enun.id_cliente,\n",
    "       enun.genero,\n",
    "       enun.idade,\n",
    "       enun.qtde_filhos,\n",
    "       enun.salario,\n",
    "       enun.peso,\n",
    "       enun.colesterol,\n",
    "       eci.cod_estado_civil,\n",
    "       rac.cod_raca,\n",
    "       esc.cod_escolaridade,\n",
    "       cod_classe_trabalho,\n",
    "       est.cod_estado\n",
    "       \n",
    "      \n",
    "from stg_enunciado as enun\n",
    "inner join tb_classe_trabalho as ctr on ctr.classe_trabalho = enun.classe_trabalho \n",
    "inner join tb_estado as est on est.cod_estado = enun.id_estado \n",
    "inner join tb_estado_civil as eci on eci.estado_civil = enun.estado_civil\n",
    "inner join tb_raca as rac on rac.raca = enun.raca\n",
    "inner join tb_escolaridade as esc on esc.escolaridade = enun.escolaridade\n",
    ")\n",
    "'''\n",
    "\n",
    "try:\n",
    "    conn.execute(text(query))\n",
    "    conn.commit()\n",
    "    print('Dados inseridos com sucesso')\n",
    "\n",
    "except Exception as e:\n",
    "    print(f'Não foi possível inserir dados na tabela de Pessoa. Erro: {e}')"
   ]
  }
 ],
 "metadata": {
  "kernelspec": {
   "display_name": "Python 3",
   "language": "python",
   "name": "python3"
  },
  "language_info": {
   "codemirror_mode": {
    "name": "ipython",
    "version": 3
   },
   "file_extension": ".py",
   "mimetype": "text/x-python",
   "name": "python",
   "nbconvert_exporter": "python",
   "pygments_lexer": "ipython3",
   "version": "3.12.6"
  }
 },
 "nbformat": 4,
 "nbformat_minor": 2
}
