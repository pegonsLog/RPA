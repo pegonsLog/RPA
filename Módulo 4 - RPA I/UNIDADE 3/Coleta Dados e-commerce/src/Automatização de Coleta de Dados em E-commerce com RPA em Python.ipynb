{
 "cells": [
  {
   "cell_type": "markdown",
   "metadata": {},
   "source": [
    "### Automatização de Coleta de Dados em E-commerce com RPA em Python\n",
    "\n",
    "No mundo digital, onde a competição é acirrada e a agilidade é fundamental, a coleta de dados em e-commerce é uma tarefa crucial para entender o mercado, monitorar concorrentes e manter-se atualizado sobre as tendências do setor. No entanto, realizar essa coleta manualmente pode consumir tempo precioso e recursos humanos, além de ser suscetível a erros.\n",
    "\n",
    "<Center><h5><font>Fluxograma da Automatização da Coleta de Dados na Web </font></h5></center>\n",
    "\n",
    "<center>\n",
    "\n",
    "\n",
    "\n",
    "<img src=\"../img/Automatização_Coleta_Dados_Web.png\" width=\"60%\">\n",
    "</center>\n",
    "\n",
    "\n",
    "<font color=\"yellow\">Requisitos</font>\n",
    "***\n",
    "Instalação das bibliotecas:\n",
    "- Requests (pip install requests)\n",
    "- Beautifulsoup4 (pip install beautifulsoup4)\n",
    "- Python-dotenv (pip install python-dotenv)"
   ]
  },
  {
   "cell_type": "markdown",
   "metadata": {},
   "source": [
    "#### Importação das Bibliotecas"
   ]
  },
  {
   "cell_type": "code",
   "execution_count": 133,
   "metadata": {},
   "outputs": [
    {
     "data": {
      "text/plain": [
       "True"
      ]
     },
     "execution_count": 133,
     "metadata": {},
     "output_type": "execute_result"
    }
   ],
   "source": [
    "import requests\n",
    "from bs4 import BeautifulSoup\n",
    "import csv\n",
    "import random\n",
    "import time\n",
    "import smtplib\n",
    "import os\n",
    "import dotenv\n",
    "dotenv.load_dotenv('../config/.env')"
   ]
  },
  {
   "cell_type": "markdown",
   "metadata": {},
   "source": [
    "#### Acessando Página na Web"
   ]
  },
  {
   "cell_type": "code",
   "execution_count": 161,
   "metadata": {},
   "outputs": [],
   "source": [
    "url = 'https://produto.mercadolivre.com.br/MLB-1819810336-automatizaco-de-processos-com-rpa-_JM#polycard_client=storefronts&type=item&tracking_id=883bb066-f7df-4b07-b9c7-17e223e14c88&source=eshops'\n",
    "headers = {'User-Agent' : 'Chrome'}\n",
    "pagina = requests.get(url, headers=headers)\n",
    "soup = BeautifulSoup(pagina.content, 'html.parser')"
   ]
  },
  {
   "cell_type": "markdown",
   "metadata": {},
   "source": [
    "#### Coletando Dados do Produto"
   ]
  },
  {
   "cell_type": "code",
   "execution_count": 135,
   "metadata": {},
   "outputs": [],
   "source": [
    "# <h1 class=\"ui-pdp-title\">Automatização De Processos Com Rpa</h1>\n",
    "# <p class=\"title__element\">Clientes sem luz da Enel conseguem indenização por comida estragada e perda de 'paz de espírito'<!----></p>"
   ]
  },
  {
   "cell_type": "code",
   "execution_count": 136,
   "metadata": {},
   "outputs": [
    {
     "name": "stdout",
     "output_type": "stream",
     "text": [
      "Automatização De Processos Com Rpa\n"
     ]
    }
   ],
   "source": [
    "produto = soup.select_one('h1.ui-pdp-title').text\n",
    "\n",
    "print(produto)\n"
   ]
  },
  {
   "cell_type": "code",
   "execution_count": 137,
   "metadata": {},
   "outputs": [
    {
     "name": "stdout",
     "output_type": "stream",
     "text": [
      "R$131,04\n"
     ]
    }
   ],
   "source": [
    "preco = soup.select_one('span.andes-money-amount').text\n",
    "print(preco)"
   ]
  },
  {
   "cell_type": "markdown",
   "metadata": {},
   "source": [
    "#### Realizando Tratamento de dados\n",
    "***\n",
    "Em Python, os números de ponto flutuante (float) são representados usando um ponto como separador decimal, em vez de vírgula, que é comum em algumas regiões do mundo. Portanto, quando você está coletando informações de preço de uma fonte externa, como um site de e-commerce, é importante garantir que o formato dos números esteja em conformidade com o esperado pela linguagem."
   ]
  },
  {
   "cell_type": "code",
   "execution_count": 138,
   "metadata": {},
   "outputs": [
    {
     "name": "stdout",
     "output_type": "stream",
     "text": [
      "131.04\n"
     ]
    }
   ],
   "source": [
    "preco = float(preco[2:].replace(',','.'))\n",
    "print(preco)"
   ]
  },
  {
   "cell_type": "code",
   "execution_count": 139,
   "metadata": {},
   "outputs": [
    {
     "data": {
      "text/plain": [
       "float"
      ]
     },
     "execution_count": 139,
     "metadata": {},
     "output_type": "execute_result"
    }
   ],
   "source": [
    "type(preco)"
   ]
  },
  {
   "cell_type": "markdown",
   "metadata": {},
   "source": [
    "#### Coletando Dados da Lista de Desejos\n",
    "***\n"
   ]
  },
  {
   "cell_type": "code",
   "execution_count": 140,
   "metadata": {},
   "outputs": [],
   "source": [
    "def ler_arquivo(nome_arquivo):\n",
    "    lista_desejos = []\n",
    "\n",
    "    with open(nome_arquivo, 'r') as file:\n",
    "        arquivo = csv.reader(file, delimiter=';')\n",
    "        next(arquivo)\n",
    "\n",
    "        for linha in arquivo:\n",
    "            if len(linha) == 2:\n",
    "                item = {\n",
    "                    'url': linha[0],\n",
    "                    'preço_alvo': float(linha[1].replace(',', '.')),\n",
    "                }\n",
    "                lista_desejos.append(item)\n",
    "    return lista_desejos     "
   ]
  },
  {
   "cell_type": "code",
   "execution_count": 141,
   "metadata": {},
   "outputs": [],
   "source": [
    "arquivo = '../datasets/lista_de_desejos.txt'\n",
    "lista_desejos = ler_arquivo(arquivo)\n"
   ]
  },
  {
   "cell_type": "markdown",
   "metadata": {},
   "source": [
    "#### Visualizando Dados Coletados\n",
    "***"
   ]
  },
  {
   "cell_type": "code",
   "execution_count": 142,
   "metadata": {},
   "outputs": [
    {
     "data": {
      "text/plain": [
       "{'url': 'https://www.mercadolivre.com.br/data-science-para-negocios/p/MLB22819951#polycard_client=storefronts&type=product&tracking_id=a1e2d65b-6361-40a1-8ab3-89357f43c6f2&source=eshops&wid=MLB3315351201&sid=storefronts ',\n",
       " 'preço_alvo': 79.9}"
      ]
     },
     "execution_count": 142,
     "metadata": {},
     "output_type": "execute_result"
    }
   ],
   "source": [
    "lista_desejos[1]"
   ]
  },
  {
   "cell_type": "markdown",
   "metadata": {},
   "source": [
    "#### Função Esperar e Executar - Comportamento Humano\n",
    "***"
   ]
  },
  {
   "cell_type": "code",
   "execution_count": 143,
   "metadata": {},
   "outputs": [],
   "source": [
    "def esperar_e_executar(segundos=None):\n",
    "    if not segundos:\n",
    "        segundos = random.randrange(2,8)\n",
    "    print(f'Esperando time de {segundos} segundos')\n",
    "    time.sleep(segundos)\n",
    "        "
   ]
  },
  {
   "cell_type": "markdown",
   "metadata": {},
   "source": [
    "#### Validação da Função Esperar e Executar\n"
   ]
  },
  {
   "cell_type": "code",
   "execution_count": 144,
   "metadata": {},
   "outputs": [
    {
     "name": "stdout",
     "output_type": "stream",
     "text": [
      "Esperando time de 5 segundos\n"
     ]
    }
   ],
   "source": [
    "tempo = 5\n",
    "esperar_e_executar(tempo)"
   ]
  },
  {
   "cell_type": "markdown",
   "metadata": {},
   "source": [
    "#### Gera Dados de Email\n",
    "***"
   ]
  },
  {
   "cell_type": "code",
   "execution_count": 145,
   "metadata": {},
   "outputs": [],
   "source": [
    "def gera_dados_email(produto, url, preco_atual):\n",
    "    if len(produto) > 30:\n",
    "        dsc_produto = produto[0:30] +'...'\n",
    "    else:\n",
    "        dsc_produto = produto\n",
    "                \n",
    "    assunto = f'Preço Caiu! Item: {dsc_produto}'\n",
    "    corpo_email = f'''    \n",
    "    Oportunidade de compra:\n",
    "    Acesse agora! - {produto}\n",
    "    Preço atual: {preco_atual}\n",
    "    link: {url}\n",
    "    '''\n",
    "    \n",
    "    return assunto, corpo_email\n",
    "        "
   ]
  },
  {
   "cell_type": "markdown",
   "metadata": {},
   "source": [
    "#### Validação da Função de Gerar Dados do Email "
   ]
  },
  {
   "cell_type": "code",
   "execution_count": 146,
   "metadata": {},
   "outputs": [],
   "source": [
    "produto = 'Curso de Coleta de Dados de Ciências de Dados com Machine Learning com Python e VScode'\n",
    "url = 'www.leandrolessa.com.br'\n",
    "preco_atual = '149.90'\n",
    "\n",
    "assunto, corpo_email = gera_dados_email(produto, url, preco_atual)"
   ]
  },
  {
   "cell_type": "code",
   "execution_count": 147,
   "metadata": {},
   "outputs": [
    {
     "data": {
      "text/plain": [
       "'Preço Caiu! Item: Curso de Coleta de Dados de Ci...'"
      ]
     },
     "execution_count": 147,
     "metadata": {},
     "output_type": "execute_result"
    }
   ],
   "source": [
    "assunto"
   ]
  },
  {
   "cell_type": "code",
   "execution_count": 126,
   "metadata": {},
   "outputs": [
    {
     "name": "stdout",
     "output_type": "stream",
     "text": [
      "    \n",
      "    Oportunidade de compra:\n",
      "    Acesse agora! - Curso de Coleta de Dados de Ciências de Dados com Machine Learning com Python e VScode\n",
      "    Preço atual: 149.90\n",
      "    link: www.leandrolessa.com.br\n",
      "    \n"
     ]
    }
   ],
   "source": [
    "print(corpo_email)"
   ]
  },
  {
   "cell_type": "markdown",
   "metadata": {},
   "source": [
    "### Realiza Conexão com o Servidor de E-mail\n",
    "***"
   ]
  },
  {
   "cell_type": "code",
   "execution_count": 148,
   "metadata": {},
   "outputs": [],
   "source": [
    "def realizar_conexao():\n",
    "    host = 'smtp.gmail.com'\n",
    "    port = 587\n",
    "    user = 'pegons.log@gmail.com'\n",
    "    password = 'edjkmmokunrpxpgb'\n",
    "    \n",
    "    try:\n",
    "        print('Iniciando conexão com o servidor de email...')\n",
    "        server = smtplib.SMTP(host=host, port=port)\n",
    "        server.starttls()\n",
    "        server.login(user, password)\n",
    "        print('Login realizado com sucesso')\n",
    "        return server\n",
    "        \n",
    "    except Exception as e:\n",
    "        print(f'Ocorreu um erro na conexão. Erro: {e}')\n",
    "        return None\n"
   ]
  },
  {
   "cell_type": "markdown",
   "metadata": {},
   "source": [
    "#### Validação da Conexão com o Servidor de E-mail"
   ]
  },
  {
   "cell_type": "code",
   "execution_count": 149,
   "metadata": {},
   "outputs": [
    {
     "name": "stdout",
     "output_type": "stream",
     "text": [
      "Iniciando conexão com o servidor de email...\n",
      "Login realizado com sucesso\n"
     ]
    },
    {
     "data": {
      "text/plain": [
       "<smtplib.SMTP at 0x19ff9558710>"
      ]
     },
     "execution_count": 149,
     "metadata": {},
     "output_type": "execute_result"
    }
   ],
   "source": [
    "realizar_conexao()"
   ]
  },
  {
   "cell_type": "markdown",
   "metadata": {},
   "source": [
    "#### Coleta de dados de Lista de Email"
   ]
  },
  {
   "cell_type": "code",
   "execution_count": 150,
   "metadata": {},
   "outputs": [],
   "source": [
    "def coleta_lista(list_emails):\n",
    "    with open(list_emails, 'r') as file:\n",
    "        lista = [linha.strip() for linha in file]\n",
    "        return lista"
   ]
  },
  {
   "cell_type": "code",
   "execution_count": 151,
   "metadata": {},
   "outputs": [
    {
     "name": "stdout",
     "output_type": "stream",
     "text": [
      "prof.leandrolessa@gmail.com\n",
      "pegons.log@gmail.com\n"
     ]
    }
   ],
   "source": [
    "lista_emails = '../datasets/lista_emails.txt'\n",
    "destinatarios = coleta_lista(lista_emails)\n",
    "for destinatario in destinatarios:\n",
    "    print(destinatario)"
   ]
  },
  {
   "cell_type": "code",
   "execution_count": 152,
   "metadata": {},
   "outputs": [
    {
     "data": {
      "text/plain": [
       "'pegons.log@gmail.com'"
      ]
     },
     "execution_count": 152,
     "metadata": {},
     "output_type": "execute_result"
    }
   ],
   "source": [
    "destinatario"
   ]
  },
  {
   "cell_type": "markdown",
   "metadata": {},
   "source": [
    "#### Função de Envio de Email\n",
    "***"
   ]
  },
  {
   "cell_type": "code",
   "execution_count": 153,
   "metadata": {},
   "outputs": [],
   "source": [
    "def enviar_email(produto, url, preco_atual):\n",
    "    \n",
    "    #Realizar a conexão com o servidor de email    \n",
    "    server = realizar_conexao()\n",
    "    \n",
    "    #Montar a estrutura do email\n",
    "    assunto, corpo_email = gera_dados_email(produto, url, preco_atual)\n",
    "    \n",
    "    try:\n",
    "        remetente = 'pegons.log@gmail.com'\n",
    "        lista_destinatarios = coleta_lista(list_emails=lista_emails)\n",
    "        \n",
    "        msg = f'Subject: {assunto}\\n\\n {corpo_email}'\n",
    "        server.sendmail(from_addr=remetente, to_addrs=lista_destinatarios, msg=msg.encode(encoding='latin1'))\n",
    "        \n",
    "        server.quit()\n",
    "        print('Email enviado com sucesso')\n",
    "        \n",
    "        \n",
    "    except Exception as e:\n",
    "        print(f'Não foi possível enviar o e-mail. Erro: {e}')"
   ]
  },
  {
   "cell_type": "code",
   "execution_count": 154,
   "metadata": {},
   "outputs": [
    {
     "name": "stdout",
     "output_type": "stream",
     "text": [
      "Iniciando conexão com o servidor de email...\n",
      "Login realizado com sucesso\n",
      "Email enviado com sucesso\n"
     ]
    }
   ],
   "source": [
    "produto = 'Curso de Coleta de Dados de Ciências de Dados com Machine Learning com Python e VScode'\n",
    "url = 'www.leandrolessa.com.br'\n",
    "preco_atual = '149.90'\n",
    "\n",
    "enviar_email(produto, url, preco_atual)"
   ]
  },
  {
   "cell_type": "markdown",
   "metadata": {},
   "source": [
    "#### Coletando Dados da Lista de Desejos\n",
    "***"
   ]
  },
  {
   "cell_type": "code",
   "execution_count": 159,
   "metadata": {},
   "outputs": [],
   "source": [
    "def extrator_dados(lista_desejos):\n",
    "    print('--' * 17 + 'Iniciando extração e dados' + '--' * 20)\n",
    "    for produto in lista_desejos:\n",
    "        \n",
    "        url = produto['url']\n",
    "        preço_alvo = produto['preço_alvo']\n",
    "        headers = {'User-Agent' : 'Chrome'}\n",
    "        pagina = requests.get(url=url, headers=headers)\n",
    "        \n",
    "        esperar_e_executar()\n",
    "        \n",
    "        soup = BeautifulSoup(pagina.content, 'html.parser')\n",
    "        produto = soup.select_one('h1.ui-pdp-title').text        \n",
    "        preco = soup.select_one('span.andes-money-amount').text\n",
    "        preco_atual = float(preco[2:].replace(',', '.'))\n",
    "        \n",
    "        show = produto + '| Preço Atual ' + preco\n",
    "        \n",
    "        print(f'Coletando o produto: {show}')\n",
    "\n",
    "        if preco_atual <= preço_alvo:\n",
    "            print(f'Atenção: O produto está com o preço atual menos que o alvo')\n",
    "            enviar_email(produto, url, preco_atual=preco_atual)\n",
    "        else:\n",
    "            print(f'O produto NÃO está no preço alvo')\n",
    "            \n",
    "            print('--' * 50 )\n",
    "    "
   ]
  },
  {
   "cell_type": "code",
   "execution_count": 162,
   "metadata": {},
   "outputs": [
    {
     "name": "stdout",
     "output_type": "stream",
     "text": [
      "----------------------------------Iniciando extração e dados----------------------------------------\n",
      "Esperando time de 5 segundos\n",
      "Coletando o produto: Automatização De Processos Com Rpa| Preço Atual R$131,04\n",
      "O produto NÃO está no preço alvo\n",
      "----------------------------------------------------------------------------------------------------\n",
      "Esperando time de 6 segundos\n",
      "Coletando o produto: Data Science Para Negócios - Editora Alta Books| Preço Atual R$85,50\n",
      "O produto NÃO está no preço alvo\n",
      "----------------------------------------------------------------------------------------------------\n",
      "Esperando time de 7 segundos\n",
      "Coletando o produto: Storytelling Com Dados - Editora Alta Books| Preço Atual R$60\n",
      "Atenção: O produto está com o preço atual menos que o alvo\n",
      "Iniciando conexão com o servidor de email...\n",
      "Login realizado com sucesso\n",
      "Email enviado com sucesso\n",
      "Esperando time de 7 segundos\n",
      "Coletando o produto: Livro Projetando Sistemas De Machine Learning: Processo Interativo Para Aplicações Prontas Para Produção| Preço Atual R$67,78\n",
      "O produto NÃO está no preço alvo\n",
      "----------------------------------------------------------------------------------------------------\n"
     ]
    }
   ],
   "source": [
    "extrator_dados(lista_desejos)"
   ]
  }
 ],
 "metadata": {
  "kernelspec": {
   "display_name": "Python 3",
   "language": "python",
   "name": "python3"
  },
  "language_info": {
   "codemirror_mode": {
    "name": "ipython",
    "version": 3
   },
   "file_extension": ".py",
   "mimetype": "text/x-python",
   "name": "python",
   "nbconvert_exporter": "python",
   "pygments_lexer": "ipython3",
   "version": "3.12.6"
  }
 },
 "nbformat": 4,
 "nbformat_minor": 2
}
