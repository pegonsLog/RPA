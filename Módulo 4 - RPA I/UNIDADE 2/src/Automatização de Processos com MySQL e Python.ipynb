{
 "cells": [
  {
   "cell_type": "markdown",
   "metadata": {},
   "source": [
    "### Automatização de Processos com MySQL e Python\n",
    "Automatização de Processos Robóticos (RPA) é uma área que busca automatizar tarefas repetitivas por meio de softwares que interagem com sistemas de maneira similar a um ser humano. Em Python, podemos utilizar diversas bibliotecas para manipular bancos de dados e realizar tarefas relacionadas a RPA. Neste notebook, vamos aprender como conectar-se a um banco de dados, criar uma tabela e fazer uma inserção de dados usando a biblioteca Sqlalchemy.\n",
    "\n",
    "\n",
    "<Center><h5><font>Fluxograma da Automatização de Processos com MySQL e Python </font></h5></center>\n",
    "\n",
    "<center>\n",
    "\n",
    "\n",
    "\n",
    "<img src=\"../img/Automatização_Processos_MySQL_Python.png\" width=\"50%\">\n",
    "</center>\n",
    "\n",
    "<font color=\"yellow\">Requisitos</font>\n",
    "***\n",
    "Instalação da biblioteca\n",
    "- Sqlalchemy (pip install SQLAlchemy)"
   ]
  },
  {
   "cell_type": "markdown",
   "metadata": {},
   "source": [
    "#### Importação das Bibliotecas"
   ]
  },
  {
   "cell_type": "code",
   "execution_count": 3,
   "metadata": {},
   "outputs": [],
   "source": [
    "import os\n",
    "import dotenv\n",
    "dotenv.load_dotenv('../config/.env')\n",
    "import pandas as pd\n",
    "from sqlalchemy import create_engine, text"
   ]
  },
  {
   "cell_type": "markdown",
   "metadata": {},
   "source": [
    "#### Realiza Conexão com o Banco de Dados\n",
    "***\n"
   ]
  },
  {
   "cell_type": "code",
   "execution_count": 4,
   "metadata": {},
   "outputs": [],
   "source": [
    "def conectar_banco_mysql():\n",
    "    try:\n",
    "        user = os.environ['user_db']\n",
    "        password = os.environ['password_db']\n",
    "        host = os.environ['host']\n",
    "\n",
    "        conexao = f'mysql://{user}:{password}@{host}'\n",
    "        engine = create_engine(conexao)\n",
    "        conn = engine.connect()\n",
    "        print('Conexão Realizada com Sucesso!')\n",
    "        return conn\n",
    "    except Exception as e:\n",
    "        print(f'Não foi possível realizar a conexão. Erro: {e}')"
   ]
  },
  {
   "cell_type": "markdown",
   "metadata": {},
   "source": [
    "#### Validação da Conexão com o Servidor de Banco de Dados"
   ]
  },
  {
   "cell_type": "code",
   "execution_count": 5,
   "metadata": {},
   "outputs": [
    {
     "name": "stdout",
     "output_type": "stream",
     "text": [
      "Não foi possível realizar a conexão. Erro: (MySQLdb.OperationalError) (1045, \"Access denied for user 'leandro_lessa'@'localhost' (using password: YES)\")\n",
      "(Background on this error at: https://sqlalche.me/e/20/e3q8)\n"
     ]
    }
   ],
   "source": [
    "conn = conectar_banco_mysql()"
   ]
  },
  {
   "cell_type": "markdown",
   "metadata": {},
   "source": [
    "#### Criação do Banco de Dados\n",
    "***"
   ]
  },
  {
   "cell_type": "code",
   "execution_count": 4,
   "metadata": {},
   "outputs": [
    {
     "name": "stdout",
     "output_type": "stream",
     "text": [
      "Banco de Dados criado com sucesso!\n"
     ]
    }
   ],
   "source": [
    "try:\n",
    "    database = 'RPA'\n",
    "    query = f'CREATE SCHEMA IF NOT EXISTS {database}'\n",
    "    conn.execute(text(query))\n",
    "    print('Banco de Dados criado com sucesso!')\n",
    "except Exception as e:\n",
    "    print(f'Não foi possível criar o banco de dados. Erro {e}')"
   ]
  },
  {
   "cell_type": "markdown",
   "metadata": {},
   "source": [
    "#### Criação de Tabela no Banco de Dados\n",
    "***"
   ]
  },
  {
   "cell_type": "code",
   "execution_count": 5,
   "metadata": {},
   "outputs": [
    {
     "name": "stdout",
     "output_type": "stream",
     "text": [
      "Tabela criada com sucesso.\n"
     ]
    }
   ],
   "source": [
    "try:\n",
    "    query_tabela =  '''\n",
    "    use rpa;\n",
    "    \n",
    "    CREATE TABLE IF NOT EXISTS TB_PESSOA(\n",
    "        COD_PESSOA INT,\n",
    "        PESSOA    VARCHAR(50),\n",
    "        IDADE     INT,\n",
    "        PROFISSAO VARCHAR(100)\n",
    "        )'''\n",
    "    conn.execute(text(query_tabela))\n",
    "    print('Tabela criada com sucesso.')\n",
    "    \n",
    "except Exception as e:\n",
    "    print(f'Não foi possível criar a tabela. ERRO: {e}')"
   ]
  },
  {
   "cell_type": "markdown",
   "metadata": {},
   "source": [
    "#### Coleta de Dados de pessoas\n",
    "***"
   ]
  },
  {
   "cell_type": "code",
   "execution_count": 6,
   "metadata": {},
   "outputs": [
    {
     "data": {
      "text/html": [
       "<div>\n",
       "<style scoped>\n",
       "    .dataframe tbody tr th:only-of-type {\n",
       "        vertical-align: middle;\n",
       "    }\n",
       "\n",
       "    .dataframe tbody tr th {\n",
       "        vertical-align: top;\n",
       "    }\n",
       "\n",
       "    .dataframe thead th {\n",
       "        text-align: right;\n",
       "    }\n",
       "</style>\n",
       "<table border=\"1\" class=\"dataframe\">\n",
       "  <thead>\n",
       "    <tr style=\"text-align: right;\">\n",
       "      <th></th>\n",
       "      <th>cod_pessoa</th>\n",
       "      <th>pessoa</th>\n",
       "      <th>idade</th>\n",
       "      <th>profissao</th>\n",
       "    </tr>\n",
       "  </thead>\n",
       "  <tbody>\n",
       "    <tr>\n",
       "      <th>0</th>\n",
       "      <td>1</td>\n",
       "      <td>José</td>\n",
       "      <td>35</td>\n",
       "      <td>Professor</td>\n",
       "    </tr>\n",
       "    <tr>\n",
       "      <th>1</th>\n",
       "      <td>2</td>\n",
       "      <td>Ana</td>\n",
       "      <td>52</td>\n",
       "      <td>Enfermeiro</td>\n",
       "    </tr>\n",
       "    <tr>\n",
       "      <th>2</th>\n",
       "      <td>3</td>\n",
       "      <td>Maria</td>\n",
       "      <td>45</td>\n",
       "      <td>Advogado</td>\n",
       "    </tr>\n",
       "    <tr>\n",
       "      <th>3</th>\n",
       "      <td>4</td>\n",
       "      <td>Pedro</td>\n",
       "      <td>28</td>\n",
       "      <td>Engenheiro</td>\n",
       "    </tr>\n",
       "    <tr>\n",
       "      <th>4</th>\n",
       "      <td>5</td>\n",
       "      <td>João</td>\n",
       "      <td>32</td>\n",
       "      <td>Advogado</td>\n",
       "    </tr>\n",
       "  </tbody>\n",
       "</table>\n",
       "</div>"
      ],
      "text/plain": [
       "   cod_pessoa pessoa  idade   profissao\n",
       "0           1   José     35   Professor\n",
       "1           2    Ana     52  Enfermeiro\n",
       "2           3  Maria     45    Advogado\n",
       "3           4  Pedro     28  Engenheiro\n",
       "4           5   João     32    Advogado"
      ]
     },
     "execution_count": 6,
     "metadata": {},
     "output_type": "execute_result"
    }
   ],
   "source": [
    "local_arquivo = '../datasets/dados_pessoas.csv'\n",
    "df = pd.read_csv(local_arquivo, sep=';')\n",
    "df.head()"
   ]
  },
  {
   "cell_type": "markdown",
   "metadata": {},
   "source": [
    "#### Inserção de Dados no Banco de Dados\n",
    "***"
   ]
  },
  {
   "cell_type": "code",
   "execution_count": 16,
   "metadata": {},
   "outputs": [
    {
     "name": "stdout",
     "output_type": "stream",
     "text": [
      "Registro inserido com sucesso. José\n",
      "Registro inserido com sucesso. Ana\n",
      "Registro inserido com sucesso. Maria\n",
      "Registro inserido com sucesso. Pedro\n",
      "Registro inserido com sucesso. João\n",
      "Registro inserido com sucesso. Carlos\n",
      "Registro inserido com sucesso. Mariana\n",
      "Registro inserido com sucesso. Pedro\n",
      "Registro inserido com sucesso. Marina\n",
      "Registro inserido com sucesso. José\n",
      "Registro inserido com sucesso. Ana\n",
      "Registro inserido com sucesso. Pedro\n",
      "Registro inserido com sucesso. Mariana\n",
      "Registro inserido com sucesso. Maria\n",
      "Registro inserido com sucesso. Carlos\n",
      "Registro inserido com sucesso. Leandro\n",
      "Registro inserido com sucesso. Daniele\n",
      "Registro inserido com sucesso. José\n",
      "Registro inserido com sucesso. Mariana\n",
      "Registro inserido com sucesso. Rodrigo\n"
     ]
    }
   ],
   "source": [
    "for registro in df.itertuples():\n",
    "    cod_pessoa = registro.cod_pessoa\n",
    "    pessoa = registro.pessoa\n",
    "    idade = registro.idade\n",
    "    profissao = registro.profissao\n",
    "    \n",
    "    try:    \n",
    "        query_inserir = f'''INSERT INTO TB_PESSOA(COD_PESSOA, PESSOA, IDADE, PROFISSAO)\n",
    "                    VALUES({cod_pessoa}, '{pessoa}', {idade}, '{profissao}')'''\n",
    "        conn.execute(text(query_inserir))\n",
    "        print(f'Registro inserido com sucesso. {pessoa}')\n",
    "    except Exception as e:\n",
    "        print(f'Não foi possível inserir a pessoa: {pessoa}. ERRO: {e}')"
   ]
  },
  {
   "cell_type": "markdown",
   "metadata": {},
   "source": [
    "#### Visualizando Registros Armazenados no banco de Dados\n",
    "***"
   ]
  },
  {
   "cell_type": "code",
   "execution_count": 11,
   "metadata": {},
   "outputs": [
    {
     "name": "stdout",
     "output_type": "stream",
     "text": [
      "    COD_PESSOA   PESSOA  IDADE    PROFISSAO\n",
      "0            1     José     35    Professor\n",
      "1            2      Ana     52   Enfermeiro\n",
      "2            3    Maria     45     Advogado\n",
      "3            4    Pedro     28   Engenheiro\n",
      "4            5     João     32     Advogado\n",
      "5            6   Carlos     40       Médico\n",
      "6            7  Mariana     22   Enfermeiro\n",
      "7            8    Pedro     50  Programador\n",
      "8            9   Marina     58       Médico\n",
      "9           10     José     30    Professor\n",
      "10          11      Ana     28  Programador\n",
      "11          12    Pedro     42   Engenheiro\n",
      "12          13  Mariana     36     Advogado\n",
      "13          14    Maria     60       Médico\n",
      "14          15   Carlos     25   Engenheiro\n",
      "15          16  Leandro     48    Professor\n",
      "16          17  Daniele     33     Advogado\n",
      "17          18     José     55   Enfermeiro\n",
      "18          19  Mariana     20     Advogado\n",
      "19          20  Rodrigo     38       Médico\n"
     ]
    }
   ],
   "source": [
    "query = '''  \n",
    "\n",
    "SELECT * FROM TB_PESSOA;\n",
    "\n",
    "'''\n",
    "try:\n",
    "    dados_coletados = pd.read_sql_query(query, conn)\n",
    "    print(dados_coletados)\n",
    "except Exception as e:\n",
    "    print(f'Não foi possível realizar a consulta. ERRO: {e}')"
   ]
  },
  {
   "cell_type": "markdown",
   "metadata": {},
   "source": [
    "#### Extração de Dados\n",
    "Vamos juntos extrair todos os dados no qual a profissão da pessoa é programador. \n",
    "***"
   ]
  },
  {
   "cell_type": "code",
   "execution_count": 15,
   "metadata": {},
   "outputs": [
    {
     "name": "stdout",
     "output_type": "stream",
     "text": [
      "   COD_PESSOA   PESSOA  IDADE  PROFISSAO\n",
      "0           1     José     35  Professor\n",
      "1          10     José     30  Professor\n",
      "2          16  Leandro     48  Professor\n"
     ]
    }
   ],
   "source": [
    "profissao = 'Professor'\n",
    "query = f'''  \n",
    "\n",
    "SELECT * FROM TB_PESSOA WHERE PROFISSAO = '{profissao}';\n",
    "\n",
    "'''\n",
    "try:\n",
    "    dados_coletados = pd.read_sql_query(query, conn)\n",
    "    print(dados_coletados)\n",
    "except Exception as e:\n",
    "    print(f'Não foi possível realizar a consulta. ERRO: {e}')"
   ]
  },
  {
   "cell_type": "code",
   "execution_count": null,
   "metadata": {},
   "outputs": [],
   "source": []
  },
  {
   "cell_type": "code",
   "execution_count": null,
   "metadata": {},
   "outputs": [],
   "source": []
  }
 ],
 "metadata": {
  "kernelspec": {
   "display_name": "Python 3",
   "language": "python",
   "name": "python3"
  },
  "language_info": {
   "codemirror_mode": {
    "name": "ipython",
    "version": 3
   },
   "file_extension": ".py",
   "mimetype": "text/x-python",
   "name": "python",
   "nbconvert_exporter": "python",
   "pygments_lexer": "ipython3",
   "version": "3.12.6"
  }
 },
 "nbformat": 4,
 "nbformat_minor": 2
}
