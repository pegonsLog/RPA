{
 "cells": [
  {
   "cell_type": "markdown",
   "metadata": {},
   "source": [
    "### Automatização de Processos em Arquivos PDFs\n",
    "\n",
    "Este notebook tem como objetivo demonstrar o processo de Automatização de Processos Robóticos (RPA) utilizando Python para coletar dados de um arquivo PDF, integrar esses dados em um único repositório, criar novas características a partir desses dados e extrair informações relevantes.\n",
    "\n",
    "Exemplo de um arquivo de .env\n",
    "\n",
    "<Center><h5><font>Fluxograma da Automatização do Processos em Arquivos PDFs </font></h5></center>\n",
    "\n",
    "<center>\n",
    "\n",
    "\n",
    "\n",
    "<img src=\"../img/Automatização_Processos_PDF_python.png\" width=\"40%\">\n",
    "</center>\n",
    "\n",
    "\n",
    "<font color=\"yellow\">Requisitos</font>\n",
    "***\n",
    "Instalação da biblioteca\n",
    "- PyPDF2 (pip install pyPDF2)"
   ]
  },
  {
   "cell_type": "markdown",
   "metadata": {},
   "source": [
    "#### Importação das Bibliotecas"
   ]
  },
  {
   "cell_type": "code",
   "execution_count": 5,
   "metadata": {},
   "outputs": [
    {
     "name": "stdout",
     "output_type": "stream",
     "text": [
      "Collecting pandas\n",
      "  Downloading pandas-2.2.3-cp312-cp312-win_amd64.whl.metadata (19 kB)\n",
      "Collecting numpy>=1.26.0 (from pandas)\n",
      "  Downloading numpy-2.1.1-cp312-cp312-win_amd64.whl.metadata (59 kB)\n",
      "Requirement already satisfied: python-dateutil>=2.8.2 in c:\\users\\desktop\\appdata\\roaming\\python\\python312\\site-packages (from pandas) (2.9.0.post0)\n",
      "Collecting pytz>=2020.1 (from pandas)\n",
      "  Downloading pytz-2024.2-py2.py3-none-any.whl.metadata (22 kB)\n",
      "Collecting tzdata>=2022.7 (from pandas)\n",
      "  Downloading tzdata-2024.2-py2.py3-none-any.whl.metadata (1.4 kB)\n",
      "Requirement already satisfied: six>=1.5 in c:\\users\\desktop\\appdata\\roaming\\python\\python312\\site-packages (from python-dateutil>=2.8.2->pandas) (1.16.0)\n",
      "Downloading pandas-2.2.3-cp312-cp312-win_amd64.whl (11.5 MB)\n",
      "   ---------------------------------------- 0.0/11.5 MB ? eta -:--:--\n",
      "    --------------------------------------- 0.3/11.5 MB ? eta -:--:--\n",
      "   ---- ----------------------------------- 1.3/11.5 MB 3.4 MB/s eta 0:00:04\n",
      "   ------- -------------------------------- 2.1/11.5 MB 3.3 MB/s eta 0:00:03\n",
      "   ---------- ----------------------------- 2.9/11.5 MB 3.5 MB/s eta 0:00:03\n",
      "   -------------- ------------------------- 4.2/11.5 MB 4.1 MB/s eta 0:00:02\n",
      "   ----------------- ---------------------- 5.0/11.5 MB 3.9 MB/s eta 0:00:02\n",
      "   -------------------- ------------------- 5.8/11.5 MB 4.0 MB/s eta 0:00:02\n",
      "   ---------------------- ----------------- 6.6/11.5 MB 3.8 MB/s eta 0:00:02\n",
      "   -------------------------- ------------- 7.6/11.5 MB 4.0 MB/s eta 0:00:01\n",
      "   ------------------------------ --------- 8.9/11.5 MB 4.2 MB/s eta 0:00:01\n",
      "   -------------------------------- ------- 9.4/11.5 MB 4.0 MB/s eta 0:00:01\n",
      "   ------------------------------------- -- 10.7/11.5 MB 4.2 MB/s eta 0:00:01\n",
      "   ------------------------------------- -- 10.7/11.5 MB 4.2 MB/s eta 0:00:01\n",
      "   ---------------------------------------- 11.5/11.5 MB 3.8 MB/s eta 0:00:00\n",
      "Downloading numpy-2.1.1-cp312-cp312-win_amd64.whl (12.6 MB)\n",
      "   ---------------------------------------- 0.0/12.6 MB ? eta -:--:--\n",
      "    --------------------------------------- 0.3/12.6 MB ? eta -:--:--\n",
      "   --- ------------------------------------ 1.0/12.6 MB 2.5 MB/s eta 0:00:05\n",
      "   ------ --------------------------------- 2.1/12.6 MB 3.3 MB/s eta 0:00:04\n",
      "   ------- -------------------------------- 2.4/12.6 MB 2.8 MB/s eta 0:00:04\n",
      "   --------- ------------------------------ 2.9/12.6 MB 3.1 MB/s eta 0:00:04\n",
      "   ------------- -------------------------- 4.2/12.6 MB 3.3 MB/s eta 0:00:03\n",
      "   ----------------- ---------------------- 5.5/12.6 MB 3.7 MB/s eta 0:00:02\n",
      "   -------------------- ------------------- 6.3/12.6 MB 3.9 MB/s eta 0:00:02\n",
      "   -------------------- ------------------- 6.6/12.6 MB 3.7 MB/s eta 0:00:02\n",
      "   ------------------------- -------------- 8.1/12.6 MB 3.8 MB/s eta 0:00:02\n",
      "   ---------------------------- ----------- 8.9/12.6 MB 3.8 MB/s eta 0:00:01\n",
      "   ------------------------------ --------- 9.7/12.6 MB 3.8 MB/s eta 0:00:01\n",
      "   ---------------------------------- ----- 10.7/12.6 MB 3.9 MB/s eta 0:00:01\n",
      "   ------------------------------------- -- 11.8/12.6 MB 3.9 MB/s eta 0:00:01\n",
      "   ---------------------------------------- 12.6/12.6 MB 3.9 MB/s eta 0:00:00\n",
      "Downloading pytz-2024.2-py2.py3-none-any.whl (508 kB)\n",
      "Downloading tzdata-2024.2-py2.py3-none-any.whl (346 kB)\n",
      "Installing collected packages: pytz, tzdata, numpy, pandas\n",
      "Successfully installed numpy-2.1.1 pandas-2.2.3 pytz-2024.2 tzdata-2024.2\n",
      "Note: you may need to restart the kernel to use updated packages.\n"
     ]
    }
   ],
   "source": [
    "pip install pandas"
   ]
  },
  {
   "cell_type": "markdown",
   "metadata": {},
   "source": [
    "#### Leitura e Extração do Conteúdo dos Arquivos do PDF\n",
    "***"
   ]
  },
  {
   "cell_type": "code",
   "execution_count": 2,
   "metadata": {},
   "outputs": [],
   "source": [
    "import os\n",
    "import pandas as pd\n",
    "import PyPDF2"
   ]
  },
  {
   "cell_type": "code",
   "execution_count": 3,
   "metadata": {},
   "outputs": [],
   "source": [
    "DIRETORIO = \"../datasets/Sistema de RH/\"\n",
    "list_dir = os.listdir(DIRETORIO)\n",
    "\n",
    "try:\n",
    "    conteudo_pdf = []\n",
    "    for arquivo in list_dir:\n",
    "        local_arquivo = DIRETORIO + arquivo\n",
    "\n",
    "        with open(local_arquivo, \"rb\") as file:\n",
    "            reader = PyPDF2.PdfReader(file)\n",
    "            num_pages = len(reader.pages)\n",
    "            for page_num in range(num_pages):\n",
    "                page = reader.pages[page_num]\n",
    "                texto = page.extract_text()\n",
    "            conteudo_pdf.append(texto)\n",
    "            # O conteúdo_pdf tem varias linhas e cada linha corresponde a uma \n",
    "            # página pdf, que por sua vez tem somente um colaborador, \n",
    "        \n",
    "except Exception as e:\n",
    "    print(f\"Não foi possível realizar a leitura do PDF. ERRO {e}\")"
   ]
  },
  {
   "cell_type": "code",
   "execution_count": null,
   "metadata": {},
   "outputs": [],
   "source": []
  },
  {
   "cell_type": "markdown",
   "metadata": {},
   "source": [
    "#### Visualizando Conteúdo Coletado"
   ]
  },
  {
   "cell_type": "code",
   "execution_count": 19,
   "metadata": {},
   "outputs": [
    {
     "data": {
      "text/plain": [
       "['Registro de Pessoa',\n",
       " 'Nome: Ana Carolina Gonçalves',\n",
       " 'Data de Nascimento: 10/04/1993',\n",
       " 'Estado Civil: Divorciado',\n",
       " 'Cargo: Junior',\n",
       " 'Função de Trabalho: Desenvolvedor Full Stack',\n",
       " 'Data de Admissão: 28/10/2004',\n",
       " 'Tipo de Contrato: Presencial',\n",
       " 'Salário: 7662.56']"
      ]
     },
     "execution_count": 19,
     "metadata": {},
     "output_type": "execute_result"
    }
   ],
   "source": [
    "conteudo_pdf[5].split('\\n')\n"
   ]
  },
  {
   "cell_type": "code",
   "execution_count": 28,
   "metadata": {},
   "outputs": [],
   "source": [
    "def extrair_dados_pdf_para_dataframe(texto):\n",
    "    \n",
    "    #Essa função tem o parametro \"texto\" que recebe uma linha apenas, da lista conteúdo_pdf, que deverá ser quebrada pelo split('\\n')\n",
    "    #Posteriormente, as partes deverão serem separadas pelo split(':')\n",
    "    #Essas partes que representam chave e valor, serão iteradas no dicionario \"dados\" e posteriormente injetadas no dataframe\n",
    "    \n",
    "    dados = {}\n",
    "    linhas = texto.split(\"\\n\")\n",
    "    for linha in linhas[1:]:\n",
    "        partes = linha.split(\":\")\n",
    "        if len(partes) == 2:\n",
    "            chave = partes[0].strip()\n",
    "            valor = partes[1].strip()\n",
    "            dados[chave] = valor\n",
    "    dataframe = pd.DataFrame([dados])\n",
    "    return dataframe"
   ]
  },
  {
   "cell_type": "markdown",
   "metadata": {},
   "source": [
    "#### Tratamento de Texto / Integração de Dados\n",
    "***"
   ]
  },
  {
   "cell_type": "code",
   "execution_count": 29,
   "metadata": {},
   "outputs": [
    {
     "data": {
      "text/html": [
       "<div>\n",
       "<style scoped>\n",
       "    .dataframe tbody tr th:only-of-type {\n",
       "        vertical-align: middle;\n",
       "    }\n",
       "\n",
       "    .dataframe tbody tr th {\n",
       "        vertical-align: top;\n",
       "    }\n",
       "\n",
       "    .dataframe thead th {\n",
       "        text-align: right;\n",
       "    }\n",
       "</style>\n",
       "<table border=\"1\" class=\"dataframe\">\n",
       "  <thead>\n",
       "    <tr style=\"text-align: right;\">\n",
       "      <th></th>\n",
       "      <th>Nome</th>\n",
       "      <th>Data de Nascimento</th>\n",
       "      <th>Estado Civil</th>\n",
       "      <th>Cargo</th>\n",
       "      <th>Função de Trabalho</th>\n",
       "      <th>Data de Admissão</th>\n",
       "      <th>Tipo de Contrato</th>\n",
       "      <th>Salário</th>\n",
       "    </tr>\n",
       "  </thead>\n",
       "  <tbody>\n",
       "    <tr>\n",
       "      <th>0</th>\n",
       "      <td>Ana Carolina Gonçalves</td>\n",
       "      <td>10/04/1993</td>\n",
       "      <td>Divorciado</td>\n",
       "      <td>Junior</td>\n",
       "      <td>Desenvolvedor Full Stack</td>\n",
       "      <td>28/10/2004</td>\n",
       "      <td>Presencial</td>\n",
       "      <td>7662.56</td>\n",
       "    </tr>\n",
       "  </tbody>\n",
       "</table>\n",
       "</div>"
      ],
      "text/plain": [
       "                     Nome Data de Nascimento Estado Civil   Cargo  \\\n",
       "0  Ana Carolina Gonçalves         10/04/1993   Divorciado  Junior   \n",
       "\n",
       "         Função de Trabalho Data de Admissão Tipo de Contrato  Salário  \n",
       "0  Desenvolvedor Full Stack       28/10/2004       Presencial  7662.56  "
      ]
     },
     "execution_count": 29,
     "metadata": {},
     "output_type": "execute_result"
    }
   ],
   "source": [
    "extrair_dados_pdf_para_dataframe(conteudo_pdf[5])\n"
   ]
  },
  {
   "cell_type": "markdown",
   "metadata": {},
   "source": [
    "#### Validação da Extração do Texto"
   ]
  },
  {
   "cell_type": "code",
   "execution_count": 17,
   "metadata": {},
   "outputs": [
    {
     "data": {
      "text/html": [
       "<div>\n",
       "<style scoped>\n",
       "    .dataframe tbody tr th:only-of-type {\n",
       "        vertical-align: middle;\n",
       "    }\n",
       "\n",
       "    .dataframe tbody tr th {\n",
       "        vertical-align: top;\n",
       "    }\n",
       "\n",
       "    .dataframe thead th {\n",
       "        text-align: right;\n",
       "    }\n",
       "</style>\n",
       "<table border=\"1\" class=\"dataframe\">\n",
       "  <thead>\n",
       "    <tr style=\"text-align: right;\">\n",
       "      <th></th>\n",
       "      <th>Nome</th>\n",
       "      <th>Data de Nascimento</th>\n",
       "      <th>Estado Civil</th>\n",
       "      <th>Cargo</th>\n",
       "      <th>Função de Trabalho</th>\n",
       "      <th>Data de Admissão</th>\n",
       "      <th>Tipo de Contrato</th>\n",
       "      <th>Salário</th>\n",
       "    </tr>\n",
       "  </thead>\n",
       "  <tbody>\n",
       "    <tr>\n",
       "      <th>0</th>\n",
       "      <td>Ana Carolina Gonçalves</td>\n",
       "      <td>10/04/1993</td>\n",
       "      <td>Divorciado</td>\n",
       "      <td>Junior</td>\n",
       "      <td>Desenvolvedor Full Stack</td>\n",
       "      <td>28/10/2004</td>\n",
       "      <td>Presencial</td>\n",
       "      <td>7662.56</td>\n",
       "    </tr>\n",
       "  </tbody>\n",
       "</table>\n",
       "</div>"
      ],
      "text/plain": [
       "                     Nome Data de Nascimento Estado Civil   Cargo  \\\n",
       "0  Ana Carolina Gonçalves         10/04/1993   Divorciado  Junior   \n",
       "\n",
       "         Função de Trabalho Data de Admissão Tipo de Contrato  Salário  \n",
       "0  Desenvolvedor Full Stack       28/10/2004       Presencial  7662.56  "
      ]
     },
     "execution_count": 17,
     "metadata": {},
     "output_type": "execute_result"
    }
   ],
   "source": []
  },
  {
   "cell_type": "markdown",
   "metadata": {},
   "source": [
    "#### Automatizando Fluxo de Dados\n",
    "***"
   ]
  },
  {
   "cell_type": "code",
   "execution_count": 7,
   "metadata": {},
   "outputs": [],
   "source": [
    "lista_df = []\n",
    "for texto in conteudo_pdf:\n",
    "    dataframe = extrair_dados_pdf_para_dataframe(texto)\n",
    "    lista_df.append(dataframe)\n",
    "    \n",
    "df = pd.concat(lista_df)\n",
    "    \n",
    "    "
   ]
  },
  {
   "cell_type": "markdown",
   "metadata": {},
   "source": [
    "#### Vizualizando dados Integrados"
   ]
  },
  {
   "cell_type": "code",
   "execution_count": 8,
   "metadata": {},
   "outputs": [
    {
     "data": {
      "text/html": [
       "<div>\n",
       "<style scoped>\n",
       "    .dataframe tbody tr th:only-of-type {\n",
       "        vertical-align: middle;\n",
       "    }\n",
       "\n",
       "    .dataframe tbody tr th {\n",
       "        vertical-align: top;\n",
       "    }\n",
       "\n",
       "    .dataframe thead th {\n",
       "        text-align: right;\n",
       "    }\n",
       "</style>\n",
       "<table border=\"1\" class=\"dataframe\">\n",
       "  <thead>\n",
       "    <tr style=\"text-align: right;\">\n",
       "      <th></th>\n",
       "      <th>Nome</th>\n",
       "      <th>Data de Nascimento</th>\n",
       "      <th>Estado Civil</th>\n",
       "      <th>Cargo</th>\n",
       "      <th>Função de Trabalho</th>\n",
       "      <th>Data de Admissão</th>\n",
       "      <th>Tipo de Contrato</th>\n",
       "      <th>Salário</th>\n",
       "    </tr>\n",
       "  </thead>\n",
       "  <tbody>\n",
       "    <tr>\n",
       "      <th>0</th>\n",
       "      <td>Agatha Fogaça</td>\n",
       "      <td>16/01/1999</td>\n",
       "      <td>Viúvo</td>\n",
       "      <td>Junior</td>\n",
       "      <td>Desenvolvedor de Software</td>\n",
       "      <td>15/04/2019</td>\n",
       "      <td>Híbrido</td>\n",
       "      <td>4542.04</td>\n",
       "    </tr>\n",
       "    <tr>\n",
       "      <th>0</th>\n",
       "      <td>Alexandre da Mota</td>\n",
       "      <td>10/11/1986</td>\n",
       "      <td>Casado</td>\n",
       "      <td>Junior</td>\n",
       "      <td>Desenvolvedor de Software</td>\n",
       "      <td>27/11/2014</td>\n",
       "      <td>Híbrido</td>\n",
       "      <td>9955.96</td>\n",
       "    </tr>\n",
       "    <tr>\n",
       "      <th>0</th>\n",
       "      <td>Alexia Aragão</td>\n",
       "      <td>19/03/1997</td>\n",
       "      <td>Casado</td>\n",
       "      <td>Especialista</td>\n",
       "      <td>Engenheiro de Machine Learning e Inteligência ...</td>\n",
       "      <td>09/07/2005</td>\n",
       "      <td>Híbrido</td>\n",
       "      <td>20627.699999999997</td>\n",
       "    </tr>\n",
       "    <tr>\n",
       "      <th>0</th>\n",
       "      <td>Amanda Duarte</td>\n",
       "      <td>18/06/1994</td>\n",
       "      <td>Viúvo</td>\n",
       "      <td>Especialista</td>\n",
       "      <td>Cientista de Dados</td>\n",
       "      <td>13/07/2006</td>\n",
       "      <td>Remoto</td>\n",
       "      <td>18824.550000000003</td>\n",
       "    </tr>\n",
       "    <tr>\n",
       "      <th>0</th>\n",
       "      <td>Amanda Fernandes</td>\n",
       "      <td>26/09/1989</td>\n",
       "      <td>Casado</td>\n",
       "      <td>Junior</td>\n",
       "      <td>Desenvolvedor Full Stack</td>\n",
       "      <td>17/11/2023</td>\n",
       "      <td>Presencial</td>\n",
       "      <td>3511.46</td>\n",
       "    </tr>\n",
       "  </tbody>\n",
       "</table>\n",
       "</div>"
      ],
      "text/plain": [
       "                Nome Data de Nascimento Estado Civil         Cargo  \\\n",
       "0      Agatha Fogaça         16/01/1999        Viúvo        Junior   \n",
       "0  Alexandre da Mota         10/11/1986       Casado        Junior   \n",
       "0      Alexia Aragão         19/03/1997       Casado  Especialista   \n",
       "0      Amanda Duarte         18/06/1994        Viúvo  Especialista   \n",
       "0   Amanda Fernandes         26/09/1989       Casado        Junior   \n",
       "\n",
       "                                  Função de Trabalho Data de Admissão  \\\n",
       "0                          Desenvolvedor de Software       15/04/2019   \n",
       "0                          Desenvolvedor de Software       27/11/2014   \n",
       "0  Engenheiro de Machine Learning e Inteligência ...       09/07/2005   \n",
       "0                                 Cientista de Dados       13/07/2006   \n",
       "0                           Desenvolvedor Full Stack       17/11/2023   \n",
       "\n",
       "  Tipo de Contrato             Salário  \n",
       "0          Híbrido             4542.04  \n",
       "0          Híbrido             9955.96  \n",
       "0          Híbrido  20627.699999999997  \n",
       "0           Remoto  18824.550000000003  \n",
       "0       Presencial             3511.46  "
      ]
     },
     "execution_count": 8,
     "metadata": {},
     "output_type": "execute_result"
    }
   ],
   "source": [
    "df.head()"
   ]
  },
  {
   "cell_type": "markdown",
   "metadata": {},
   "source": [
    "#### Tratamento de Dados\n",
    "***\n"
   ]
  },
  {
   "cell_type": "code",
   "execution_count": 9,
   "metadata": {},
   "outputs": [
    {
     "name": "stdout",
     "output_type": "stream",
     "text": [
      "<class 'pandas.core.frame.DataFrame'>\n",
      "Index: 149 entries, 0 to 0\n",
      "Data columns (total 8 columns):\n",
      " #   Column              Non-Null Count  Dtype \n",
      "---  ------              --------------  ----- \n",
      " 0   Nome                149 non-null    object\n",
      " 1   Data de Nascimento  149 non-null    object\n",
      " 2   Estado Civil        149 non-null    object\n",
      " 3   Cargo               149 non-null    object\n",
      " 4   Função de Trabalho  149 non-null    object\n",
      " 5   Data de Admissão    149 non-null    object\n",
      " 6   Tipo de Contrato    149 non-null    object\n",
      " 7   Salário             149 non-null    object\n",
      "dtypes: object(8)\n",
      "memory usage: 10.5+ KB\n"
     ]
    }
   ],
   "source": [
    "df.info()"
   ]
  },
  {
   "cell_type": "code",
   "execution_count": 82,
   "metadata": {},
   "outputs": [
    {
     "data": {
      "text/plain": [
       "Nome                  0\n",
       "Data de Nascimento    0\n",
       "Estado Civil          0\n",
       "Cargo                 0\n",
       "Função de Trabalho    0\n",
       "Data de Admissão      0\n",
       "Tipo de Contrato      0\n",
       "Salário               0\n",
       "dtype: int64"
      ]
     },
     "execution_count": 82,
     "metadata": {},
     "output_type": "execute_result"
    }
   ],
   "source": [
    "df.isna().sum()"
   ]
  },
  {
   "cell_type": "markdown",
   "metadata": {},
   "source": [
    "#### Corrigindo Tipo de Dados"
   ]
  },
  {
   "cell_type": "code",
   "execution_count": 10,
   "metadata": {},
   "outputs": [],
   "source": [
    "df['Salário'] = df['Salário'].astype(float).round(2)\n",
    "df['Data de Nascimento'] = pd.to_datetime(df['Data de Nascimento'], format='%d/%m/%Y').dt.floor('d')\n",
    "df['Data de Admissão'] = pd.to_datetime(df['Data de Admissão'], format='%d/%m/%Y').dt.floor('d')"
   ]
  },
  {
   "cell_type": "code",
   "execution_count": 95,
   "metadata": {},
   "outputs": [
    {
     "name": "stdout",
     "output_type": "stream",
     "text": [
      "<class 'pandas.core.frame.DataFrame'>\n",
      "Index: 149 entries, 0 to 0\n",
      "Data columns (total 8 columns):\n",
      " #   Column              Non-Null Count  Dtype         \n",
      "---  ------              --------------  -----         \n",
      " 0   Nome                149 non-null    object        \n",
      " 1   Data de Nascimento  149 non-null    datetime64[ns]\n",
      " 2   Estado Civil        149 non-null    object        \n",
      " 3   Cargo               149 non-null    object        \n",
      " 4   Função de Trabalho  149 non-null    object        \n",
      " 5   Data de Admissão    149 non-null    datetime64[ns]\n",
      " 6   Tipo de Contrato    149 non-null    object        \n",
      " 7   Salário             149 non-null    float64       \n",
      "dtypes: datetime64[ns](2), float64(1), object(5)\n",
      "memory usage: 10.5+ KB\n"
     ]
    }
   ],
   "source": [
    "df.info()"
   ]
  },
  {
   "cell_type": "code",
   "execution_count": 96,
   "metadata": {},
   "outputs": [
    {
     "data": {
      "text/html": [
       "<div>\n",
       "<style scoped>\n",
       "    .dataframe tbody tr th:only-of-type {\n",
       "        vertical-align: middle;\n",
       "    }\n",
       "\n",
       "    .dataframe tbody tr th {\n",
       "        vertical-align: top;\n",
       "    }\n",
       "\n",
       "    .dataframe thead th {\n",
       "        text-align: right;\n",
       "    }\n",
       "</style>\n",
       "<table border=\"1\" class=\"dataframe\">\n",
       "  <thead>\n",
       "    <tr style=\"text-align: right;\">\n",
       "      <th></th>\n",
       "      <th>Nome</th>\n",
       "      <th>Data de Nascimento</th>\n",
       "      <th>Estado Civil</th>\n",
       "      <th>Cargo</th>\n",
       "      <th>Função de Trabalho</th>\n",
       "      <th>Data de Admissão</th>\n",
       "      <th>Tipo de Contrato</th>\n",
       "      <th>Salário</th>\n",
       "    </tr>\n",
       "  </thead>\n",
       "  <tbody>\n",
       "    <tr>\n",
       "      <th>0</th>\n",
       "      <td>Agatha Fogaça</td>\n",
       "      <td>1999-01-16</td>\n",
       "      <td>Viúvo</td>\n",
       "      <td>Junior</td>\n",
       "      <td>Desenvolvedor de Software</td>\n",
       "      <td>2019-04-15</td>\n",
       "      <td>Híbrido</td>\n",
       "      <td>4542.04</td>\n",
       "    </tr>\n",
       "    <tr>\n",
       "      <th>0</th>\n",
       "      <td>Alexandre da Mota</td>\n",
       "      <td>1986-11-10</td>\n",
       "      <td>Casado</td>\n",
       "      <td>Junior</td>\n",
       "      <td>Desenvolvedor de Software</td>\n",
       "      <td>2014-11-27</td>\n",
       "      <td>Híbrido</td>\n",
       "      <td>9955.96</td>\n",
       "    </tr>\n",
       "    <tr>\n",
       "      <th>0</th>\n",
       "      <td>Alexia Aragão</td>\n",
       "      <td>1997-03-19</td>\n",
       "      <td>Casado</td>\n",
       "      <td>Especialista</td>\n",
       "      <td>Engenheiro de Machine Learning e Inteligência ...</td>\n",
       "      <td>2005-07-09</td>\n",
       "      <td>Híbrido</td>\n",
       "      <td>20627.70</td>\n",
       "    </tr>\n",
       "    <tr>\n",
       "      <th>0</th>\n",
       "      <td>Amanda Duarte</td>\n",
       "      <td>1994-06-18</td>\n",
       "      <td>Viúvo</td>\n",
       "      <td>Especialista</td>\n",
       "      <td>Cientista de Dados</td>\n",
       "      <td>2006-07-13</td>\n",
       "      <td>Remoto</td>\n",
       "      <td>18824.55</td>\n",
       "    </tr>\n",
       "    <tr>\n",
       "      <th>0</th>\n",
       "      <td>Amanda Fernandes</td>\n",
       "      <td>1989-09-26</td>\n",
       "      <td>Casado</td>\n",
       "      <td>Junior</td>\n",
       "      <td>Desenvolvedor Full Stack</td>\n",
       "      <td>2023-11-17</td>\n",
       "      <td>Presencial</td>\n",
       "      <td>3511.46</td>\n",
       "    </tr>\n",
       "  </tbody>\n",
       "</table>\n",
       "</div>"
      ],
      "text/plain": [
       "                Nome Data de Nascimento Estado Civil         Cargo  \\\n",
       "0      Agatha Fogaça         1999-01-16        Viúvo        Junior   \n",
       "0  Alexandre da Mota         1986-11-10       Casado        Junior   \n",
       "0      Alexia Aragão         1997-03-19       Casado  Especialista   \n",
       "0      Amanda Duarte         1994-06-18        Viúvo  Especialista   \n",
       "0   Amanda Fernandes         1989-09-26       Casado        Junior   \n",
       "\n",
       "                                  Função de Trabalho Data de Admissão  \\\n",
       "0                          Desenvolvedor de Software       2019-04-15   \n",
       "0                          Desenvolvedor de Software       2014-11-27   \n",
       "0  Engenheiro de Machine Learning e Inteligência ...       2005-07-09   \n",
       "0                                 Cientista de Dados       2006-07-13   \n",
       "0                           Desenvolvedor Full Stack       2023-11-17   \n",
       "\n",
       "  Tipo de Contrato   Salário  \n",
       "0          Híbrido   4542.04  \n",
       "0          Híbrido   9955.96  \n",
       "0          Híbrido  20627.70  \n",
       "0           Remoto  18824.55  \n",
       "0       Presencial   3511.46  "
      ]
     },
     "execution_count": 96,
     "metadata": {},
     "output_type": "execute_result"
    }
   ],
   "source": [
    "df.head()"
   ]
  },
  {
   "cell_type": "markdown",
   "metadata": {},
   "source": [
    "#### Enriquecimento de Dados\n",
    "***"
   ]
  },
  {
   "cell_type": "code",
   "execution_count": 111,
   "metadata": {},
   "outputs": [],
   "source": [
    "df['Idade'] = ((pd.to_datetime('today') - df['Data de Nascimento']).dt.days / 365.25).astype(int)\n",
    "df['Anos de Trabalho'] = ((pd.to_datetime('today') - df['Data de Admissão']).dt.days / 365.25).astype(int)"
   ]
  },
  {
   "cell_type": "code",
   "execution_count": 112,
   "metadata": {},
   "outputs": [
    {
     "data": {
      "text/html": [
       "<div>\n",
       "<style scoped>\n",
       "    .dataframe tbody tr th:only-of-type {\n",
       "        vertical-align: middle;\n",
       "    }\n",
       "\n",
       "    .dataframe tbody tr th {\n",
       "        vertical-align: top;\n",
       "    }\n",
       "\n",
       "    .dataframe thead th {\n",
       "        text-align: right;\n",
       "    }\n",
       "</style>\n",
       "<table border=\"1\" class=\"dataframe\">\n",
       "  <thead>\n",
       "    <tr style=\"text-align: right;\">\n",
       "      <th></th>\n",
       "      <th>Nome</th>\n",
       "      <th>Data de Nascimento</th>\n",
       "      <th>Estado Civil</th>\n",
       "      <th>Cargo</th>\n",
       "      <th>Função de Trabalho</th>\n",
       "      <th>Data de Admissão</th>\n",
       "      <th>Tipo de Contrato</th>\n",
       "      <th>Salário</th>\n",
       "      <th>Idade</th>\n",
       "      <th>Anos de Trabalho</th>\n",
       "    </tr>\n",
       "  </thead>\n",
       "  <tbody>\n",
       "    <tr>\n",
       "      <th>0</th>\n",
       "      <td>Agatha Fogaça</td>\n",
       "      <td>1999-01-16</td>\n",
       "      <td>Viúvo</td>\n",
       "      <td>Junior</td>\n",
       "      <td>Desenvolvedor de Software</td>\n",
       "      <td>2019-04-15</td>\n",
       "      <td>Híbrido</td>\n",
       "      <td>4542.04</td>\n",
       "      <td>25</td>\n",
       "      <td>5</td>\n",
       "    </tr>\n",
       "    <tr>\n",
       "      <th>0</th>\n",
       "      <td>Alexandre da Mota</td>\n",
       "      <td>1986-11-10</td>\n",
       "      <td>Casado</td>\n",
       "      <td>Junior</td>\n",
       "      <td>Desenvolvedor de Software</td>\n",
       "      <td>2014-11-27</td>\n",
       "      <td>Híbrido</td>\n",
       "      <td>9955.96</td>\n",
       "      <td>37</td>\n",
       "      <td>9</td>\n",
       "    </tr>\n",
       "    <tr>\n",
       "      <th>0</th>\n",
       "      <td>Alexia Aragão</td>\n",
       "      <td>1997-03-19</td>\n",
       "      <td>Casado</td>\n",
       "      <td>Especialista</td>\n",
       "      <td>Engenheiro de Machine Learning e Inteligência ...</td>\n",
       "      <td>2005-07-09</td>\n",
       "      <td>Híbrido</td>\n",
       "      <td>20627.70</td>\n",
       "      <td>27</td>\n",
       "      <td>19</td>\n",
       "    </tr>\n",
       "    <tr>\n",
       "      <th>0</th>\n",
       "      <td>Amanda Duarte</td>\n",
       "      <td>1994-06-18</td>\n",
       "      <td>Viúvo</td>\n",
       "      <td>Especialista</td>\n",
       "      <td>Cientista de Dados</td>\n",
       "      <td>2006-07-13</td>\n",
       "      <td>Remoto</td>\n",
       "      <td>18824.55</td>\n",
       "      <td>30</td>\n",
       "      <td>18</td>\n",
       "    </tr>\n",
       "    <tr>\n",
       "      <th>0</th>\n",
       "      <td>Amanda Fernandes</td>\n",
       "      <td>1989-09-26</td>\n",
       "      <td>Casado</td>\n",
       "      <td>Junior</td>\n",
       "      <td>Desenvolvedor Full Stack</td>\n",
       "      <td>2023-11-17</td>\n",
       "      <td>Presencial</td>\n",
       "      <td>3511.46</td>\n",
       "      <td>35</td>\n",
       "      <td>0</td>\n",
       "    </tr>\n",
       "  </tbody>\n",
       "</table>\n",
       "</div>"
      ],
      "text/plain": [
       "                Nome Data de Nascimento Estado Civil         Cargo  \\\n",
       "0      Agatha Fogaça         1999-01-16        Viúvo        Junior   \n",
       "0  Alexandre da Mota         1986-11-10       Casado        Junior   \n",
       "0      Alexia Aragão         1997-03-19       Casado  Especialista   \n",
       "0      Amanda Duarte         1994-06-18        Viúvo  Especialista   \n",
       "0   Amanda Fernandes         1989-09-26       Casado        Junior   \n",
       "\n",
       "                                  Função de Trabalho Data de Admissão  \\\n",
       "0                          Desenvolvedor de Software       2019-04-15   \n",
       "0                          Desenvolvedor de Software       2014-11-27   \n",
       "0  Engenheiro de Machine Learning e Inteligência ...       2005-07-09   \n",
       "0                                 Cientista de Dados       2006-07-13   \n",
       "0                           Desenvolvedor Full Stack       2023-11-17   \n",
       "\n",
       "  Tipo de Contrato   Salário  Idade  Anos de Trabalho  \n",
       "0          Híbrido   4542.04     25                 5  \n",
       "0          Híbrido   9955.96     37                 9  \n",
       "0          Híbrido  20627.70     27                19  \n",
       "0           Remoto  18824.55     30                18  \n",
       "0       Presencial   3511.46     35                 0  "
      ]
     },
     "execution_count": 112,
     "metadata": {},
     "output_type": "execute_result"
    }
   ],
   "source": [
    "df.head()"
   ]
  },
  {
   "cell_type": "markdown",
   "metadata": {},
   "source": [
    "#### Exportando Dados\n",
    "***"
   ]
  },
  {
   "cell_type": "markdown",
   "metadata": {},
   "source": [
    "O Departamento de Recursos Humanos solicitou uma lista de todos os colaboradores que acumularam 10 anos ou mais de experiência na empresa. Esta lista vai identificar os funcionários elegíveis para uma promoção. A listagem deve incluir o nome do colaborador, o tempo de serviço em anos e o salário atual de cada indivíduo.\n",
    "\n",
    "Adicionalmente, como parte do reconhecimento pelos anos dedicados à empresa, foi estabelecido que os funcionários listados receberão uma bonificação equivalente a 10% de seus salários atuais. Essa bonificação será adicionada aos salários atuais dos colaboradores elegíveis como um gesto de apreço pela sua dedicação e contribuição para a empresa."
   ]
  },
  {
   "cell_type": "code",
   "execution_count": 120,
   "metadata": {},
   "outputs": [],
   "source": [
    "colunas = ['Nome', 'Anos de Trabalho', 'Salário']\n",
    "filtro = df['Anos de Trabalho'] >= 10\n",
    "df_promocao = df[filtro][colunas]\n",
    "\n"
   ]
  },
  {
   "cell_type": "code",
   "execution_count": 126,
   "metadata": {},
   "outputs": [
    {
     "data": {
      "text/html": [
       "<div>\n",
       "<style scoped>\n",
       "    .dataframe tbody tr th:only-of-type {\n",
       "        vertical-align: middle;\n",
       "    }\n",
       "\n",
       "    .dataframe tbody tr th {\n",
       "        vertical-align: top;\n",
       "    }\n",
       "\n",
       "    .dataframe thead th {\n",
       "        text-align: right;\n",
       "    }\n",
       "</style>\n",
       "<table border=\"1\" class=\"dataframe\">\n",
       "  <thead>\n",
       "    <tr style=\"text-align: right;\">\n",
       "      <th></th>\n",
       "      <th>Nome</th>\n",
       "      <th>Anos de Trabalho</th>\n",
       "      <th>Salário</th>\n",
       "      <th>Salário Bonificação</th>\n",
       "    </tr>\n",
       "  </thead>\n",
       "  <tbody>\n",
       "    <tr>\n",
       "      <th>0</th>\n",
       "      <td>Alexia Aragão</td>\n",
       "      <td>19</td>\n",
       "      <td>20627.70</td>\n",
       "      <td>22690.47</td>\n",
       "    </tr>\n",
       "    <tr>\n",
       "      <th>0</th>\n",
       "      <td>Amanda Duarte</td>\n",
       "      <td>18</td>\n",
       "      <td>18824.55</td>\n",
       "      <td>20707.00</td>\n",
       "    </tr>\n",
       "    <tr>\n",
       "      <th>0</th>\n",
       "      <td>Ana Carolina Gonçalves</td>\n",
       "      <td>19</td>\n",
       "      <td>7662.56</td>\n",
       "      <td>8428.82</td>\n",
       "    </tr>\n",
       "    <tr>\n",
       "      <th>0</th>\n",
       "      <td>Ana Carolina Sales</td>\n",
       "      <td>22</td>\n",
       "      <td>4784.89</td>\n",
       "      <td>5263.38</td>\n",
       "    </tr>\n",
       "    <tr>\n",
       "      <th>0</th>\n",
       "      <td>Ana Clara Almeida</td>\n",
       "      <td>24</td>\n",
       "      <td>10448.12</td>\n",
       "      <td>11492.93</td>\n",
       "    </tr>\n",
       "  </tbody>\n",
       "</table>\n",
       "</div>"
      ],
      "text/plain": [
       "                     Nome  Anos de Trabalho   Salário  Salário Bonificação\n",
       "0           Alexia Aragão                19  20627.70             22690.47\n",
       "0           Amanda Duarte                18  18824.55             20707.00\n",
       "0  Ana Carolina Gonçalves                19   7662.56              8428.82\n",
       "0      Ana Carolina Sales                22   4784.89              5263.38\n",
       "0       Ana Clara Almeida                24  10448.12             11492.93"
      ]
     },
     "execution_count": 126,
     "metadata": {},
     "output_type": "execute_result"
    }
   ],
   "source": [
    "df_promocao['Salário Bonificação'] = df_promocao['Salário'] * 1.1\n",
    "df_promocao['Salário Bonificação'] = df_promocao['Salário Bonificação'].round(2)\n",
    "df_promocao.head()"
   ]
  },
  {
   "cell_type": "markdown",
   "metadata": {},
   "source": [
    "#### Criação do Diretório Destino da Extração"
   ]
  },
  {
   "cell_type": "code",
   "execution_count": 33,
   "metadata": {},
   "outputs": [],
   "source": [
    "def criar_diretorio(diretorio_destino):\n",
    "    \n",
    "    # Cria a pasta se não existir\n",
    "    if not os.path.exists(diretorio_destino):\n",
    "        os.makedirs(diretorio_destino)\n",
    "    \n",
    "    # Define o caminho completo do arquivo\n",
    "    file_path = os.path.join(diretorio_destino, 'arquivo.csv')\n",
    "    \n",
    "    # Exporta o DataFrame para o arquivo .csv\n",
    "    df.to_csv(file_path, index=False)\n",
    "\n",
    "folder_path = '../datasets/Promoção Colaborador/'\n",
    "criar_diretorio(folder_path)"
   ]
  },
  {
   "cell_type": "code",
   "execution_count": 30,
   "metadata": {},
   "outputs": [],
   "source": []
  }
 ],
 "metadata": {
  "kernelspec": {
   "display_name": "Python 3",
   "language": "python",
   "name": "python3"
  },
  "language_info": {
   "codemirror_mode": {
    "name": "ipython",
    "version": 3
   },
   "file_extension": ".py",
   "mimetype": "text/x-python",
   "name": "python",
   "nbconvert_exporter": "python",
   "pygments_lexer": "ipython3",
   "version": "3.12.6"
  }
 },
 "nbformat": 4,
 "nbformat_minor": 2
}
